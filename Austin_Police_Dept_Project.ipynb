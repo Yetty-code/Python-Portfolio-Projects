{
 "cells": [
  {
   "cell_type": "markdown",
   "id": "278c8c77",
   "metadata": {},
   "source": [
    "# Python Project : Austin Police Department Analysis"
   ]
  },
  {
   "cell_type": "markdown",
   "id": "0b3b4dff",
   "metadata": {},
   "source": [
    "## Problem Statement\n",
    "\n",
    "You are a data analyst for the Austin Police Department (APD), responsible for examining over 1.76 million 911 calls to improve response times, identify critical incidents, assess mental health impacts, and report on the effectiveness of resource allocation. Your task is to use python to analyze trends, performance metrics, and safety issues, helping to enhance both officer and community safety.\n",
    "1. Improving Response Times\n",
    "Problem: The department wants to understand the factors that affect response times. You are tasked with identifying patterns where response times are high and suggesting changes to reduce these times.\n",
    "2. Identifying Mental Health-Related Incidents\n",
    "Problem: The city council is concerned about mental health-related incidents and wants a report detailing how often these incidents occur, their outcomes, and any patterns.\n",
    "3. Assessing Resource Allocation and Unit Efficiency\n",
    "Problem: The APD needs to optimize the number of units dispatched to incidents, ensuring enough officers are present without over-allocating resources.\n",
    "4. Analyzing Incidents by Day of Week and Hour\n",
    "Problem: The department wants to understand peak times for different types of incidents to adjust patrol schedules accordingly.\n",
    "5. Monitoring High-Priority Incidents\n",
    "Problem: High-priority incidents (priority level 0 or 1) need special attention to ensure that they are being handled efficiently. The APD wants a report showing these incidents, their outcomes, and any injuries sustained by officers or civilians.\n",
    "6. Geospatial Analysis of Incident Locations\n",
    "Problem: The APD wants to understand how incidents are distributed across different council districts and census block groups to better allocate resources.\n",
    "\n",
    "## Data Dictionary\n",
    "\n",
    "* incident_number : An unique integer identifying a computer-aided dispatch incident, consisting of a two-digit year number, three-digit day-of-year and four-digit incident-count number.\n",
    "* incident_type: A flag indicating whether a given incident was dispatched or officer-initiated. Dispatched incidents are received via 911 calls while officer-initiated incidents are created by officers in the field.\n",
    "* mental_health_flag : A flag indicating whether a given incident was mental-health related or not.\n",
    "* priority_level: The priority level assigned to the incident at the time of the first officer's arrival. Priority levels range between 0 and 4, with 0 being the highest priority and 4 being the lowest priority.\n",
    "* response_datetime: The date and time that the 911 call-takers Emergency Call Taker (ECT) screen opened following the 911 call being answered in the case of dispatched incidents.\n",
    "* response_day_of_week: The three-character day of week of the Response Datetime.\n",
    "* response_hour: An integer representing the hour of day of the Response Datetime.\n",
    "* first_unit_arrived_datetime: The date and time that the first APD unit arrived on scene to the incident.\n",
    "* call_closed_datetime: The date and time that the incident was closed, indicating that all units have left the scene and it is no longer active.\n",
    "* sector: The Austin Police Department patrol sector where the incident occurred.\n",
    "* initial_problem_description: A preliminary description of the problem meant to be addressed by the CAD incident based on either the information given to the 911 call taker in the case of dispatched incidents, or information collected by officers in the case of officer-initiated incidents. \n",
    "* initial_problem_category: A general category describing the problem that the CAD incident was meant to address based on the Initial Problem Description value.\n",
    "* final_problem_description: A description of the ultimate issue that was meant to be addressed by the CAD incident. \n",
    "* final_problem_category: A general category describing the problem that the CAD incident was meant to address based on the Final Problem Description value.\n",
    "* number_of_units_arrived: A count of the number of APD units that arrived on scene in response to the CAD incident. \n",
    "* unit_time_on_scene: The total amount of time spent on scene by all APD units in seconds.\n",
    "* call_disposition_description: A description of the outcome of the call.\n",
    "* report_written_flag: A flag indicating that a responding unit wrote a report in the Records Management System based on this CAD incident. \n",
    "* response_time: The amount of time between when the 911 call was answered when the first officer arrived on scene in seconds. Please note that this field is not applicable to officer-initiated incidents and is left blank for such incidents.\n",
    "* officer_injured_killed_count: A count of officers seriously injured or killed in a use of force related to this CAD incident where the subject of the use of force was a person with mental illness.\n",
    "* subject_injured_killed_count: A count of the subjects of a use of force who were seriously injured or killed in a use of force related to this CAD incident where those subjects had a mental illness.\n",
    "* other_injured_killed_count: The number of persons seriously injured or killed in an incident related to this CAD incident where there was also a use of force against an individual with mental illness where either the subject of that use of force or the officer involved in that use of force were seriously injured or killed.\n",
    "* geoid: A Census Block Group identifier; a concatenation of the current state FIPS code, county FIPS code, census tract code, and block group number.\n",
    "* council_district: The council district where the offense occurred.\n",
    "\n"
   ]
  },
  {
   "cell_type": "markdown",
   "id": "dc6e6e95",
   "metadata": {},
   "source": [
    "## Import all the necessary libraries "
   ]
  },
  {
   "cell_type": "code",
   "execution_count": 1,
   "id": "22292b67",
   "metadata": {},
   "outputs": [],
   "source": [
    "# import libraries for data manipulation\n",
    "import numpy as np\n",
    "import pandas as pd\n",
    "\n",
    "# import libraries for data visualization\n",
    "import matplotlib.pyplot as plt\n",
    "import seaborn  as sns\n",
    "\n",
    "import warnings\n",
    "warnings.filterwarnings('ignore')\n",
    "\n",
    "%matplotlib inline\n",
    "# round to two decimal places\n",
    "pd.options.display.float_format = '{:.2f}'.format"
   ]
  },
  {
   "cell_type": "markdown",
   "id": "ecbad55e",
   "metadata": {},
   "source": [
    "## Upload the data set"
   ]
  },
  {
   "cell_type": "code",
   "execution_count": 2,
   "id": "9074fae1",
   "metadata": {},
   "outputs": [
    {
     "data": {
      "text/html": [
       "<div>\n",
       "<style scoped>\n",
       "    .dataframe tbody tr th:only-of-type {\n",
       "        vertical-align: middle;\n",
       "    }\n",
       "\n",
       "    .dataframe tbody tr th {\n",
       "        vertical-align: top;\n",
       "    }\n",
       "\n",
       "    .dataframe thead th {\n",
       "        text-align: right;\n",
       "    }\n",
       "</style>\n",
       "<table border=\"1\" class=\"dataframe\">\n",
       "  <thead>\n",
       "    <tr style=\"text-align: right;\">\n",
       "      <th></th>\n",
       "      <th>Incident Number</th>\n",
       "      <th>Incident Type</th>\n",
       "      <th>Mental Health Flag</th>\n",
       "      <th>Priority Level</th>\n",
       "      <th>Response Datetime</th>\n",
       "      <th>Response Day of Week</th>\n",
       "      <th>Response Hour</th>\n",
       "      <th>First Unit Arrived Datetime</th>\n",
       "      <th>Call Closed Datetime</th>\n",
       "      <th>Sector</th>\n",
       "      <th>...</th>\n",
       "      <th>Unit Time on Scene</th>\n",
       "      <th>Call Disposition Description</th>\n",
       "      <th>Report Written Flag</th>\n",
       "      <th>Response Time</th>\n",
       "      <th>Officer Injured/Killed Count</th>\n",
       "      <th>Subject Injured/Killed Count</th>\n",
       "      <th>Other Injured/Killed Count</th>\n",
       "      <th>Geo ID</th>\n",
       "      <th>Census Block Group</th>\n",
       "      <th>Council District</th>\n",
       "    </tr>\n",
       "  </thead>\n",
       "  <tbody>\n",
       "    <tr>\n",
       "      <th>0</th>\n",
       "      <td>242741642</td>\n",
       "      <td>Dispatched Incident</td>\n",
       "      <td>Not Mental Health Incident</td>\n",
       "      <td>Priority 0</td>\n",
       "      <td>9/30/2024 23:55</td>\n",
       "      <td>Mon</td>\n",
       "      <td>23.00</td>\n",
       "      <td>9/30/2024 23:58</td>\n",
       "      <td>10/1/2024 1:22</td>\n",
       "      <td>Edward</td>\n",
       "      <td>...</td>\n",
       "      <td>9989.00</td>\n",
       "      <td>No Report</td>\n",
       "      <td>No</td>\n",
       "      <td>222.00</td>\n",
       "      <td>0.00</td>\n",
       "      <td>0.00</td>\n",
       "      <td>0.00</td>\n",
       "      <td>484530000000.00</td>\n",
       "      <td>4530409002.00</td>\n",
       "      <td>4.00</td>\n",
       "    </tr>\n",
       "    <tr>\n",
       "      <th>1</th>\n",
       "      <td>242741639</td>\n",
       "      <td>Dispatched Incident</td>\n",
       "      <td>Not Mental Health Incident</td>\n",
       "      <td>Priority 2</td>\n",
       "      <td>9/30/2024 23:54</td>\n",
       "      <td>Mon</td>\n",
       "      <td>23.00</td>\n",
       "      <td>10/1/2024 0:13</td>\n",
       "      <td>10/1/2024 0:18</td>\n",
       "      <td>David</td>\n",
       "      <td>...</td>\n",
       "      <td>611.00</td>\n",
       "      <td>No Report</td>\n",
       "      <td>No</td>\n",
       "      <td>1327.00</td>\n",
       "      <td>0.00</td>\n",
       "      <td>0.00</td>\n",
       "      <td>0.00</td>\n",
       "      <td>484530000000.00</td>\n",
       "      <td>4530013081.00</td>\n",
       "      <td>3.00</td>\n",
       "    </tr>\n",
       "    <tr>\n",
       "      <th>2</th>\n",
       "      <td>242741640</td>\n",
       "      <td>Dispatched Incident</td>\n",
       "      <td>Not Mental Health Incident</td>\n",
       "      <td>Priority 2</td>\n",
       "      <td>9/30/2024 23:54</td>\n",
       "      <td>Mon</td>\n",
       "      <td>23.00</td>\n",
       "      <td>9/30/2024 23:58</td>\n",
       "      <td>10/1/2024 0:50</td>\n",
       "      <td>Ida</td>\n",
       "      <td>...</td>\n",
       "      <td>3112.00</td>\n",
       "      <td>False Alarm</td>\n",
       "      <td>No</td>\n",
       "      <td>243.00</td>\n",
       "      <td>0.00</td>\n",
       "      <td>0.00</td>\n",
       "      <td>0.00</td>\n",
       "      <td>484530000000.00</td>\n",
       "      <td>4530434002.00</td>\n",
       "      <td>4.00</td>\n",
       "    </tr>\n",
       "    <tr>\n",
       "      <th>3</th>\n",
       "      <td>242741638</td>\n",
       "      <td>Dispatched Incident</td>\n",
       "      <td>Mental Health Incident</td>\n",
       "      <td>Priority 3</td>\n",
       "      <td>9/30/2024 23:54</td>\n",
       "      <td>Mon</td>\n",
       "      <td>23.00</td>\n",
       "      <td>10/1/2024 1:23</td>\n",
       "      <td>10/1/2024 1:23</td>\n",
       "      <td>Edward</td>\n",
       "      <td>...</td>\n",
       "      <td>4.00</td>\n",
       "      <td>No Report</td>\n",
       "      <td>No</td>\n",
       "      <td>5503.00</td>\n",
       "      <td>0.00</td>\n",
       "      <td>0.00</td>\n",
       "      <td>0.00</td>\n",
       "      <td>484530000000.00</td>\n",
       "      <td>4530442001.00</td>\n",
       "      <td>7.00</td>\n",
       "    </tr>\n",
       "    <tr>\n",
       "      <th>4</th>\n",
       "      <td>242741637</td>\n",
       "      <td>Dispatched Incident</td>\n",
       "      <td>Not Mental Health Incident</td>\n",
       "      <td>Priority 2</td>\n",
       "      <td>9/30/2024 23:54</td>\n",
       "      <td>Mon</td>\n",
       "      <td>23.00</td>\n",
       "      <td>9/30/2024 23:58</td>\n",
       "      <td>10/1/2024 0:43</td>\n",
       "      <td>Frank</td>\n",
       "      <td>...</td>\n",
       "      <td>6063.00</td>\n",
       "      <td>No Report</td>\n",
       "      <td>No</td>\n",
       "      <td>335.00</td>\n",
       "      <td>0.00</td>\n",
       "      <td>0.00</td>\n",
       "      <td>0.00</td>\n",
       "      <td>484530000000.00</td>\n",
       "      <td>4530024223.00</td>\n",
       "      <td>2.00</td>\n",
       "    </tr>\n",
       "  </tbody>\n",
       "</table>\n",
       "<p>5 rows × 25 columns</p>\n",
       "</div>"
      ],
      "text/plain": [
       "  Incident Number        Incident Type          Mental Health Flag  \\\n",
       "0       242741642  Dispatched Incident  Not Mental Health Incident   \n",
       "1       242741639  Dispatched Incident  Not Mental Health Incident   \n",
       "2       242741640  Dispatched Incident  Not Mental Health Incident   \n",
       "3       242741638  Dispatched Incident      Mental Health Incident   \n",
       "4       242741637  Dispatched Incident  Not Mental Health Incident   \n",
       "\n",
       "  Priority Level Response Datetime Response Day of Week  Response Hour  \\\n",
       "0     Priority 0   9/30/2024 23:55                  Mon          23.00   \n",
       "1     Priority 2   9/30/2024 23:54                  Mon          23.00   \n",
       "2     Priority 2   9/30/2024 23:54                  Mon          23.00   \n",
       "3     Priority 3   9/30/2024 23:54                  Mon          23.00   \n",
       "4     Priority 2   9/30/2024 23:54                  Mon          23.00   \n",
       "\n",
       "  First Unit Arrived Datetime Call Closed Datetime  Sector  ...  \\\n",
       "0             9/30/2024 23:58       10/1/2024 1:22  Edward  ...   \n",
       "1              10/1/2024 0:13       10/1/2024 0:18   David  ...   \n",
       "2             9/30/2024 23:58       10/1/2024 0:50     Ida  ...   \n",
       "3              10/1/2024 1:23       10/1/2024 1:23  Edward  ...   \n",
       "4             9/30/2024 23:58       10/1/2024 0:43   Frank  ...   \n",
       "\n",
       "  Unit Time on Scene Call Disposition Description Report Written Flag  \\\n",
       "0            9989.00                    No Report                  No   \n",
       "1             611.00                    No Report                  No   \n",
       "2            3112.00                  False Alarm                  No   \n",
       "3               4.00                    No Report                  No   \n",
       "4            6063.00                    No Report                  No   \n",
       "\n",
       "  Response Time  Officer Injured/Killed Count  Subject Injured/Killed Count  \\\n",
       "0        222.00                          0.00                          0.00   \n",
       "1       1327.00                          0.00                          0.00   \n",
       "2        243.00                          0.00                          0.00   \n",
       "3       5503.00                          0.00                          0.00   \n",
       "4        335.00                          0.00                          0.00   \n",
       "\n",
       "  Other Injured/Killed Count          Geo ID  Census Block Group  \\\n",
       "0                       0.00 484530000000.00       4530409002.00   \n",
       "1                       0.00 484530000000.00       4530013081.00   \n",
       "2                       0.00 484530000000.00       4530434002.00   \n",
       "3                       0.00 484530000000.00       4530442001.00   \n",
       "4                       0.00 484530000000.00       4530024223.00   \n",
       "\n",
       "   Council District  \n",
       "0              4.00  \n",
       "1              3.00  \n",
       "2              4.00  \n",
       "3              7.00  \n",
       "4              2.00  \n",
       "\n",
       "[5 rows x 25 columns]"
      ]
     },
     "execution_count": 2,
     "metadata": {},
     "output_type": "execute_result"
    }
   ],
   "source": [
    "df = pd.read_csv('APDservice_copy.csv')\n",
    "\n",
    "# return the first 5 rows of the data set\n",
    "df.head()"
   ]
  },
  {
   "cell_type": "code",
   "execution_count": 3,
   "id": "5b4acb08",
   "metadata": {},
   "outputs": [
    {
     "data": {
      "text/plain": [
       "(952832, 25)"
      ]
     },
     "execution_count": 3,
     "metadata": {},
     "output_type": "execute_result"
    }
   ],
   "source": [
    "# let's find out the number of rows and columns in the data\n",
    "df.shape"
   ]
  },
  {
   "cell_type": "markdown",
   "id": "2ca9b51a",
   "metadata": {},
   "source": [
    "- There are 952832 rows and 25 columns in the data"
   ]
  },
  {
   "cell_type": "code",
   "execution_count": 4,
   "id": "4689759a",
   "metadata": {},
   "outputs": [
    {
     "data": {
      "text/plain": [
       "Index(['Incident Number', 'Incident Type', 'Mental Health Flag',\n",
       "       'Priority Level', 'Response Datetime', 'Response Day of Week',\n",
       "       'Response Hour', 'First Unit Arrived Datetime', 'Call Closed Datetime',\n",
       "       'Sector', 'Initial Problem Description', 'Initial Problem Category',\n",
       "       'Final Problem Description', 'Final Problem Category',\n",
       "       'Number of Units Arrived', 'Unit Time on Scene',\n",
       "       'Call Disposition Description', 'Report Written Flag', 'Response Time',\n",
       "       'Officer Injured/Killed Count', 'Subject Injured/Killed Count',\n",
       "       'Other Injured/Killed Count', 'Geo ID', 'Census Block Group',\n",
       "       'Council District'],\n",
       "      dtype='object')"
      ]
     },
     "execution_count": 4,
     "metadata": {},
     "output_type": "execute_result"
    }
   ],
   "source": [
    "# let's check the columns in the data\n",
    "df.columns"
   ]
  },
  {
   "cell_type": "code",
   "execution_count": 5,
   "id": "75df77f2",
   "metadata": {},
   "outputs": [],
   "source": [
    "# let's rename the column\n",
    "df.columns = ['Incident_Number', 'Incident_Type', 'Mental_Health_Flag',\n",
    "       'Priority_Level', 'Response_Datetime', 'Response_Day_of_Week',\n",
    "       'Response_Hour', 'First_Unit_Arrived_Datetime', 'Call_Closed_Datetime',\n",
    "       'Sector', 'Initial_Problem_Descrip', 'Initial_Problem_Category',\n",
    "       'Final_Problem_Descrip', 'Final_Problem_Category',\n",
    "       'Number_of_Units_Arrived', 'Unit_Time_on_Scene',\n",
    "       'Call_Disposition_Descrip', 'Report_Written_Flag', 'Response_Time',\n",
    "       'Officer_Injured/Killed_Cnt', 'Subject_Injured/Killed_Cnt',\n",
    "       'Other_Injured/Killed_Cnt', 'Geo_ID', 'Census_Block_Grp',\n",
    "       'Council_District']"
   ]
  },
  {
   "cell_type": "code",
   "execution_count": 6,
   "id": "3009284e",
   "metadata": {},
   "outputs": [
    {
     "data": {
      "text/plain": [
       "Index(['Incident_Number', 'Incident_Type', 'Mental_Health_Flag',\n",
       "       'Priority_Level', 'Response_Datetime', 'Response_Day_of_Week',\n",
       "       'Response_Hour', 'First_Unit_Arrived_Datetime', 'Call_Closed_Datetime',\n",
       "       'Sector', 'Initial_Problem_Descrip', 'Initial_Problem_Category',\n",
       "       'Final_Problem_Descrip', 'Final_Problem_Category',\n",
       "       'Number_of_Units_Arrived', 'Unit_Time_on_Scene',\n",
       "       'Call_Disposition_Descrip', 'Report_Written_Flag', 'Response_Time',\n",
       "       'Officer_Injured/Killed_Cnt', 'Subject_Injured/Killed_Cnt',\n",
       "       'Other_Injured/Killed_Cnt', 'Geo_ID', 'Census_Block_Grp',\n",
       "       'Council_District'],\n",
       "      dtype='object')"
      ]
     },
     "execution_count": 6,
     "metadata": {},
     "output_type": "execute_result"
    }
   ],
   "source": [
    "# let's check if it has been changed\n",
    "df.columns"
   ]
  },
  {
   "cell_type": "code",
   "execution_count": 7,
   "id": "69f7ff45",
   "metadata": {},
   "outputs": [
    {
     "name": "stdout",
     "output_type": "stream",
     "text": [
      "<class 'pandas.core.frame.DataFrame'>\n",
      "RangeIndex: 952832 entries, 0 to 952831\n",
      "Data columns (total 25 columns):\n",
      " #   Column                       Non-Null Count   Dtype  \n",
      "---  ------                       --------------   -----  \n",
      " 0   Incident_Number              952832 non-null  object \n",
      " 1   Incident_Type                952828 non-null  object \n",
      " 2   Mental_Health_Flag           952828 non-null  object \n",
      " 3   Priority_Level               952828 non-null  object \n",
      " 4   Response_Datetime            952828 non-null  object \n",
      " 5   Response_Day_of_Week         952828 non-null  object \n",
      " 6   Response_Hour                952828 non-null  float64\n",
      " 7   First_Unit_Arrived_Datetime  952828 non-null  object \n",
      " 8   Call_Closed_Datetime         952828 non-null  object \n",
      " 9   Sector                       952828 non-null  object \n",
      " 10  Initial_Problem_Descrip      952828 non-null  object \n",
      " 11  Initial_Problem_Category     952828 non-null  object \n",
      " 12  Final_Problem_Descrip        952828 non-null  object \n",
      " 13  Final_Problem_Category       952828 non-null  object \n",
      " 14  Number_of_Units_Arrived      952828 non-null  float64\n",
      " 15  Unit_Time_on_Scene           952808 non-null  float64\n",
      " 16  Call_Disposition_Descrip     952828 non-null  object \n",
      " 17  Report_Written_Flag          952827 non-null  object \n",
      " 18  Response_Time                952827 non-null  float64\n",
      " 19  Officer_Injured/Killed_Cnt   952827 non-null  float64\n",
      " 20  Subject_Injured/Killed_Cnt   952827 non-null  float64\n",
      " 21  Other_Injured/Killed_Cnt     952827 non-null  float64\n",
      " 22  Geo_ID                       952824 non-null  float64\n",
      " 23  Census_Block_Grp             952824 non-null  float64\n",
      " 24  Council_District             952827 non-null  float64\n",
      "dtypes: float64(10), object(15)\n",
      "memory usage: 181.7+ MB\n"
     ]
    }
   ],
   "source": [
    "# to check the data types of each column\n",
    "df.info()"
   ]
  },
  {
   "cell_type": "markdown",
   "id": "0e8584ee",
   "metadata": {},
   "source": [
    "* The `Response_Datetime`is in object data type, we need to convert to datetime format.\n",
    "* The `First_Unit_Arrived_Datetime`is in object data type, we need to convert to datetime format.\n",
    "* The `Call_Closed_Datetime`is in object data type, we need to convert to datetime format. \n",
    "* The `Council_District` is in float, we need to convert to object.\n",
    "* There are also missing values in each of the columns."
   ]
  },
  {
   "cell_type": "code",
   "execution_count": 8,
   "id": "9ddf2780",
   "metadata": {},
   "outputs": [
    {
     "data": {
      "text/html": [
       "<div>\n",
       "<style scoped>\n",
       "    .dataframe tbody tr th:only-of-type {\n",
       "        vertical-align: middle;\n",
       "    }\n",
       "\n",
       "    .dataframe tbody tr th {\n",
       "        vertical-align: top;\n",
       "    }\n",
       "\n",
       "    .dataframe thead th {\n",
       "        text-align: right;\n",
       "    }\n",
       "</style>\n",
       "<table border=\"1\" class=\"dataframe\">\n",
       "  <thead>\n",
       "    <tr style=\"text-align: right;\">\n",
       "      <th></th>\n",
       "      <th>Response_Hour</th>\n",
       "      <th>Number_of_Units_Arrived</th>\n",
       "      <th>Unit_Time_on_Scene</th>\n",
       "      <th>Response_Time</th>\n",
       "      <th>Officer_Injured/Killed_Cnt</th>\n",
       "      <th>Subject_Injured/Killed_Cnt</th>\n",
       "      <th>Other_Injured/Killed_Cnt</th>\n",
       "      <th>Geo_ID</th>\n",
       "      <th>Census_Block_Grp</th>\n",
       "      <th>Council_District</th>\n",
       "    </tr>\n",
       "  </thead>\n",
       "  <tbody>\n",
       "    <tr>\n",
       "      <th>count</th>\n",
       "      <td>952828.00</td>\n",
       "      <td>952828.00</td>\n",
       "      <td>952808.00</td>\n",
       "      <td>952827.00</td>\n",
       "      <td>952827.00</td>\n",
       "      <td>952827.00</td>\n",
       "      <td>952827.00</td>\n",
       "      <td>952824.00</td>\n",
       "      <td>952824.00</td>\n",
       "      <td>952827.00</td>\n",
       "    </tr>\n",
       "    <tr>\n",
       "      <th>mean</th>\n",
       "      <td>12.83</td>\n",
       "      <td>1.93</td>\n",
       "      <td>6090.61</td>\n",
       "      <td>2254.09</td>\n",
       "      <td>0.00</td>\n",
       "      <td>0.00</td>\n",
       "      <td>0.00</td>\n",
       "      <td>484544687864.71</td>\n",
       "      <td>4544831290.56</td>\n",
       "      <td>4.89</td>\n",
       "    </tr>\n",
       "    <tr>\n",
       "      <th>std</th>\n",
       "      <td>6.68</td>\n",
       "      <td>1.44</td>\n",
       "      <td>13578.25</td>\n",
       "      <td>4421.83</td>\n",
       "      <td>0.00</td>\n",
       "      <td>0.00</td>\n",
       "      <td>0.00</td>\n",
       "      <td>77185821.71</td>\n",
       "      <td>77196812.36</td>\n",
       "      <td>2.87</td>\n",
       "    </tr>\n",
       "    <tr>\n",
       "      <th>min</th>\n",
       "      <td>0.00</td>\n",
       "      <td>1.00</td>\n",
       "      <td>0.00</td>\n",
       "      <td>0.00</td>\n",
       "      <td>0.00</td>\n",
       "      <td>0.00</td>\n",
       "      <td>0.00</td>\n",
       "      <td>482090000000.00</td>\n",
       "      <td>2090109121.00</td>\n",
       "      <td>0.00</td>\n",
       "    </tr>\n",
       "    <tr>\n",
       "      <th>25%</th>\n",
       "      <td>8.00</td>\n",
       "      <td>1.00</td>\n",
       "      <td>1005.00</td>\n",
       "      <td>448.00</td>\n",
       "      <td>0.00</td>\n",
       "      <td>0.00</td>\n",
       "      <td>0.00</td>\n",
       "      <td>484530000000.00</td>\n",
       "      <td>4530015041.00</td>\n",
       "      <td>3.00</td>\n",
       "    </tr>\n",
       "    <tr>\n",
       "      <th>50%</th>\n",
       "      <td>14.00</td>\n",
       "      <td>2.00</td>\n",
       "      <td>2931.00</td>\n",
       "      <td>832.00</td>\n",
       "      <td>0.00</td>\n",
       "      <td>0.00</td>\n",
       "      <td>0.00</td>\n",
       "      <td>484530000000.00</td>\n",
       "      <td>4530024111.00</td>\n",
       "      <td>4.00</td>\n",
       "    </tr>\n",
       "    <tr>\n",
       "      <th>75%</th>\n",
       "      <td>18.00</td>\n",
       "      <td>2.00</td>\n",
       "      <td>6767.00</td>\n",
       "      <td>2050.00</td>\n",
       "      <td>0.00</td>\n",
       "      <td>0.00</td>\n",
       "      <td>0.00</td>\n",
       "      <td>484530000000.00</td>\n",
       "      <td>4530403003.00</td>\n",
       "      <td>7.00</td>\n",
       "    </tr>\n",
       "    <tr>\n",
       "      <th>max</th>\n",
       "      <td>23.00</td>\n",
       "      <td>101.00</td>\n",
       "      <td>2460453.00</td>\n",
       "      <td>182878.00</td>\n",
       "      <td>1.00</td>\n",
       "      <td>1.00</td>\n",
       "      <td>0.00</td>\n",
       "      <td>484910000000.00</td>\n",
       "      <td>4910206022.00</td>\n",
       "      <td>10.00</td>\n",
       "    </tr>\n",
       "  </tbody>\n",
       "</table>\n",
       "</div>"
      ],
      "text/plain": [
       "       Response_Hour  Number_of_Units_Arrived  Unit_Time_on_Scene  \\\n",
       "count      952828.00                952828.00           952808.00   \n",
       "mean           12.83                     1.93             6090.61   \n",
       "std             6.68                     1.44            13578.25   \n",
       "min             0.00                     1.00                0.00   \n",
       "25%             8.00                     1.00             1005.00   \n",
       "50%            14.00                     2.00             2931.00   \n",
       "75%            18.00                     2.00             6767.00   \n",
       "max            23.00                   101.00          2460453.00   \n",
       "\n",
       "       Response_Time  Officer_Injured/Killed_Cnt  Subject_Injured/Killed_Cnt  \\\n",
       "count      952827.00                   952827.00                   952827.00   \n",
       "mean         2254.09                        0.00                        0.00   \n",
       "std          4421.83                        0.00                        0.00   \n",
       "min             0.00                        0.00                        0.00   \n",
       "25%           448.00                        0.00                        0.00   \n",
       "50%           832.00                        0.00                        0.00   \n",
       "75%          2050.00                        0.00                        0.00   \n",
       "max        182878.00                        1.00                        1.00   \n",
       "\n",
       "       Other_Injured/Killed_Cnt          Geo_ID  Census_Block_Grp  \\\n",
       "count                 952827.00       952824.00         952824.00   \n",
       "mean                       0.00 484544687864.71     4544831290.56   \n",
       "std                        0.00     77185821.71       77196812.36   \n",
       "min                        0.00 482090000000.00     2090109121.00   \n",
       "25%                        0.00 484530000000.00     4530015041.00   \n",
       "50%                        0.00 484530000000.00     4530024111.00   \n",
       "75%                        0.00 484530000000.00     4530403003.00   \n",
       "max                        0.00 484910000000.00     4910206022.00   \n",
       "\n",
       "       Council_District  \n",
       "count         952827.00  \n",
       "mean               4.89  \n",
       "std                2.87  \n",
       "min                0.00  \n",
       "25%                3.00  \n",
       "50%                4.00  \n",
       "75%                7.00  \n",
       "max               10.00  "
      ]
     },
     "execution_count": 8,
     "metadata": {},
     "output_type": "execute_result"
    }
   ],
   "source": [
    "# check the statistical summary\n",
    "df.describe()"
   ]
  },
  {
   "cell_type": "markdown",
   "id": "bc0b1215",
   "metadata": {},
   "source": [
    "* Observations:\n",
    "- The response hour ranges from 0:00 to 23:00(11pm). The average response hour is approximately 13:00.\n",
    "- The number of units arrived on scene ranges between 1 and 101 units. There are outliers present in this column.\n",
    "- The average number of units arrived on scene is approximately 2 units.\n",
    "- The mean amount of time spent on scene by all units is 6091 seconds.\n",
    "- The average response time is 2254 seconds."
   ]
  },
  {
   "cell_type": "code",
   "execution_count": 9,
   "id": "1e5510ba",
   "metadata": {},
   "outputs": [],
   "source": [
    "# From df.info(), we noticed that there are some columns with the wrong data types.\n",
    "# let's convert them\n",
    "# convert `Response_Datetime` column to datatime function using pd.to_datetime\n",
    "df['Response_Datetime'] = pd.to_datetime(df['Response_Datetime'], format='%m/%d/%Y %H:%M')\n",
    "\n",
    "# convert `First_Unit_Arrived_Datetime` column to datetime function\n",
    "df['First_Unit_Arrived_Datetime'] = pd.to_datetime(df['First_Unit_Arrived_Datetime'], format='%m/%d/%Y %H:%M')\n",
    "\n",
    "# convert `Call_Closed_Datetime ` column to datetime function\n",
    "df['Call_Closed_Datetime'] = pd.to_datetime(df['Call_Closed_Datetime'], format='%m/%d/%Y %H:%M')"
   ]
  },
  {
   "cell_type": "code",
   "execution_count": 10,
   "id": "1c9fb26c",
   "metadata": {},
   "outputs": [
    {
     "data": {
      "text/plain": [
       "Incident_Number                        object\n",
       "Incident_Type                          object\n",
       "Mental_Health_Flag                     object\n",
       "Priority_Level                         object\n",
       "Response_Datetime              datetime64[ns]\n",
       "Response_Day_of_Week                   object\n",
       "Response_Hour                         float64\n",
       "First_Unit_Arrived_Datetime    datetime64[ns]\n",
       "Call_Closed_Datetime           datetime64[ns]\n",
       "Sector                                 object\n",
       "Initial_Problem_Descrip                object\n",
       "Initial_Problem_Category               object\n",
       "Final_Problem_Descrip                  object\n",
       "Final_Problem_Category                 object\n",
       "Number_of_Units_Arrived               float64\n",
       "Unit_Time_on_Scene                    float64\n",
       "Call_Disposition_Descrip               object\n",
       "Report_Written_Flag                    object\n",
       "Response_Time                         float64\n",
       "Officer_Injured/Killed_Cnt            float64\n",
       "Subject_Injured/Killed_Cnt            float64\n",
       "Other_Injured/Killed_Cnt              float64\n",
       "Geo_ID                                float64\n",
       "Census_Block_Grp                      float64\n",
       "Council_District                      float64\n",
       "dtype: object"
      ]
     },
     "execution_count": 10,
     "metadata": {},
     "output_type": "execute_result"
    }
   ],
   "source": [
    "# let's check data type\n",
    "df.dtypes"
   ]
  },
  {
   "cell_type": "code",
   "execution_count": 11,
   "id": "edfc0a32",
   "metadata": {},
   "outputs": [
    {
     "data": {
      "text/plain": [
       "array([ 4.,  3.,  7.,  2., 10.,  9.,  8.,  5.,  1.,  6.,  0., nan])"
      ]
     },
     "execution_count": 11,
     "metadata": {},
     "output_type": "execute_result"
    }
   ],
   "source": [
    "# let's check the unique values in the `Council_District` column\n",
    "df['Council_District'].unique()"
   ]
  },
  {
   "cell_type": "code",
   "execution_count": 12,
   "id": "1ebe7ebe",
   "metadata": {},
   "outputs": [],
   "source": [
    "# Let's convert the `Council_District` column to a string \n",
    "df['Council_District'] = df['Council_District'].astype(str)"
   ]
  },
  {
   "cell_type": "code",
   "execution_count": 13,
   "id": "809b8188",
   "metadata": {},
   "outputs": [
    {
     "name": "stdout",
     "output_type": "stream",
     "text": [
      "<class 'pandas.core.frame.DataFrame'>\n",
      "RangeIndex: 952832 entries, 0 to 952831\n",
      "Data columns (total 25 columns):\n",
      " #   Column                       Non-Null Count   Dtype         \n",
      "---  ------                       --------------   -----         \n",
      " 0   Incident_Number              952832 non-null  object        \n",
      " 1   Incident_Type                952828 non-null  object        \n",
      " 2   Mental_Health_Flag           952828 non-null  object        \n",
      " 3   Priority_Level               952828 non-null  object        \n",
      " 4   Response_Datetime            952828 non-null  datetime64[ns]\n",
      " 5   Response_Day_of_Week         952828 non-null  object        \n",
      " 6   Response_Hour                952828 non-null  float64       \n",
      " 7   First_Unit_Arrived_Datetime  952828 non-null  datetime64[ns]\n",
      " 8   Call_Closed_Datetime         952828 non-null  datetime64[ns]\n",
      " 9   Sector                       952828 non-null  object        \n",
      " 10  Initial_Problem_Descrip      952828 non-null  object        \n",
      " 11  Initial_Problem_Category     952828 non-null  object        \n",
      " 12  Final_Problem_Descrip        952828 non-null  object        \n",
      " 13  Final_Problem_Category       952828 non-null  object        \n",
      " 14  Number_of_Units_Arrived      952828 non-null  float64       \n",
      " 15  Unit_Time_on_Scene           952808 non-null  float64       \n",
      " 16  Call_Disposition_Descrip     952828 non-null  object        \n",
      " 17  Report_Written_Flag          952827 non-null  object        \n",
      " 18  Response_Time                952827 non-null  float64       \n",
      " 19  Officer_Injured/Killed_Cnt   952827 non-null  float64       \n",
      " 20  Subject_Injured/Killed_Cnt   952827 non-null  float64       \n",
      " 21  Other_Injured/Killed_Cnt     952827 non-null  float64       \n",
      " 22  Geo_ID                       952824 non-null  float64       \n",
      " 23  Census_Block_Grp             952824 non-null  float64       \n",
      " 24  Council_District             952832 non-null  object        \n",
      "dtypes: datetime64[ns](3), float64(9), object(13)\n",
      "memory usage: 181.7+ MB\n"
     ]
    }
   ],
   "source": [
    "# let's check the data types of each column\n",
    "df.info()"
   ]
  },
  {
   "cell_type": "code",
   "execution_count": 14,
   "id": "42cb365e",
   "metadata": {},
   "outputs": [
    {
     "data": {
      "text/html": [
       "<div>\n",
       "<style scoped>\n",
       "    .dataframe tbody tr th:only-of-type {\n",
       "        vertical-align: middle;\n",
       "    }\n",
       "\n",
       "    .dataframe tbody tr th {\n",
       "        vertical-align: top;\n",
       "    }\n",
       "\n",
       "    .dataframe thead th {\n",
       "        text-align: right;\n",
       "    }\n",
       "</style>\n",
       "<table border=\"1\" class=\"dataframe\">\n",
       "  <thead>\n",
       "    <tr style=\"text-align: right;\">\n",
       "      <th></th>\n",
       "      <th>Incident_Number</th>\n",
       "      <th>Incident_Type</th>\n",
       "      <th>Mental_Health_Flag</th>\n",
       "      <th>Priority_Level</th>\n",
       "      <th>Response_Datetime</th>\n",
       "      <th>Response_Day_of_Week</th>\n",
       "      <th>Response_Hour</th>\n",
       "      <th>First_Unit_Arrived_Datetime</th>\n",
       "      <th>Call_Closed_Datetime</th>\n",
       "      <th>Sector</th>\n",
       "      <th>...</th>\n",
       "      <th>Unit_Time_on_Scene</th>\n",
       "      <th>Call_Disposition_Descrip</th>\n",
       "      <th>Report_Written_Flag</th>\n",
       "      <th>Response_Time</th>\n",
       "      <th>Officer_Injured/Killed_Cnt</th>\n",
       "      <th>Subject_Injured/Killed_Cnt</th>\n",
       "      <th>Other_Injured/Killed_Cnt</th>\n",
       "      <th>Geo_ID</th>\n",
       "      <th>Census_Block_Grp</th>\n",
       "      <th>Council_District</th>\n",
       "    </tr>\n",
       "  </thead>\n",
       "  <tbody>\n",
       "    <tr>\n",
       "      <th>0</th>\n",
       "      <td>242741642</td>\n",
       "      <td>Dispatched Incident</td>\n",
       "      <td>Not Mental Health Incident</td>\n",
       "      <td>Priority 0</td>\n",
       "      <td>2024-09-30 23:55:00</td>\n",
       "      <td>Mon</td>\n",
       "      <td>23.00</td>\n",
       "      <td>2024-09-30 23:58:00</td>\n",
       "      <td>2024-10-01 01:22:00</td>\n",
       "      <td>Edward</td>\n",
       "      <td>...</td>\n",
       "      <td>9989.00</td>\n",
       "      <td>No Report</td>\n",
       "      <td>No</td>\n",
       "      <td>222.00</td>\n",
       "      <td>0.00</td>\n",
       "      <td>0.00</td>\n",
       "      <td>0.00</td>\n",
       "      <td>484530000000.00</td>\n",
       "      <td>4530409002.00</td>\n",
       "      <td>4.0</td>\n",
       "    </tr>\n",
       "    <tr>\n",
       "      <th>1</th>\n",
       "      <td>242741639</td>\n",
       "      <td>Dispatched Incident</td>\n",
       "      <td>Not Mental Health Incident</td>\n",
       "      <td>Priority 2</td>\n",
       "      <td>2024-09-30 23:54:00</td>\n",
       "      <td>Mon</td>\n",
       "      <td>23.00</td>\n",
       "      <td>2024-10-01 00:13:00</td>\n",
       "      <td>2024-10-01 00:18:00</td>\n",
       "      <td>David</td>\n",
       "      <td>...</td>\n",
       "      <td>611.00</td>\n",
       "      <td>No Report</td>\n",
       "      <td>No</td>\n",
       "      <td>1327.00</td>\n",
       "      <td>0.00</td>\n",
       "      <td>0.00</td>\n",
       "      <td>0.00</td>\n",
       "      <td>484530000000.00</td>\n",
       "      <td>4530013081.00</td>\n",
       "      <td>3.0</td>\n",
       "    </tr>\n",
       "    <tr>\n",
       "      <th>2</th>\n",
       "      <td>242741640</td>\n",
       "      <td>Dispatched Incident</td>\n",
       "      <td>Not Mental Health Incident</td>\n",
       "      <td>Priority 2</td>\n",
       "      <td>2024-09-30 23:54:00</td>\n",
       "      <td>Mon</td>\n",
       "      <td>23.00</td>\n",
       "      <td>2024-09-30 23:58:00</td>\n",
       "      <td>2024-10-01 00:50:00</td>\n",
       "      <td>Ida</td>\n",
       "      <td>...</td>\n",
       "      <td>3112.00</td>\n",
       "      <td>False Alarm</td>\n",
       "      <td>No</td>\n",
       "      <td>243.00</td>\n",
       "      <td>0.00</td>\n",
       "      <td>0.00</td>\n",
       "      <td>0.00</td>\n",
       "      <td>484530000000.00</td>\n",
       "      <td>4530434002.00</td>\n",
       "      <td>4.0</td>\n",
       "    </tr>\n",
       "    <tr>\n",
       "      <th>3</th>\n",
       "      <td>242741638</td>\n",
       "      <td>Dispatched Incident</td>\n",
       "      <td>Mental Health Incident</td>\n",
       "      <td>Priority 3</td>\n",
       "      <td>2024-09-30 23:54:00</td>\n",
       "      <td>Mon</td>\n",
       "      <td>23.00</td>\n",
       "      <td>2024-10-01 01:23:00</td>\n",
       "      <td>2024-10-01 01:23:00</td>\n",
       "      <td>Edward</td>\n",
       "      <td>...</td>\n",
       "      <td>4.00</td>\n",
       "      <td>No Report</td>\n",
       "      <td>No</td>\n",
       "      <td>5503.00</td>\n",
       "      <td>0.00</td>\n",
       "      <td>0.00</td>\n",
       "      <td>0.00</td>\n",
       "      <td>484530000000.00</td>\n",
       "      <td>4530442001.00</td>\n",
       "      <td>7.0</td>\n",
       "    </tr>\n",
       "    <tr>\n",
       "      <th>4</th>\n",
       "      <td>242741637</td>\n",
       "      <td>Dispatched Incident</td>\n",
       "      <td>Not Mental Health Incident</td>\n",
       "      <td>Priority 2</td>\n",
       "      <td>2024-09-30 23:54:00</td>\n",
       "      <td>Mon</td>\n",
       "      <td>23.00</td>\n",
       "      <td>2024-09-30 23:58:00</td>\n",
       "      <td>2024-10-01 00:43:00</td>\n",
       "      <td>Frank</td>\n",
       "      <td>...</td>\n",
       "      <td>6063.00</td>\n",
       "      <td>No Report</td>\n",
       "      <td>No</td>\n",
       "      <td>335.00</td>\n",
       "      <td>0.00</td>\n",
       "      <td>0.00</td>\n",
       "      <td>0.00</td>\n",
       "      <td>484530000000.00</td>\n",
       "      <td>4530024223.00</td>\n",
       "      <td>2.0</td>\n",
       "    </tr>\n",
       "  </tbody>\n",
       "</table>\n",
       "<p>5 rows × 25 columns</p>\n",
       "</div>"
      ],
      "text/plain": [
       "  Incident_Number        Incident_Type          Mental_Health_Flag  \\\n",
       "0       242741642  Dispatched Incident  Not Mental Health Incident   \n",
       "1       242741639  Dispatched Incident  Not Mental Health Incident   \n",
       "2       242741640  Dispatched Incident  Not Mental Health Incident   \n",
       "3       242741638  Dispatched Incident      Mental Health Incident   \n",
       "4       242741637  Dispatched Incident  Not Mental Health Incident   \n",
       "\n",
       "  Priority_Level   Response_Datetime Response_Day_of_Week  Response_Hour  \\\n",
       "0     Priority 0 2024-09-30 23:55:00                  Mon          23.00   \n",
       "1     Priority 2 2024-09-30 23:54:00                  Mon          23.00   \n",
       "2     Priority 2 2024-09-30 23:54:00                  Mon          23.00   \n",
       "3     Priority 3 2024-09-30 23:54:00                  Mon          23.00   \n",
       "4     Priority 2 2024-09-30 23:54:00                  Mon          23.00   \n",
       "\n",
       "  First_Unit_Arrived_Datetime Call_Closed_Datetime  Sector  ...  \\\n",
       "0         2024-09-30 23:58:00  2024-10-01 01:22:00  Edward  ...   \n",
       "1         2024-10-01 00:13:00  2024-10-01 00:18:00   David  ...   \n",
       "2         2024-09-30 23:58:00  2024-10-01 00:50:00     Ida  ...   \n",
       "3         2024-10-01 01:23:00  2024-10-01 01:23:00  Edward  ...   \n",
       "4         2024-09-30 23:58:00  2024-10-01 00:43:00   Frank  ...   \n",
       "\n",
       "  Unit_Time_on_Scene Call_Disposition_Descrip Report_Written_Flag  \\\n",
       "0            9989.00                No Report                  No   \n",
       "1             611.00                No Report                  No   \n",
       "2            3112.00              False Alarm                  No   \n",
       "3               4.00                No Report                  No   \n",
       "4            6063.00                No Report                  No   \n",
       "\n",
       "  Response_Time  Officer_Injured/Killed_Cnt  Subject_Injured/Killed_Cnt  \\\n",
       "0        222.00                        0.00                        0.00   \n",
       "1       1327.00                        0.00                        0.00   \n",
       "2        243.00                        0.00                        0.00   \n",
       "3       5503.00                        0.00                        0.00   \n",
       "4        335.00                        0.00                        0.00   \n",
       "\n",
       "  Other_Injured/Killed_Cnt          Geo_ID  Census_Block_Grp  Council_District  \n",
       "0                     0.00 484530000000.00     4530409002.00               4.0  \n",
       "1                     0.00 484530000000.00     4530013081.00               3.0  \n",
       "2                     0.00 484530000000.00     4530434002.00               4.0  \n",
       "3                     0.00 484530000000.00     4530442001.00               7.0  \n",
       "4                     0.00 484530000000.00     4530024223.00               2.0  \n",
       "\n",
       "[5 rows x 25 columns]"
      ]
     },
     "execution_count": 14,
     "metadata": {},
     "output_type": "execute_result"
    }
   ],
   "source": [
    "# let's check the data \n",
    "df.head()"
   ]
  },
  {
   "cell_type": "code",
   "execution_count": 15,
   "id": "eba2508c",
   "metadata": {},
   "outputs": [
    {
     "data": {
      "text/plain": [
       "array(['Dispatched Incident', nan], dtype=object)"
      ]
     },
     "execution_count": 15,
     "metadata": {},
     "output_type": "execute_result"
    }
   ],
   "source": [
    "# let's check for the unique values in the `Incident_Type` column\n",
    "df['Incident_Type'].unique()"
   ]
  },
  {
   "cell_type": "markdown",
   "id": "c6622886",
   "metadata": {},
   "source": [
    "- There are only Dispatched Incident type in this column.\n",
    "- There are missing values present in this column."
   ]
  },
  {
   "cell_type": "code",
   "execution_count": 16,
   "id": "2f569a37",
   "metadata": {},
   "outputs": [
    {
     "name": "stdout",
     "output_type": "stream",
     "text": [
      "['Not Mental Health Incident' 'Mental Health Incident' nan]\n",
      "Not Mental Health Incident   0.87\n",
      "Mental Health Incident       0.13\n",
      "Name: Mental_Health_Flag, dtype: float64\n"
     ]
    }
   ],
   "source": [
    "# Let's check for the unique values in the `Mental_Health_Flag` column\n",
    "print(df['Mental_Health_Flag'].unique())\n",
    "\n",
    "print(df['Mental_Health_Flag'].value_counts(normalize=True))"
   ]
  },
  {
   "cell_type": "markdown",
   "id": "973cba79",
   "metadata": {},
   "source": [
    "- There are Mental Health and Non-mental health incidents in this column.\n",
    "- 13% of the data are mental health incidents while 87% of the data are non-mental health incidents."
   ]
  },
  {
   "cell_type": "code",
   "execution_count": 17,
   "id": "cc5875de",
   "metadata": {},
   "outputs": [
    {
     "name": "stdout",
     "output_type": "stream",
     "text": [
      "['Priority 0' 'Priority 2' 'Priority 3' 'Priority 1' nan]\n",
      "Priority 2   0.50\n",
      "Priority 1   0.19\n",
      "Priority 3   0.18\n",
      "Priority 0   0.13\n",
      "Name: Priority_Level, dtype: float64\n"
     ]
    }
   ],
   "source": [
    "# Let's check for the unique values in the `Priority_Level` column\n",
    "print(df['Priority_Level'].unique())\n",
    "\n",
    "print(df['Priority_Level'].value_counts(normalize=True))"
   ]
  },
  {
   "cell_type": "markdown",
   "id": "10445438",
   "metadata": {},
   "source": [
    "- There are 4 priority levels in the dataset.Priority 0, Priority 1, Priority 2, Priority 3. Priority 0 and 1 are high priorities and Priority 2 and 3 are low priority.\n",
    "- 50% of the data are Priority 2 while approximately 19% of the data are priority 1 and 13% of the data are priority 0."
   ]
  },
  {
   "cell_type": "code",
   "execution_count": 18,
   "id": "0db0f3af",
   "metadata": {},
   "outputs": [
    {
     "name": "stdout",
     "output_type": "stream",
     "text": [
      "['Mon' 'Sun' 'Sat' 'Fri' 'Thu' 'Wed' 'Tue' nan]\n",
      "Fri   0.15\n",
      "Sat   0.15\n",
      "Mon   0.14\n",
      "Sun   0.14\n",
      "Thu   0.14\n",
      "Wed   0.14\n",
      "Tue   0.14\n",
      "Name: Response_Day_of_Week, dtype: float64\n"
     ]
    }
   ],
   "source": [
    "# Let's check for the unique values in the `Response_Day_of_Week` column\n",
    "print(df['Response_Day_of_Week'].unique())\n",
    "\n",
    "print(df['Response_Day_of_Week'].value_counts(normalize=True))"
   ]
  },
  {
   "cell_type": "markdown",
   "id": "646a7842",
   "metadata": {},
   "source": [
    "- The response days of the week are Monday, Tuesday, Wednesday, Thursday, Friday, Saturday and Sunday\n",
    "- There are more dispatched incidents(911 calls) on Fridays and Saturdays compared to other days."
   ]
  },
  {
   "cell_type": "code",
   "execution_count": 19,
   "id": "5ed7b6e2",
   "metadata": {},
   "outputs": [
    {
     "name": "stdout",
     "output_type": "stream",
     "text": [
      "[23. 22. 21. 20. 19. 18. 17. 16. 15. 14. 13. 12. 11. 10.  9.  8.  7.  6.\n",
      "  5.  4.  3.  2.  1.  0. nan]\n",
      "17.00    51921\n",
      "18.00    51234\n",
      "16.00    50068\n",
      "19.00    48791\n",
      "20.00    48063\n",
      "15.00    48034\n",
      "21.00    47905\n",
      "22.00    46002\n",
      "14.00    45175\n",
      "13.00    44804\n",
      "12.00    44409\n",
      "11.00    42630\n",
      "23.00    42092\n",
      "10.00    41603\n",
      "9.00     39780\n",
      "8.00     38251\n",
      "0.00     38068\n",
      "7.00     32810\n",
      "1.00     32031\n",
      "2.00     29590\n",
      "6.00     24906\n",
      "3.00     24421\n",
      "4.00     20509\n",
      "5.00     19731\n",
      "Name: Response_Hour, dtype: int64\n"
     ]
    }
   ],
   "source": [
    "# let's check for the response hours unique hours \n",
    "print(df['Response_Hour'].unique())\n",
    "\n",
    "print(df['Response_Hour'].value_counts())"
   ]
  },
  {
   "cell_type": "markdown",
   "id": "d05fd9be",
   "metadata": {},
   "source": [
    "- The response hours ae between the hours of 0:00 to 23:00\n",
    "- There are more 911 calls recorded/taken at 17:00(5pm),18:00(6pm) and 16:00(4pm)."
   ]
  },
  {
   "cell_type": "code",
   "execution_count": 20,
   "id": "4b333118",
   "metadata": {},
   "outputs": [
    {
     "name": "stdout",
     "output_type": "stream",
     "text": [
      "['Edward' 'David' 'Ida' 'Frank' 'Charlie' 'Adam' 'Baker' 'Airport' 'Henry'\n",
      " 'George' 'Other' nan]\n",
      "Edward    0.14\n",
      "David     0.13\n",
      "Frank     0.12\n",
      "Adam      0.12\n",
      "Charlie   0.11\n",
      "Baker     0.11\n",
      "Ida       0.10\n",
      "Henry     0.10\n",
      "George    0.06\n",
      "Airport   0.02\n",
      "Other     0.00\n",
      "Name: Sector, dtype: float64\n"
     ]
    }
   ],
   "source": [
    "# Let's check for the unique values in the `Sector` column\n",
    "print(df['Sector'].unique())\n",
    "\n",
    "print(df['Sector'].value_counts(normalize=True))"
   ]
  },
  {
   "cell_type": "markdown",
   "id": "47458513",
   "metadata": {},
   "source": [
    "- There are 11 sectors in the data set.\n",
    "- Edward sector has the highest number of dispatched incidents.\n",
    "- Airport sector has the lowest number of dispatched incidents."
   ]
  },
  {
   "cell_type": "code",
   "execution_count": 21,
   "id": "521ed6e2",
   "metadata": {},
   "outputs": [
    {
     "name": "stdout",
     "output_type": "stream",
     "text": [
      "['No Report' 'False Alarm' 'Unable To Locate' 'Report Written'\n",
      " 'Supplement Written' 'Primary unit will adv' 'Report Written MH'\n",
      " '10/8 From Traffic' 'Non-Police Matter' 'No Report MH'\n",
      " 'District Representatives' 'Field Observation' 'Citation only' 'Warning'\n",
      " 'Telehealth No Report' 'Reassigned call' 'Telehealth Report Written'\n",
      " 'Arrest only' 'Telehealth Not Used' 'Citation and Arrest' 'U{' nan]\n",
      "No Report                   0.42\n",
      "Report Written              0.26\n",
      "Unable To Locate            0.16\n",
      "False Alarm                 0.09\n",
      "Supplement Written          0.02\n",
      "Report Written MH           0.02\n",
      "Non-Police Matter           0.02\n",
      "10/8 From Traffic           0.00\n",
      "No Report MH                0.00\n",
      "Field Observation           0.00\n",
      "Primary unit will adv       0.00\n",
      "District Representatives    0.00\n",
      "Citation only               0.00\n",
      "Reassigned call             0.00\n",
      "Arrest only                 0.00\n",
      "Telehealth Report Written   0.00\n",
      "Telehealth No Report        0.00\n",
      "Warning                     0.00\n",
      "Citation and Arrest         0.00\n",
      "Telehealth Not Used         0.00\n",
      "U{                          0.00\n",
      "Name: Call_Disposition_Descrip, dtype: float64\n"
     ]
    }
   ],
   "source": [
    "# let's check the unique items on the `Call_Disposition_Descrip` column\n",
    "print(df['Call_Disposition_Descrip'].unique())\n",
    "\n",
    "# let's check the frequency of each of these items in the `Call_Disposition_Descrip` column\n",
    "print(df['Call_Disposition_Descrip'].value_counts(normalize=True))"
   ]
  },
  {
   "cell_type": "markdown",
   "id": "4ff84166",
   "metadata": {},
   "source": [
    "-There are 20 descriptions of the outcomes of the 911 calls.\n"
   ]
  },
  {
   "cell_type": "code",
   "execution_count": 22,
   "id": "13ba02fb",
   "metadata": {},
   "outputs": [
    {
     "name": "stdout",
     "output_type": "stream",
     "text": [
      "['Suspicious Things' 'Alarms' 'Crashes' 'Drugs' 'Assistance'\n",
      " 'Traffic Stop/Hazard' 'Deceased/Injured' 'Disturbance' 'Trespassing'\n",
      " 'Welfare Check' 'Other' 'Shoot/Stab' 'Missing Persons/Kidnapping'\n",
      " 'Sex Crimes' 'Auto Theft' 'Disorderly Conduct' 'Theft' 'Animal Related'\n",
      " 'Property Damage/Vandalism' 'Bomb/Explosives' 'Burglary' 'Administrative'\n",
      " 'Robbery' 'DUI/DWI' 'Warrants/RTA' 'Simple Assault' 'Prostitution'\n",
      " 'Weapons/Firearms Violations' 'Person Stop/FO' 'Lost/Found Property'\n",
      " 'Intimidation' 'Aggravated Assault' 'Child Abuse/Neglect' 'Fraud/Forgery'\n",
      " 'Viol PO/Bond' 'Evading/Resisting Arrest' 'missing' 'Arson' 'Homicide'\n",
      " 'Gambling' nan]\n",
      "Disturbance                    157135\n",
      "Welfare Check                  106246\n",
      "Suspicious Things              101012\n",
      "Alarms                          99661\n",
      "Trespassing                     98342\n",
      "Traffic Stop/Hazard             68653\n",
      "Crashes                         68453\n",
      "Other                           63786\n",
      "Assistance                      39206\n",
      "Auto Theft                      31643\n",
      "Disorderly Conduct              28594\n",
      "Shoot/Stab                      24921\n",
      "Theft                           10177\n",
      "Missing Persons/Kidnapping       9894\n",
      "Animal Related                   8581\n",
      "Burglary                         8558\n",
      "Sex Crimes                       7444\n",
      "Drugs                            6296\n",
      "Property Damage/Vandalism        5203\n",
      "Robbery                          4033\n",
      "Administrative                   2545\n",
      "Deceased/Injured                  536\n",
      "Warrants/RTA                      467\n",
      "Bomb/Explosives                   429\n",
      "Person Stop/FO                    273\n",
      "Prostitution                      136\n",
      "Simple Assault                    135\n",
      "Lost/Found Property               113\n",
      "DUI/DWI                           110\n",
      "Weapons/Firearms Violations        87\n",
      "Fraud/Forgery                      44\n",
      "Intimidation                       35\n",
      "Aggravated Assault                 32\n",
      "Evading/Resisting Arrest           19\n",
      "Child Abuse/Neglect                11\n",
      "Viol PO/Bond                        9\n",
      "Arson                               4\n",
      "Homicide                            3\n",
      "missing                             1\n",
      "Gambling                            1\n",
      "Name: Initial_Problem_Category, dtype: int64\n"
     ]
    }
   ],
   "source": [
    "# Let's check for the unique problems in the `Initial_Problem_Category` column\n",
    "print(df['Initial_Problem_Category'].unique())\n",
    "\n",
    "print(df['Initial_Problem_Category'].value_counts())"
   ]
  },
  {
   "cell_type": "markdown",
   "id": "c3cd9f00",
   "metadata": {},
   "source": [
    "- The top 3 problems addressed in the data set are Disturbances, Welfare Check and Suspicious Things."
   ]
  },
  {
   "cell_type": "code",
   "execution_count": 23,
   "id": "63fa0489",
   "metadata": {},
   "outputs": [
    {
     "name": "stdout",
     "output_type": "stream",
     "text": [
      "['Suspicious Things' 'Alarms' 'Welfare Check' 'Crashes' 'DUI/DWI' 'Drugs'\n",
      " 'Assistance' 'Deceased/Injured' 'Disturbance' 'Trespassing'\n",
      " 'Traffic Stop/Hazard' 'Other' 'Shoot/Stab' 'Missing Persons/Kidnapping'\n",
      " 'Aggravated Assault' 'Simple Assault' 'Auto Theft' 'Disorderly Conduct'\n",
      " 'Sex Crimes' 'Theft' 'Homicide' 'Evading/Resisting Arrest'\n",
      " 'Animal Related' 'Property Damage/Vandalism' 'Warrants/RTA'\n",
      " 'Intimidation' 'Child Abuse/Neglect' 'Robbery' 'Administrative'\n",
      " 'Burglary' 'Weapons/Firearms Violations' 'Viol PO/Bond' 'Fraud/Forgery'\n",
      " 'Lost/Found Property' 'Person Stop/FO' 'Bomb/Explosives' 'Arson'\n",
      " 'missing' 'Prostitution' 'Gambling' nan]\n"
     ]
    }
   ],
   "source": [
    "# let's check the unique problems in the `Final_Problem_Category` column\n",
    "print(df['Final_Problem_Category'].unique())"
   ]
  },
  {
   "cell_type": "code",
   "execution_count": 24,
   "id": "3395a010",
   "metadata": {},
   "outputs": [
    {
     "name": "stdout",
     "output_type": "stream",
     "text": [
      "['No' 'Yes' nan]\n",
      "No     708512\n",
      "Yes    244315\n",
      "Name: Report_Written_Flag, dtype: int64\n"
     ]
    }
   ],
   "source": [
    "# Let's check the unque values in the `Report_Written_Flag` column\n",
    "print(df['Report_Written_Flag'].unique())\n",
    "\n",
    "print(df['Report_Written_Flag'].value_counts())"
   ]
  },
  {
   "cell_type": "markdown",
   "id": "9c5fdf67",
   "metadata": {},
   "source": [
    "- There are 2 categories in the `Report_Written_Flag` column."
   ]
  },
  {
   "cell_type": "code",
   "execution_count": 25,
   "id": "959fa1a2",
   "metadata": {},
   "outputs": [
    {
     "name": "stdout",
     "output_type": "stream",
     "text": [
      "[4.8453e+11 4.8491e+11 4.8454e+11 4.8209e+11        nan]\n",
      "484530000000.00    897162\n",
      "484910000000.00     36929\n",
      "484540000000.00     18641\n",
      "482090000000.00        92\n",
      "Name: Geo_ID, dtype: int64\n"
     ]
    }
   ],
   "source": [
    "# Let's check for the unique Goe_ID in the column\n",
    "print(df['Geo_ID'].unique())\n",
    "\n",
    "print(df['Geo_ID'].value_counts())"
   ]
  },
  {
   "cell_type": "code",
   "execution_count": 26,
   "id": "56efa2d3",
   "metadata": {},
   "outputs": [
    {
     "name": "stdout",
     "output_type": "stream",
     "text": [
      "['4.0' '3.0' '7.0' '2.0' '10.0' '9.0' '8.0' '5.0' '1.0' '6.0' '0.0' 'nan']\n",
      "3.0     144812\n",
      "9.0     135055\n",
      "4.0     127457\n",
      "1.0     110152\n",
      "7.0     104882\n",
      "2.0     103728\n",
      "5.0      77662\n",
      "6.0      53016\n",
      "10.0     45344\n",
      "8.0      35639\n",
      "0.0      15080\n",
      "nan          5\n",
      "Name: Council_District, dtype: int64\n"
     ]
    }
   ],
   "source": [
    "# Let's check the unique Council Districts in the column\n",
    "print(df['Council_District'].unique())\n",
    "\n",
    "print(df['Council_District'].value_counts())"
   ]
  },
  {
   "cell_type": "markdown",
   "id": "287182f5",
   "metadata": {},
   "source": [
    "- There are 11 council districts in the data set.\n",
    "- There are more incidents in Districts 3.0, 9.0 and 4.0"
   ]
  },
  {
   "cell_type": "markdown",
   "id": "32169a86",
   "metadata": {},
   "source": [
    "## Check for missing values"
   ]
  },
  {
   "cell_type": "code",
   "execution_count": 27,
   "id": "7945eea4",
   "metadata": {},
   "outputs": [
    {
     "data": {
      "text/plain": [
       "Incident_Number                 0\n",
       "Incident_Type                   4\n",
       "Mental_Health_Flag              4\n",
       "Priority_Level                  4\n",
       "Response_Datetime               4\n",
       "Response_Day_of_Week            4\n",
       "Response_Hour                   4\n",
       "First_Unit_Arrived_Datetime     4\n",
       "Call_Closed_Datetime            4\n",
       "Sector                          4\n",
       "Initial_Problem_Descrip         4\n",
       "Initial_Problem_Category        4\n",
       "Final_Problem_Descrip           4\n",
       "Final_Problem_Category          4\n",
       "Number_of_Units_Arrived         4\n",
       "Unit_Time_on_Scene             24\n",
       "Call_Disposition_Descrip        4\n",
       "Report_Written_Flag             5\n",
       "Response_Time                   5\n",
       "Officer_Injured/Killed_Cnt      5\n",
       "Subject_Injured/Killed_Cnt      5\n",
       "Other_Injured/Killed_Cnt        5\n",
       "Geo_ID                          8\n",
       "Census_Block_Grp                8\n",
       "Council_District                0\n",
       "dtype: int64"
      ]
     },
     "execution_count": 27,
     "metadata": {},
     "output_type": "execute_result"
    }
   ],
   "source": [
    "# Let's check for missing values\n",
    "df.isnull().sum()"
   ]
  },
  {
   "cell_type": "markdown",
   "id": "acb36cb5",
   "metadata": {},
   "source": [
    "- There are many missing values in the data.\n"
   ]
  },
  {
   "cell_type": "code",
   "execution_count": 28,
   "id": "ffb6a666",
   "metadata": {},
   "outputs": [
    {
     "data": {
      "text/html": [
       "<div>\n",
       "<style scoped>\n",
       "    .dataframe tbody tr th:only-of-type {\n",
       "        vertical-align: middle;\n",
       "    }\n",
       "\n",
       "    .dataframe tbody tr th {\n",
       "        vertical-align: top;\n",
       "    }\n",
       "\n",
       "    .dataframe thead th {\n",
       "        text-align: right;\n",
       "    }\n",
       "</style>\n",
       "<table border=\"1\" class=\"dataframe\">\n",
       "  <thead>\n",
       "    <tr style=\"text-align: right;\">\n",
       "      <th></th>\n",
       "      <th>Incident_Number</th>\n",
       "      <th>Incident_Type</th>\n",
       "      <th>Mental_Health_Flag</th>\n",
       "      <th>Priority_Level</th>\n",
       "      <th>Response_Datetime</th>\n",
       "      <th>Response_Day_of_Week</th>\n",
       "      <th>Response_Hour</th>\n",
       "      <th>First_Unit_Arrived_Datetime</th>\n",
       "      <th>Call_Closed_Datetime</th>\n",
       "      <th>Sector</th>\n",
       "      <th>...</th>\n",
       "      <th>Unit_Time_on_Scene</th>\n",
       "      <th>Call_Disposition_Descrip</th>\n",
       "      <th>Report_Written_Flag</th>\n",
       "      <th>Response_Time</th>\n",
       "      <th>Officer_Injured/Killed_Cnt</th>\n",
       "      <th>Subject_Injured/Killed_Cnt</th>\n",
       "      <th>Other_Injured/Killed_Cnt</th>\n",
       "      <th>Geo_ID</th>\n",
       "      <th>Census_Block_Grp</th>\n",
       "      <th>Council_District</th>\n",
       "    </tr>\n",
       "  </thead>\n",
       "  <tbody>\n",
       "    <tr>\n",
       "      <th>952827</th>\n",
       "      <td>211730713</td>\n",
       "      <td>Dispatched Incident</td>\n",
       "      <td>Mental Health Incident</td>\n",
       "      <td>Priority 3</td>\n",
       "      <td>2021-06-22 13:00:00</td>\n",
       "      <td>Tue</td>\n",
       "      <td>13.00</td>\n",
       "      <td>2021-06-22 13:24:00</td>\n",
       "      <td>2021-06-22 13:24:00</td>\n",
       "      <td>Baker</td>\n",
       "      <td>...</td>\n",
       "      <td>12.00</td>\n",
       "      <td>U{</td>\n",
       "      <td>NaN</td>\n",
       "      <td>NaN</td>\n",
       "      <td>NaN</td>\n",
       "      <td>NaN</td>\n",
       "      <td>NaN</td>\n",
       "      <td>NaN</td>\n",
       "      <td>NaN</td>\n",
       "      <td>nan</td>\n",
       "    </tr>\n",
       "    <tr>\n",
       "      <th>952828</th>\n",
       "      <td>\"error\" : true</td>\n",
       "      <td>NaN</td>\n",
       "      <td>NaN</td>\n",
       "      <td>NaN</td>\n",
       "      <td>NaT</td>\n",
       "      <td>NaN</td>\n",
       "      <td>NaN</td>\n",
       "      <td>NaT</td>\n",
       "      <td>NaT</td>\n",
       "      <td>NaN</td>\n",
       "      <td>...</td>\n",
       "      <td>NaN</td>\n",
       "      <td>NaN</td>\n",
       "      <td>NaN</td>\n",
       "      <td>NaN</td>\n",
       "      <td>NaN</td>\n",
       "      <td>NaN</td>\n",
       "      <td>NaN</td>\n",
       "      <td>NaN</td>\n",
       "      <td>NaN</td>\n",
       "      <td>nan</td>\n",
       "    </tr>\n",
       "    <tr>\n",
       "      <th>952829</th>\n",
       "      <td>\"message\" : \"Internal error\"</td>\n",
       "      <td>NaN</td>\n",
       "      <td>NaN</td>\n",
       "      <td>NaN</td>\n",
       "      <td>NaT</td>\n",
       "      <td>NaN</td>\n",
       "      <td>NaN</td>\n",
       "      <td>NaT</td>\n",
       "      <td>NaT</td>\n",
       "      <td>NaN</td>\n",
       "      <td>...</td>\n",
       "      <td>NaN</td>\n",
       "      <td>NaN</td>\n",
       "      <td>NaN</td>\n",
       "      <td>NaN</td>\n",
       "      <td>NaN</td>\n",
       "      <td>NaN</td>\n",
       "      <td>NaN</td>\n",
       "      <td>NaN</td>\n",
       "      <td>NaN</td>\n",
       "      <td>nan</td>\n",
       "    </tr>\n",
       "    <tr>\n",
       "      <th>952830</th>\n",
       "      <td>\"status\" : 500</td>\n",
       "      <td>NaN</td>\n",
       "      <td>NaN</td>\n",
       "      <td>NaN</td>\n",
       "      <td>NaT</td>\n",
       "      <td>NaN</td>\n",
       "      <td>NaN</td>\n",
       "      <td>NaT</td>\n",
       "      <td>NaT</td>\n",
       "      <td>NaN</td>\n",
       "      <td>...</td>\n",
       "      <td>NaN</td>\n",
       "      <td>NaN</td>\n",
       "      <td>NaN</td>\n",
       "      <td>NaN</td>\n",
       "      <td>NaN</td>\n",
       "      <td>NaN</td>\n",
       "      <td>NaN</td>\n",
       "      <td>NaN</td>\n",
       "      <td>NaN</td>\n",
       "      <td>nan</td>\n",
       "    </tr>\n",
       "    <tr>\n",
       "      <th>952831</th>\n",
       "      <td>}</td>\n",
       "      <td>NaN</td>\n",
       "      <td>NaN</td>\n",
       "      <td>NaN</td>\n",
       "      <td>NaT</td>\n",
       "      <td>NaN</td>\n",
       "      <td>NaN</td>\n",
       "      <td>NaT</td>\n",
       "      <td>NaT</td>\n",
       "      <td>NaN</td>\n",
       "      <td>...</td>\n",
       "      <td>NaN</td>\n",
       "      <td>NaN</td>\n",
       "      <td>NaN</td>\n",
       "      <td>NaN</td>\n",
       "      <td>NaN</td>\n",
       "      <td>NaN</td>\n",
       "      <td>NaN</td>\n",
       "      <td>NaN</td>\n",
       "      <td>NaN</td>\n",
       "      <td>nan</td>\n",
       "    </tr>\n",
       "  </tbody>\n",
       "</table>\n",
       "<p>5 rows × 25 columns</p>\n",
       "</div>"
      ],
      "text/plain": [
       "                       Incident_Number        Incident_Type  \\\n",
       "952827                       211730713  Dispatched Incident   \n",
       "952828                  \"error\" : true                  NaN   \n",
       "952829    \"message\" : \"Internal error\"                  NaN   \n",
       "952830                  \"status\" : 500                  NaN   \n",
       "952831                               }                  NaN   \n",
       "\n",
       "            Mental_Health_Flag Priority_Level   Response_Datetime  \\\n",
       "952827  Mental Health Incident     Priority 3 2021-06-22 13:00:00   \n",
       "952828                     NaN            NaN                 NaT   \n",
       "952829                     NaN            NaN                 NaT   \n",
       "952830                     NaN            NaN                 NaT   \n",
       "952831                     NaN            NaN                 NaT   \n",
       "\n",
       "       Response_Day_of_Week  Response_Hour First_Unit_Arrived_Datetime  \\\n",
       "952827                  Tue          13.00         2021-06-22 13:24:00   \n",
       "952828                  NaN            NaN                         NaT   \n",
       "952829                  NaN            NaN                         NaT   \n",
       "952830                  NaN            NaN                         NaT   \n",
       "952831                  NaN            NaN                         NaT   \n",
       "\n",
       "       Call_Closed_Datetime Sector  ... Unit_Time_on_Scene  \\\n",
       "952827  2021-06-22 13:24:00  Baker  ...              12.00   \n",
       "952828                  NaT    NaN  ...                NaN   \n",
       "952829                  NaT    NaN  ...                NaN   \n",
       "952830                  NaT    NaN  ...                NaN   \n",
       "952831                  NaT    NaN  ...                NaN   \n",
       "\n",
       "       Call_Disposition_Descrip Report_Written_Flag Response_Time  \\\n",
       "952827                       U{                 NaN           NaN   \n",
       "952828                      NaN                 NaN           NaN   \n",
       "952829                      NaN                 NaN           NaN   \n",
       "952830                      NaN                 NaN           NaN   \n",
       "952831                      NaN                 NaN           NaN   \n",
       "\n",
       "        Officer_Injured/Killed_Cnt  Subject_Injured/Killed_Cnt  \\\n",
       "952827                         NaN                         NaN   \n",
       "952828                         NaN                         NaN   \n",
       "952829                         NaN                         NaN   \n",
       "952830                         NaN                         NaN   \n",
       "952831                         NaN                         NaN   \n",
       "\n",
       "       Other_Injured/Killed_Cnt Geo_ID  Census_Block_Grp  Council_District  \n",
       "952827                      NaN    NaN               NaN               nan  \n",
       "952828                      NaN    NaN               NaN               nan  \n",
       "952829                      NaN    NaN               NaN               nan  \n",
       "952830                      NaN    NaN               NaN               nan  \n",
       "952831                      NaN    NaN               NaN               nan  \n",
       "\n",
       "[5 rows x 25 columns]"
      ]
     },
     "execution_count": 28,
     "metadata": {},
     "output_type": "execute_result"
    }
   ],
   "source": [
    "# let's investigate\n",
    "df.tail()"
   ]
  },
  {
   "cell_type": "markdown",
   "id": "86f3a1e7",
   "metadata": {},
   "source": [
    "- The last 4 rows in the data set contain missing values across all columns. Let's take them out"
   ]
  },
  {
   "cell_type": "code",
   "execution_count": 29,
   "id": "a4c5f85a",
   "metadata": {},
   "outputs": [
    {
     "data": {
      "text/html": [
       "<div>\n",
       "<style scoped>\n",
       "    .dataframe tbody tr th:only-of-type {\n",
       "        vertical-align: middle;\n",
       "    }\n",
       "\n",
       "    .dataframe tbody tr th {\n",
       "        vertical-align: top;\n",
       "    }\n",
       "\n",
       "    .dataframe thead th {\n",
       "        text-align: right;\n",
       "    }\n",
       "</style>\n",
       "<table border=\"1\" class=\"dataframe\">\n",
       "  <thead>\n",
       "    <tr style=\"text-align: right;\">\n",
       "      <th></th>\n",
       "      <th>Initial_Problem_Descrip</th>\n",
       "      <th>Initial_Problem_Category</th>\n",
       "      <th>Final_Problem_Descrip</th>\n",
       "      <th>Final_Problem_Category</th>\n",
       "      <th>Number_of_Units_Arrived</th>\n",
       "    </tr>\n",
       "  </thead>\n",
       "  <tbody>\n",
       "    <tr>\n",
       "      <th>952827</th>\n",
       "      <td>Check Welfare Service</td>\n",
       "      <td>Welfare Check</td>\n",
       "      <td>Check Welfare Service</td>\n",
       "      <td>Welfare Check</td>\n",
       "      <td>1.00</td>\n",
       "    </tr>\n",
       "    <tr>\n",
       "      <th>952828</th>\n",
       "      <td>NaN</td>\n",
       "      <td>NaN</td>\n",
       "      <td>NaN</td>\n",
       "      <td>NaN</td>\n",
       "      <td>NaN</td>\n",
       "    </tr>\n",
       "    <tr>\n",
       "      <th>952829</th>\n",
       "      <td>NaN</td>\n",
       "      <td>NaN</td>\n",
       "      <td>NaN</td>\n",
       "      <td>NaN</td>\n",
       "      <td>NaN</td>\n",
       "    </tr>\n",
       "    <tr>\n",
       "      <th>952830</th>\n",
       "      <td>NaN</td>\n",
       "      <td>NaN</td>\n",
       "      <td>NaN</td>\n",
       "      <td>NaN</td>\n",
       "      <td>NaN</td>\n",
       "    </tr>\n",
       "    <tr>\n",
       "      <th>952831</th>\n",
       "      <td>NaN</td>\n",
       "      <td>NaN</td>\n",
       "      <td>NaN</td>\n",
       "      <td>NaN</td>\n",
       "      <td>NaN</td>\n",
       "    </tr>\n",
       "  </tbody>\n",
       "</table>\n",
       "</div>"
      ],
      "text/plain": [
       "       Initial_Problem_Descrip Initial_Problem_Category  \\\n",
       "952827   Check Welfare Service            Welfare Check   \n",
       "952828                     NaN                      NaN   \n",
       "952829                     NaN                      NaN   \n",
       "952830                     NaN                      NaN   \n",
       "952831                     NaN                      NaN   \n",
       "\n",
       "        Final_Problem_Descrip Final_Problem_Category  Number_of_Units_Arrived  \n",
       "952827  Check Welfare Service          Welfare Check                     1.00  \n",
       "952828                    NaN                    NaN                      NaN  \n",
       "952829                    NaN                    NaN                      NaN  \n",
       "952830                    NaN                    NaN                      NaN  \n",
       "952831                    NaN                    NaN                      NaN  "
      ]
     },
     "execution_count": 29,
     "metadata": {},
     "output_type": "execute_result"
    }
   ],
   "source": [
    "# Let's check the last 5 rows of the columns not displayed\n",
    "df[['Initial_Problem_Descrip','Initial_Problem_Category','Final_Problem_Descrip','Final_Problem_Category','Number_of_Units_Arrived']].tail()"
   ]
  },
  {
   "cell_type": "markdown",
   "id": "68c30d30",
   "metadata": {},
   "source": [
    "- The last 4 rows are also missing"
   ]
  },
  {
   "cell_type": "code",
   "execution_count": 30,
   "id": "555b352b",
   "metadata": {},
   "outputs": [],
   "source": [
    "# assisgn a variable to drop the last 4 rows\n",
    "df1 = df.iloc[:-4]"
   ]
  },
  {
   "cell_type": "code",
   "execution_count": 31,
   "id": "d420161a",
   "metadata": {},
   "outputs": [
    {
     "data": {
      "text/html": [
       "<div>\n",
       "<style scoped>\n",
       "    .dataframe tbody tr th:only-of-type {\n",
       "        vertical-align: middle;\n",
       "    }\n",
       "\n",
       "    .dataframe tbody tr th {\n",
       "        vertical-align: top;\n",
       "    }\n",
       "\n",
       "    .dataframe thead th {\n",
       "        text-align: right;\n",
       "    }\n",
       "</style>\n",
       "<table border=\"1\" class=\"dataframe\">\n",
       "  <thead>\n",
       "    <tr style=\"text-align: right;\">\n",
       "      <th></th>\n",
       "      <th>Incident_Number</th>\n",
       "      <th>Incident_Type</th>\n",
       "      <th>Mental_Health_Flag</th>\n",
       "      <th>Priority_Level</th>\n",
       "      <th>Response_Datetime</th>\n",
       "      <th>Response_Day_of_Week</th>\n",
       "      <th>Response_Hour</th>\n",
       "      <th>First_Unit_Arrived_Datetime</th>\n",
       "      <th>Call_Closed_Datetime</th>\n",
       "      <th>Sector</th>\n",
       "      <th>...</th>\n",
       "      <th>Unit_Time_on_Scene</th>\n",
       "      <th>Call_Disposition_Descrip</th>\n",
       "      <th>Report_Written_Flag</th>\n",
       "      <th>Response_Time</th>\n",
       "      <th>Officer_Injured/Killed_Cnt</th>\n",
       "      <th>Subject_Injured/Killed_Cnt</th>\n",
       "      <th>Other_Injured/Killed_Cnt</th>\n",
       "      <th>Geo_ID</th>\n",
       "      <th>Census_Block_Grp</th>\n",
       "      <th>Council_District</th>\n",
       "    </tr>\n",
       "  </thead>\n",
       "  <tbody>\n",
       "    <tr>\n",
       "      <th>0</th>\n",
       "      <td>242741642</td>\n",
       "      <td>Dispatched Incident</td>\n",
       "      <td>Not Mental Health Incident</td>\n",
       "      <td>Priority 0</td>\n",
       "      <td>2024-09-30 23:55:00</td>\n",
       "      <td>Mon</td>\n",
       "      <td>23.00</td>\n",
       "      <td>2024-09-30 23:58:00</td>\n",
       "      <td>2024-10-01 01:22:00</td>\n",
       "      <td>Edward</td>\n",
       "      <td>...</td>\n",
       "      <td>9989.00</td>\n",
       "      <td>No Report</td>\n",
       "      <td>No</td>\n",
       "      <td>222.00</td>\n",
       "      <td>0.00</td>\n",
       "      <td>0.00</td>\n",
       "      <td>0.00</td>\n",
       "      <td>484530000000.00</td>\n",
       "      <td>4530409002.00</td>\n",
       "      <td>4.0</td>\n",
       "    </tr>\n",
       "    <tr>\n",
       "      <th>1</th>\n",
       "      <td>242741639</td>\n",
       "      <td>Dispatched Incident</td>\n",
       "      <td>Not Mental Health Incident</td>\n",
       "      <td>Priority 2</td>\n",
       "      <td>2024-09-30 23:54:00</td>\n",
       "      <td>Mon</td>\n",
       "      <td>23.00</td>\n",
       "      <td>2024-10-01 00:13:00</td>\n",
       "      <td>2024-10-01 00:18:00</td>\n",
       "      <td>David</td>\n",
       "      <td>...</td>\n",
       "      <td>611.00</td>\n",
       "      <td>No Report</td>\n",
       "      <td>No</td>\n",
       "      <td>1327.00</td>\n",
       "      <td>0.00</td>\n",
       "      <td>0.00</td>\n",
       "      <td>0.00</td>\n",
       "      <td>484530000000.00</td>\n",
       "      <td>4530013081.00</td>\n",
       "      <td>3.0</td>\n",
       "    </tr>\n",
       "    <tr>\n",
       "      <th>2</th>\n",
       "      <td>242741640</td>\n",
       "      <td>Dispatched Incident</td>\n",
       "      <td>Not Mental Health Incident</td>\n",
       "      <td>Priority 2</td>\n",
       "      <td>2024-09-30 23:54:00</td>\n",
       "      <td>Mon</td>\n",
       "      <td>23.00</td>\n",
       "      <td>2024-09-30 23:58:00</td>\n",
       "      <td>2024-10-01 00:50:00</td>\n",
       "      <td>Ida</td>\n",
       "      <td>...</td>\n",
       "      <td>3112.00</td>\n",
       "      <td>False Alarm</td>\n",
       "      <td>No</td>\n",
       "      <td>243.00</td>\n",
       "      <td>0.00</td>\n",
       "      <td>0.00</td>\n",
       "      <td>0.00</td>\n",
       "      <td>484530000000.00</td>\n",
       "      <td>4530434002.00</td>\n",
       "      <td>4.0</td>\n",
       "    </tr>\n",
       "    <tr>\n",
       "      <th>3</th>\n",
       "      <td>242741638</td>\n",
       "      <td>Dispatched Incident</td>\n",
       "      <td>Mental Health Incident</td>\n",
       "      <td>Priority 3</td>\n",
       "      <td>2024-09-30 23:54:00</td>\n",
       "      <td>Mon</td>\n",
       "      <td>23.00</td>\n",
       "      <td>2024-10-01 01:23:00</td>\n",
       "      <td>2024-10-01 01:23:00</td>\n",
       "      <td>Edward</td>\n",
       "      <td>...</td>\n",
       "      <td>4.00</td>\n",
       "      <td>No Report</td>\n",
       "      <td>No</td>\n",
       "      <td>5503.00</td>\n",
       "      <td>0.00</td>\n",
       "      <td>0.00</td>\n",
       "      <td>0.00</td>\n",
       "      <td>484530000000.00</td>\n",
       "      <td>4530442001.00</td>\n",
       "      <td>7.0</td>\n",
       "    </tr>\n",
       "    <tr>\n",
       "      <th>4</th>\n",
       "      <td>242741637</td>\n",
       "      <td>Dispatched Incident</td>\n",
       "      <td>Not Mental Health Incident</td>\n",
       "      <td>Priority 2</td>\n",
       "      <td>2024-09-30 23:54:00</td>\n",
       "      <td>Mon</td>\n",
       "      <td>23.00</td>\n",
       "      <td>2024-09-30 23:58:00</td>\n",
       "      <td>2024-10-01 00:43:00</td>\n",
       "      <td>Frank</td>\n",
       "      <td>...</td>\n",
       "      <td>6063.00</td>\n",
       "      <td>No Report</td>\n",
       "      <td>No</td>\n",
       "      <td>335.00</td>\n",
       "      <td>0.00</td>\n",
       "      <td>0.00</td>\n",
       "      <td>0.00</td>\n",
       "      <td>484530000000.00</td>\n",
       "      <td>4530024223.00</td>\n",
       "      <td>2.0</td>\n",
       "    </tr>\n",
       "  </tbody>\n",
       "</table>\n",
       "<p>5 rows × 25 columns</p>\n",
       "</div>"
      ],
      "text/plain": [
       "  Incident_Number        Incident_Type          Mental_Health_Flag  \\\n",
       "0       242741642  Dispatched Incident  Not Mental Health Incident   \n",
       "1       242741639  Dispatched Incident  Not Mental Health Incident   \n",
       "2       242741640  Dispatched Incident  Not Mental Health Incident   \n",
       "3       242741638  Dispatched Incident      Mental Health Incident   \n",
       "4       242741637  Dispatched Incident  Not Mental Health Incident   \n",
       "\n",
       "  Priority_Level   Response_Datetime Response_Day_of_Week  Response_Hour  \\\n",
       "0     Priority 0 2024-09-30 23:55:00                  Mon          23.00   \n",
       "1     Priority 2 2024-09-30 23:54:00                  Mon          23.00   \n",
       "2     Priority 2 2024-09-30 23:54:00                  Mon          23.00   \n",
       "3     Priority 3 2024-09-30 23:54:00                  Mon          23.00   \n",
       "4     Priority 2 2024-09-30 23:54:00                  Mon          23.00   \n",
       "\n",
       "  First_Unit_Arrived_Datetime Call_Closed_Datetime  Sector  ...  \\\n",
       "0         2024-09-30 23:58:00  2024-10-01 01:22:00  Edward  ...   \n",
       "1         2024-10-01 00:13:00  2024-10-01 00:18:00   David  ...   \n",
       "2         2024-09-30 23:58:00  2024-10-01 00:50:00     Ida  ...   \n",
       "3         2024-10-01 01:23:00  2024-10-01 01:23:00  Edward  ...   \n",
       "4         2024-09-30 23:58:00  2024-10-01 00:43:00   Frank  ...   \n",
       "\n",
       "  Unit_Time_on_Scene Call_Disposition_Descrip Report_Written_Flag  \\\n",
       "0            9989.00                No Report                  No   \n",
       "1             611.00                No Report                  No   \n",
       "2            3112.00              False Alarm                  No   \n",
       "3               4.00                No Report                  No   \n",
       "4            6063.00                No Report                  No   \n",
       "\n",
       "  Response_Time  Officer_Injured/Killed_Cnt  Subject_Injured/Killed_Cnt  \\\n",
       "0        222.00                        0.00                        0.00   \n",
       "1       1327.00                        0.00                        0.00   \n",
       "2        243.00                        0.00                        0.00   \n",
       "3       5503.00                        0.00                        0.00   \n",
       "4        335.00                        0.00                        0.00   \n",
       "\n",
       "  Other_Injured/Killed_Cnt          Geo_ID  Census_Block_Grp  Council_District  \n",
       "0                     0.00 484530000000.00     4530409002.00               4.0  \n",
       "1                     0.00 484530000000.00     4530013081.00               3.0  \n",
       "2                     0.00 484530000000.00     4530434002.00               4.0  \n",
       "3                     0.00 484530000000.00     4530442001.00               7.0  \n",
       "4                     0.00 484530000000.00     4530024223.00               2.0  \n",
       "\n",
       "[5 rows x 25 columns]"
      ]
     },
     "execution_count": 31,
     "metadata": {},
     "output_type": "execute_result"
    }
   ],
   "source": [
    "# Let's check the new data set\n",
    "# Let's check the first 5 rows of the new data\n",
    "df1.head()"
   ]
  },
  {
   "cell_type": "code",
   "execution_count": 32,
   "id": "35b8c7c5",
   "metadata": {},
   "outputs": [
    {
     "data": {
      "text/html": [
       "<div>\n",
       "<style scoped>\n",
       "    .dataframe tbody tr th:only-of-type {\n",
       "        vertical-align: middle;\n",
       "    }\n",
       "\n",
       "    .dataframe tbody tr th {\n",
       "        vertical-align: top;\n",
       "    }\n",
       "\n",
       "    .dataframe thead th {\n",
       "        text-align: right;\n",
       "    }\n",
       "</style>\n",
       "<table border=\"1\" class=\"dataframe\">\n",
       "  <thead>\n",
       "    <tr style=\"text-align: right;\">\n",
       "      <th></th>\n",
       "      <th>Incident_Number</th>\n",
       "      <th>Incident_Type</th>\n",
       "      <th>Mental_Health_Flag</th>\n",
       "      <th>Priority_Level</th>\n",
       "      <th>Response_Datetime</th>\n",
       "      <th>Response_Day_of_Week</th>\n",
       "      <th>Response_Hour</th>\n",
       "      <th>First_Unit_Arrived_Datetime</th>\n",
       "      <th>Call_Closed_Datetime</th>\n",
       "      <th>Sector</th>\n",
       "      <th>...</th>\n",
       "      <th>Unit_Time_on_Scene</th>\n",
       "      <th>Call_Disposition_Descrip</th>\n",
       "      <th>Report_Written_Flag</th>\n",
       "      <th>Response_Time</th>\n",
       "      <th>Officer_Injured/Killed_Cnt</th>\n",
       "      <th>Subject_Injured/Killed_Cnt</th>\n",
       "      <th>Other_Injured/Killed_Cnt</th>\n",
       "      <th>Geo_ID</th>\n",
       "      <th>Census_Block_Grp</th>\n",
       "      <th>Council_District</th>\n",
       "    </tr>\n",
       "  </thead>\n",
       "  <tbody>\n",
       "    <tr>\n",
       "      <th>952823</th>\n",
       "      <td>211730723</td>\n",
       "      <td>Dispatched Incident</td>\n",
       "      <td>Not Mental Health Incident</td>\n",
       "      <td>Priority 2</td>\n",
       "      <td>2021-06-22 13:06:00</td>\n",
       "      <td>Tue</td>\n",
       "      <td>13.00</td>\n",
       "      <td>2021-06-22 13:11:00</td>\n",
       "      <td>2021-06-22 13:29:00</td>\n",
       "      <td>Charlie</td>\n",
       "      <td>...</td>\n",
       "      <td>1838.00</td>\n",
       "      <td>No Report</td>\n",
       "      <td>No</td>\n",
       "      <td>331.00</td>\n",
       "      <td>0.00</td>\n",
       "      <td>0.00</td>\n",
       "      <td>0.00</td>\n",
       "      <td>484530000000.00</td>\n",
       "      <td>4530008011.00</td>\n",
       "      <td>3.0</td>\n",
       "    </tr>\n",
       "    <tr>\n",
       "      <th>952824</th>\n",
       "      <td>211730720</td>\n",
       "      <td>Dispatched Incident</td>\n",
       "      <td>Mental Health Incident</td>\n",
       "      <td>Priority 1</td>\n",
       "      <td>2021-06-22 13:04:00</td>\n",
       "      <td>Tue</td>\n",
       "      <td>13.00</td>\n",
       "      <td>2021-06-22 13:09:00</td>\n",
       "      <td>2021-06-22 15:31:00</td>\n",
       "      <td>Frank</td>\n",
       "      <td>...</td>\n",
       "      <td>10407.00</td>\n",
       "      <td>Report Written MH</td>\n",
       "      <td>No</td>\n",
       "      <td>317.00</td>\n",
       "      <td>0.00</td>\n",
       "      <td>0.00</td>\n",
       "      <td>0.00</td>\n",
       "      <td>484530000000.00</td>\n",
       "      <td>4530024233.00</td>\n",
       "      <td>2.0</td>\n",
       "    </tr>\n",
       "    <tr>\n",
       "      <th>952825</th>\n",
       "      <td>211730717</td>\n",
       "      <td>Dispatched Incident</td>\n",
       "      <td>Mental Health Incident</td>\n",
       "      <td>Priority 1</td>\n",
       "      <td>2021-06-22 13:02:00</td>\n",
       "      <td>Tue</td>\n",
       "      <td>13.00</td>\n",
       "      <td>2021-06-22 13:24:00</td>\n",
       "      <td>2021-06-22 15:08:00</td>\n",
       "      <td>Baker</td>\n",
       "      <td>...</td>\n",
       "      <td>8143.00</td>\n",
       "      <td>Report Written</td>\n",
       "      <td>Yes</td>\n",
       "      <td>1376.00</td>\n",
       "      <td>0.00</td>\n",
       "      <td>0.00</td>\n",
       "      <td>0.00</td>\n",
       "      <td>484530000000.00</td>\n",
       "      <td>4530004012.00</td>\n",
       "      <td>9.0</td>\n",
       "    </tr>\n",
       "    <tr>\n",
       "      <th>952826</th>\n",
       "      <td>211730715</td>\n",
       "      <td>Dispatched Incident</td>\n",
       "      <td>Not Mental Health Incident</td>\n",
       "      <td>Priority 3</td>\n",
       "      <td>2021-06-22 13:01:00</td>\n",
       "      <td>Tue</td>\n",
       "      <td>13.00</td>\n",
       "      <td>2021-06-22 13:11:00</td>\n",
       "      <td>2021-06-22 14:13:00</td>\n",
       "      <td>Ida</td>\n",
       "      <td>...</td>\n",
       "      <td>6066.00</td>\n",
       "      <td>No Report</td>\n",
       "      <td>No</td>\n",
       "      <td>800.00</td>\n",
       "      <td>0.00</td>\n",
       "      <td>0.00</td>\n",
       "      <td>0.00</td>\n",
       "      <td>484530000000.00</td>\n",
       "      <td>4530002054.00</td>\n",
       "      <td>7.0</td>\n",
       "    </tr>\n",
       "    <tr>\n",
       "      <th>952827</th>\n",
       "      <td>211730713</td>\n",
       "      <td>Dispatched Incident</td>\n",
       "      <td>Mental Health Incident</td>\n",
       "      <td>Priority 3</td>\n",
       "      <td>2021-06-22 13:00:00</td>\n",
       "      <td>Tue</td>\n",
       "      <td>13.00</td>\n",
       "      <td>2021-06-22 13:24:00</td>\n",
       "      <td>2021-06-22 13:24:00</td>\n",
       "      <td>Baker</td>\n",
       "      <td>...</td>\n",
       "      <td>12.00</td>\n",
       "      <td>U{</td>\n",
       "      <td>NaN</td>\n",
       "      <td>NaN</td>\n",
       "      <td>NaN</td>\n",
       "      <td>NaN</td>\n",
       "      <td>NaN</td>\n",
       "      <td>NaN</td>\n",
       "      <td>NaN</td>\n",
       "      <td>nan</td>\n",
       "    </tr>\n",
       "  </tbody>\n",
       "</table>\n",
       "<p>5 rows × 25 columns</p>\n",
       "</div>"
      ],
      "text/plain": [
       "       Incident_Number        Incident_Type          Mental_Health_Flag  \\\n",
       "952823       211730723  Dispatched Incident  Not Mental Health Incident   \n",
       "952824       211730720  Dispatched Incident      Mental Health Incident   \n",
       "952825       211730717  Dispatched Incident      Mental Health Incident   \n",
       "952826       211730715  Dispatched Incident  Not Mental Health Incident   \n",
       "952827       211730713  Dispatched Incident      Mental Health Incident   \n",
       "\n",
       "       Priority_Level   Response_Datetime Response_Day_of_Week  Response_Hour  \\\n",
       "952823     Priority 2 2021-06-22 13:06:00                  Tue          13.00   \n",
       "952824     Priority 1 2021-06-22 13:04:00                  Tue          13.00   \n",
       "952825     Priority 1 2021-06-22 13:02:00                  Tue          13.00   \n",
       "952826     Priority 3 2021-06-22 13:01:00                  Tue          13.00   \n",
       "952827     Priority 3 2021-06-22 13:00:00                  Tue          13.00   \n",
       "\n",
       "       First_Unit_Arrived_Datetime Call_Closed_Datetime   Sector  ...  \\\n",
       "952823         2021-06-22 13:11:00  2021-06-22 13:29:00  Charlie  ...   \n",
       "952824         2021-06-22 13:09:00  2021-06-22 15:31:00    Frank  ...   \n",
       "952825         2021-06-22 13:24:00  2021-06-22 15:08:00    Baker  ...   \n",
       "952826         2021-06-22 13:11:00  2021-06-22 14:13:00      Ida  ...   \n",
       "952827         2021-06-22 13:24:00  2021-06-22 13:24:00    Baker  ...   \n",
       "\n",
       "       Unit_Time_on_Scene Call_Disposition_Descrip Report_Written_Flag  \\\n",
       "952823            1838.00                No Report                  No   \n",
       "952824           10407.00        Report Written MH                  No   \n",
       "952825            8143.00           Report Written                 Yes   \n",
       "952826            6066.00                No Report                  No   \n",
       "952827              12.00                       U{                 NaN   \n",
       "\n",
       "       Response_Time  Officer_Injured/Killed_Cnt  Subject_Injured/Killed_Cnt  \\\n",
       "952823        331.00                        0.00                        0.00   \n",
       "952824        317.00                        0.00                        0.00   \n",
       "952825       1376.00                        0.00                        0.00   \n",
       "952826        800.00                        0.00                        0.00   \n",
       "952827           NaN                         NaN                         NaN   \n",
       "\n",
       "       Other_Injured/Killed_Cnt          Geo_ID  Census_Block_Grp  \\\n",
       "952823                     0.00 484530000000.00     4530008011.00   \n",
       "952824                     0.00 484530000000.00     4530024233.00   \n",
       "952825                     0.00 484530000000.00     4530004012.00   \n",
       "952826                     0.00 484530000000.00     4530002054.00   \n",
       "952827                      NaN             NaN               NaN   \n",
       "\n",
       "        Council_District  \n",
       "952823               3.0  \n",
       "952824               2.0  \n",
       "952825               9.0  \n",
       "952826               7.0  \n",
       "952827               nan  \n",
       "\n",
       "[5 rows x 25 columns]"
      ]
     },
     "execution_count": 32,
     "metadata": {},
     "output_type": "execute_result"
    }
   ],
   "source": [
    "# let's check the last 5 rows\n",
    "df1.tail()"
   ]
  },
  {
   "cell_type": "code",
   "execution_count": 33,
   "id": "92a13f82",
   "metadata": {},
   "outputs": [
    {
     "data": {
      "text/plain": [
       "(952828, 25)"
      ]
     },
     "execution_count": 33,
     "metadata": {},
     "output_type": "execute_result"
    }
   ],
   "source": [
    "# let's check for the number of rows and columns for this new data\n",
    "df1.shape"
   ]
  },
  {
   "cell_type": "markdown",
   "id": "c91279e6",
   "metadata": {},
   "source": [
    "- There are 952828 rows and 25 columns in the dataset."
   ]
  },
  {
   "cell_type": "code",
   "execution_count": 34,
   "id": "e1aeec10",
   "metadata": {},
   "outputs": [
    {
     "data": {
      "text/plain": [
       "Incident_Number                 0\n",
       "Incident_Type                   0\n",
       "Mental_Health_Flag              0\n",
       "Priority_Level                  0\n",
       "Response_Datetime               0\n",
       "Response_Day_of_Week            0\n",
       "Response_Hour                   0\n",
       "First_Unit_Arrived_Datetime     0\n",
       "Call_Closed_Datetime            0\n",
       "Sector                          0\n",
       "Initial_Problem_Descrip         0\n",
       "Initial_Problem_Category        0\n",
       "Final_Problem_Descrip           0\n",
       "Final_Problem_Category          0\n",
       "Number_of_Units_Arrived         0\n",
       "Unit_Time_on_Scene             20\n",
       "Call_Disposition_Descrip        0\n",
       "Report_Written_Flag             1\n",
       "Response_Time                   1\n",
       "Officer_Injured/Killed_Cnt      1\n",
       "Subject_Injured/Killed_Cnt      1\n",
       "Other_Injured/Killed_Cnt        1\n",
       "Geo_ID                          4\n",
       "Census_Block_Grp                4\n",
       "Council_District                0\n",
       "dtype: int64"
      ]
     },
     "execution_count": 34,
     "metadata": {},
     "output_type": "execute_result"
    }
   ],
   "source": [
    "# let's check for missing values in this new data set\n",
    "df1.isnull().sum()"
   ]
  },
  {
   "cell_type": "markdown",
   "id": "38205c7c",
   "metadata": {},
   "source": [
    "- There are still some missing values in the new dataset."
   ]
  },
  {
   "cell_type": "code",
   "execution_count": 35,
   "id": "92f0fa8a",
   "metadata": {},
   "outputs": [
    {
     "data": {
      "text/plain": [
       "Index(['Unit_Time_on_Scene', 'Report_Written_Flag', 'Response_Time',\n",
       "       'Officer_Injured/Killed_Cnt', 'Subject_Injured/Killed_Cnt',\n",
       "       'Other_Injured/Killed_Cnt', 'Geo_ID', 'Census_Block_Grp',\n",
       "       'Council_District'],\n",
       "      dtype='object')"
      ]
     },
     "execution_count": 35,
     "metadata": {},
     "output_type": "execute_result"
    }
   ],
   "source": [
    "# there are some columns that contain 'nan' and 'NaN'\n",
    "# Let's set a function to check for both 'nan' and actual NaN\n",
    "def contains_nan_and_string_nan(column):\n",
    "    return column.isna().any() or (column == 'nan').any()\n",
    "\n",
    "# Identify columns that contain 'nan' or NaN\n",
    "df1.columns[df1.apply(contains_nan_and_string_nan)]"
   ]
  },
  {
   "cell_type": "code",
   "execution_count": 36,
   "id": "eed2418d",
   "metadata": {},
   "outputs": [],
   "source": [
    "# Let's replace 'nan' string with actual NaN\n",
    "df1.replace('nan', np.nan, inplace=True)\n"
   ]
  },
  {
   "cell_type": "code",
   "execution_count": 37,
   "id": "15e3929c",
   "metadata": {},
   "outputs": [
    {
     "data": {
      "text/plain": [
       "Incident_Number                 0\n",
       "Incident_Type                   0\n",
       "Mental_Health_Flag              0\n",
       "Priority_Level                  0\n",
       "Response_Datetime               0\n",
       "Response_Day_of_Week            0\n",
       "Response_Hour                   0\n",
       "First_Unit_Arrived_Datetime     0\n",
       "Call_Closed_Datetime            0\n",
       "Sector                          0\n",
       "Initial_Problem_Descrip         0\n",
       "Initial_Problem_Category        0\n",
       "Final_Problem_Descrip           0\n",
       "Final_Problem_Category          0\n",
       "Number_of_Units_Arrived         0\n",
       "Unit_Time_on_Scene             20\n",
       "Call_Disposition_Descrip        0\n",
       "Report_Written_Flag             1\n",
       "Response_Time                   1\n",
       "Officer_Injured/Killed_Cnt      1\n",
       "Subject_Injured/Killed_Cnt      1\n",
       "Other_Injured/Killed_Cnt        1\n",
       "Geo_ID                          4\n",
       "Census_Block_Grp                4\n",
       "Council_District                1\n",
       "dtype: int64"
      ]
     },
     "execution_count": 37,
     "metadata": {},
     "output_type": "execute_result"
    }
   ],
   "source": [
    "# Let's check for missing values again\n",
    "df1.isna().sum()"
   ]
  },
  {
   "cell_type": "code",
   "execution_count": 38,
   "id": "ce8e8b28",
   "metadata": {},
   "outputs": [
    {
     "data": {
      "text/html": [
       "<div>\n",
       "<style scoped>\n",
       "    .dataframe tbody tr th:only-of-type {\n",
       "        vertical-align: middle;\n",
       "    }\n",
       "\n",
       "    .dataframe tbody tr th {\n",
       "        vertical-align: top;\n",
       "    }\n",
       "\n",
       "    .dataframe thead th {\n",
       "        text-align: right;\n",
       "    }\n",
       "</style>\n",
       "<table border=\"1\" class=\"dataframe\">\n",
       "  <thead>\n",
       "    <tr style=\"text-align: right;\">\n",
       "      <th></th>\n",
       "      <th>Incident_Number</th>\n",
       "      <th>Incident_Type</th>\n",
       "      <th>Mental_Health_Flag</th>\n",
       "      <th>Priority_Level</th>\n",
       "      <th>Response_Datetime</th>\n",
       "      <th>Response_Day_of_Week</th>\n",
       "      <th>Response_Hour</th>\n",
       "      <th>First_Unit_Arrived_Datetime</th>\n",
       "      <th>Call_Closed_Datetime</th>\n",
       "      <th>Sector</th>\n",
       "      <th>...</th>\n",
       "      <th>Unit_Time_on_Scene</th>\n",
       "      <th>Call_Disposition_Descrip</th>\n",
       "      <th>Report_Written_Flag</th>\n",
       "      <th>Response_Time</th>\n",
       "      <th>Officer_Injured/Killed_Cnt</th>\n",
       "      <th>Subject_Injured/Killed_Cnt</th>\n",
       "      <th>Other_Injured/Killed_Cnt</th>\n",
       "      <th>Geo_ID</th>\n",
       "      <th>Census_Block_Grp</th>\n",
       "      <th>Council_District</th>\n",
       "    </tr>\n",
       "  </thead>\n",
       "  <tbody>\n",
       "    <tr>\n",
       "      <th>0</th>\n",
       "      <td>242741642</td>\n",
       "      <td>Dispatched Incident</td>\n",
       "      <td>Not Mental Health Incident</td>\n",
       "      <td>Priority 0</td>\n",
       "      <td>2024-09-30 23:55:00</td>\n",
       "      <td>Mon</td>\n",
       "      <td>23.00</td>\n",
       "      <td>2024-09-30 23:58:00</td>\n",
       "      <td>2024-10-01 01:22:00</td>\n",
       "      <td>Edward</td>\n",
       "      <td>...</td>\n",
       "      <td>9989.00</td>\n",
       "      <td>No Report</td>\n",
       "      <td>No</td>\n",
       "      <td>222.00</td>\n",
       "      <td>0.00</td>\n",
       "      <td>0.00</td>\n",
       "      <td>0.00</td>\n",
       "      <td>484530000000.00</td>\n",
       "      <td>4530409002.00</td>\n",
       "      <td>4.0</td>\n",
       "    </tr>\n",
       "    <tr>\n",
       "      <th>1</th>\n",
       "      <td>242741639</td>\n",
       "      <td>Dispatched Incident</td>\n",
       "      <td>Not Mental Health Incident</td>\n",
       "      <td>Priority 2</td>\n",
       "      <td>2024-09-30 23:54:00</td>\n",
       "      <td>Mon</td>\n",
       "      <td>23.00</td>\n",
       "      <td>2024-10-01 00:13:00</td>\n",
       "      <td>2024-10-01 00:18:00</td>\n",
       "      <td>David</td>\n",
       "      <td>...</td>\n",
       "      <td>611.00</td>\n",
       "      <td>No Report</td>\n",
       "      <td>No</td>\n",
       "      <td>1327.00</td>\n",
       "      <td>0.00</td>\n",
       "      <td>0.00</td>\n",
       "      <td>0.00</td>\n",
       "      <td>484530000000.00</td>\n",
       "      <td>4530013081.00</td>\n",
       "      <td>3.0</td>\n",
       "    </tr>\n",
       "    <tr>\n",
       "      <th>2</th>\n",
       "      <td>242741640</td>\n",
       "      <td>Dispatched Incident</td>\n",
       "      <td>Not Mental Health Incident</td>\n",
       "      <td>Priority 2</td>\n",
       "      <td>2024-09-30 23:54:00</td>\n",
       "      <td>Mon</td>\n",
       "      <td>23.00</td>\n",
       "      <td>2024-09-30 23:58:00</td>\n",
       "      <td>2024-10-01 00:50:00</td>\n",
       "      <td>Ida</td>\n",
       "      <td>...</td>\n",
       "      <td>3112.00</td>\n",
       "      <td>False Alarm</td>\n",
       "      <td>No</td>\n",
       "      <td>243.00</td>\n",
       "      <td>0.00</td>\n",
       "      <td>0.00</td>\n",
       "      <td>0.00</td>\n",
       "      <td>484530000000.00</td>\n",
       "      <td>4530434002.00</td>\n",
       "      <td>4.0</td>\n",
       "    </tr>\n",
       "    <tr>\n",
       "      <th>3</th>\n",
       "      <td>242741638</td>\n",
       "      <td>Dispatched Incident</td>\n",
       "      <td>Mental Health Incident</td>\n",
       "      <td>Priority 3</td>\n",
       "      <td>2024-09-30 23:54:00</td>\n",
       "      <td>Mon</td>\n",
       "      <td>23.00</td>\n",
       "      <td>2024-10-01 01:23:00</td>\n",
       "      <td>2024-10-01 01:23:00</td>\n",
       "      <td>Edward</td>\n",
       "      <td>...</td>\n",
       "      <td>4.00</td>\n",
       "      <td>No Report</td>\n",
       "      <td>No</td>\n",
       "      <td>5503.00</td>\n",
       "      <td>0.00</td>\n",
       "      <td>0.00</td>\n",
       "      <td>0.00</td>\n",
       "      <td>484530000000.00</td>\n",
       "      <td>4530442001.00</td>\n",
       "      <td>7.0</td>\n",
       "    </tr>\n",
       "    <tr>\n",
       "      <th>4</th>\n",
       "      <td>242741637</td>\n",
       "      <td>Dispatched Incident</td>\n",
       "      <td>Not Mental Health Incident</td>\n",
       "      <td>Priority 2</td>\n",
       "      <td>2024-09-30 23:54:00</td>\n",
       "      <td>Mon</td>\n",
       "      <td>23.00</td>\n",
       "      <td>2024-09-30 23:58:00</td>\n",
       "      <td>2024-10-01 00:43:00</td>\n",
       "      <td>Frank</td>\n",
       "      <td>...</td>\n",
       "      <td>6063.00</td>\n",
       "      <td>No Report</td>\n",
       "      <td>No</td>\n",
       "      <td>335.00</td>\n",
       "      <td>0.00</td>\n",
       "      <td>0.00</td>\n",
       "      <td>0.00</td>\n",
       "      <td>484530000000.00</td>\n",
       "      <td>4530024223.00</td>\n",
       "      <td>2.0</td>\n",
       "    </tr>\n",
       "  </tbody>\n",
       "</table>\n",
       "<p>5 rows × 25 columns</p>\n",
       "</div>"
      ],
      "text/plain": [
       "  Incident_Number        Incident_Type          Mental_Health_Flag  \\\n",
       "0       242741642  Dispatched Incident  Not Mental Health Incident   \n",
       "1       242741639  Dispatched Incident  Not Mental Health Incident   \n",
       "2       242741640  Dispatched Incident  Not Mental Health Incident   \n",
       "3       242741638  Dispatched Incident      Mental Health Incident   \n",
       "4       242741637  Dispatched Incident  Not Mental Health Incident   \n",
       "\n",
       "  Priority_Level   Response_Datetime Response_Day_of_Week  Response_Hour  \\\n",
       "0     Priority 0 2024-09-30 23:55:00                  Mon          23.00   \n",
       "1     Priority 2 2024-09-30 23:54:00                  Mon          23.00   \n",
       "2     Priority 2 2024-09-30 23:54:00                  Mon          23.00   \n",
       "3     Priority 3 2024-09-30 23:54:00                  Mon          23.00   \n",
       "4     Priority 2 2024-09-30 23:54:00                  Mon          23.00   \n",
       "\n",
       "  First_Unit_Arrived_Datetime Call_Closed_Datetime  Sector  ...  \\\n",
       "0         2024-09-30 23:58:00  2024-10-01 01:22:00  Edward  ...   \n",
       "1         2024-10-01 00:13:00  2024-10-01 00:18:00   David  ...   \n",
       "2         2024-09-30 23:58:00  2024-10-01 00:50:00     Ida  ...   \n",
       "3         2024-10-01 01:23:00  2024-10-01 01:23:00  Edward  ...   \n",
       "4         2024-09-30 23:58:00  2024-10-01 00:43:00   Frank  ...   \n",
       "\n",
       "  Unit_Time_on_Scene Call_Disposition_Descrip Report_Written_Flag  \\\n",
       "0            9989.00                No Report                  No   \n",
       "1             611.00                No Report                  No   \n",
       "2            3112.00              False Alarm                  No   \n",
       "3               4.00                No Report                  No   \n",
       "4            6063.00                No Report                  No   \n",
       "\n",
       "  Response_Time  Officer_Injured/Killed_Cnt  Subject_Injured/Killed_Cnt  \\\n",
       "0        222.00                        0.00                        0.00   \n",
       "1       1327.00                        0.00                        0.00   \n",
       "2        243.00                        0.00                        0.00   \n",
       "3       5503.00                        0.00                        0.00   \n",
       "4        335.00                        0.00                        0.00   \n",
       "\n",
       "  Other_Injured/Killed_Cnt          Geo_ID  Census_Block_Grp  Council_District  \n",
       "0                     0.00 484530000000.00     4530409002.00               4.0  \n",
       "1                     0.00 484530000000.00     4530013081.00               3.0  \n",
       "2                     0.00 484530000000.00     4530434002.00               4.0  \n",
       "3                     0.00 484530000000.00     4530442001.00               7.0  \n",
       "4                     0.00 484530000000.00     4530024223.00               2.0  \n",
       "\n",
       "[5 rows x 25 columns]"
      ]
     },
     "execution_count": 38,
     "metadata": {},
     "output_type": "execute_result"
    }
   ],
   "source": [
    "df1.head()"
   ]
  },
  {
   "cell_type": "markdown",
   "id": "04c16da1",
   "metadata": {},
   "source": [
    "### Univariate Analysis"
   ]
  },
  {
   "cell_type": "markdown",
   "id": "de325a41",
   "metadata": {},
   "source": [
    "#### Mental Health Flag"
   ]
  },
  {
   "cell_type": "code",
   "execution_count": 39,
   "id": "75b2ef7c",
   "metadata": {},
   "outputs": [
    {
     "data": {
      "image/png": "[encoded data removed]",
      "text/plain": [
       "<Figure size 1080x504 with 1 Axes>"
      ]
     },
     "metadata": {
      "needs_background": "light"
     },
     "output_type": "display_data"
    }
   ],
   "source": [
    "# create a plot to visualize the column\n",
    "plt.figure(figsize=(15,7))\n",
    "plt.title('A Countplot of Mental Health Flag')\n",
    "sns.countplot(data= df1,x='Mental_Health_Flag')\n",
    "plt.xlabel('Mental Health Flag')\n",
    "plt.show()"
   ]
  },
  {
   "cell_type": "markdown",
   "id": "ffd740cf",
   "metadata": {},
   "source": [
    "- There are less mental health incidents than non-mental health incidents."
   ]
  },
  {
   "cell_type": "markdown",
   "id": "9f14c4a3",
   "metadata": {},
   "source": [
    "### Priority Level"
   ]
  },
  {
   "cell_type": "code",
   "execution_count": 40,
   "id": "ccd50581",
   "metadata": {},
   "outputs": [
    {
     "data": {
      "image/png": "[encoded data removed]",
      "text/plain": [
       "<Figure size 1080x504 with 1 Axes>"
      ]
     },
     "metadata": {
      "needs_background": "light"
     },
     "output_type": "display_data"
    }
   ],
   "source": [
    "# create a plot to visualize the column\n",
    "plt.figure(figsize=(15,7))\n",
    "plt.title('A Countplot of Priority Levels')\n",
    "sns.countplot(data= df1,x='Priority_Level')\n",
    "plt.xlabel('Priority Levels')\n",
    "plt.show()"
   ]
  },
  {
   "cell_type": "markdown",
   "id": "0cafeafb",
   "metadata": {},
   "source": [
    "- Priority 2 make up about 50% of the data."
   ]
  },
  {
   "cell_type": "markdown",
   "id": "a3318f1c",
   "metadata": {},
   "source": [
    "### Response of the week"
   ]
  },
  {
   "cell_type": "code",
   "execution_count": 41,
   "id": "68f64e2b",
   "metadata": {},
   "outputs": [
    {
     "data": {
      "image/png": "[encoded data removed]",
      "text/plain": [
       "<Figure size 1080x504 with 1 Axes>"
      ]
     },
     "metadata": {
      "needs_background": "light"
     },
     "output_type": "display_data"
    }
   ],
   "source": [
    "# create a plot to visualize the column\n",
    "plt.figure(figsize=(15,7))\n",
    "plt.title('A Countplot of the Days of the Week')\n",
    "sns.countplot(data= df1,x='Response_Day_of_Week')\n",
    "plt.xlabel('Days of the week')\n",
    "plt.show()"
   ]
  },
  {
   "cell_type": "markdown",
   "id": "683174da",
   "metadata": {},
   "source": [
    "- There are more incidents on Friday and Saturday than the other days of the week."
   ]
  },
  {
   "cell_type": "markdown",
   "id": "319b4fb1",
   "metadata": {},
   "source": [
    "### Sector"
   ]
  },
  {
   "cell_type": "code",
   "execution_count": 42,
   "id": "eb4ca55b",
   "metadata": {},
   "outputs": [
    {
     "data": {
      "image/png": "[encoded data removed]",
      "text/plain": [
       "<Figure size 1440x504 with 1 Axes>"
      ]
     },
     "metadata": {
      "needs_background": "light"
     },
     "output_type": "display_data"
    }
   ],
   "source": [
    "# create a plot to visualize the column\n",
    "plt.figure(figsize=(20,7))\n",
    "plt.title('A Countplot of the Sectors')\n",
    "sns.countplot(data= df1,x='Sector')\n",
    "plt.xlabel('Sector')\n",
    "plt.show()"
   ]
  },
  {
   "cell_type": "markdown",
   "id": "48d3b362",
   "metadata": {},
   "source": [
    "- Edward sector has the highest number of incidents amoung other sectors."
   ]
  },
  {
   "cell_type": "markdown",
   "id": "9cda8ee9",
   "metadata": {},
   "source": [
    "### Response Hour"
   ]
  },
  {
   "cell_type": "code",
   "execution_count": 43,
   "id": "09a820aa",
   "metadata": {},
   "outputs": [
    {
     "data": {
      "image/png": "[encoded data removed]",
      "text/plain": [
       "<Figure size 1440x504 with 1 Axes>"
      ]
     },
     "metadata": {
      "needs_background": "light"
     },
     "output_type": "display_data"
    }
   ],
   "source": [
    "# create a plot to visualize the column\n",
    "plt.figure(figsize=(20,7))\n",
    "plt.title('A Countplot of Response Hours')\n",
    "sns.countplot(data= df1,x='Response_Hour')\n",
    "plt.xlabel('Response Hours')\n",
    "plt.show()"
   ]
  },
  {
   "cell_type": "markdown",
   "id": "7ae30e66",
   "metadata": {},
   "source": [
    "- The response hour with the highest frequency is 17:00(5pm), followed by 18:00(6pm) and 16:00(4pm)."
   ]
  },
  {
   "cell_type": "markdown",
   "id": "0dc74cdc",
   "metadata": {},
   "source": [
    "### Council District"
   ]
  },
  {
   "cell_type": "code",
   "execution_count": 44,
   "id": "dc964f15",
   "metadata": {},
   "outputs": [
    {
     "data": {
      "image/png": "[encoded data removed]",
      "text/plain": [
       "<Figure size 1080x504 with 1 Axes>"
      ]
     },
     "metadata": {
      "needs_background": "light"
     },
     "output_type": "display_data"
    }
   ],
   "source": [
    "# create a plot to visualize the column\n",
    "plt.figure(figsize=(15,7))\n",
    "plt.title('A Countplot of Council Districts')\n",
    "sns.countplot(data= df1,x='Council_District')\n",
    "plt.xlabel('Council Districts')\n",
    "plt.show()"
   ]
  },
  {
   "cell_type": "markdown",
   "id": "564bd5d1",
   "metadata": {},
   "source": [
    "- There are more incidents in Districts 3.0, 9.0 and 4.0."
   ]
  },
  {
   "cell_type": "markdown",
   "id": "d32a73c8",
   "metadata": {},
   "source": [
    "### Response Time"
   ]
  },
  {
   "cell_type": "code",
   "execution_count": 45,
   "id": "e58564c5",
   "metadata": {},
   "outputs": [
    {
     "data": {
      "image/png": "[encoded data removed]",
      "text/plain": [
       "<Figure size 1080x504 with 1 Axes>"
      ]
     },
     "metadata": {
      "needs_background": "light"
     },
     "output_type": "display_data"
    }
   ],
   "source": [
    "# create a plot to visualize the column\n",
    "plt.figure(figsize=(15,7))\n",
    "plt.title('A Distribution of Response Time')\n",
    "sns.histplot(data= df1,x='Response_Time')\n",
    "plt.xlabel('Response_Time')\n",
    "plt.show()"
   ]
  },
  {
   "cell_type": "markdown",
   "id": "c940b103",
   "metadata": {},
   "source": [
    "### Bivariate Analysis"
   ]
  },
  {
   "cell_type": "markdown",
   "id": "8b0292d9",
   "metadata": {},
   "source": [
    "#### Average Response Time by Priority"
   ]
  },
  {
   "cell_type": "code",
   "execution_count": 46,
   "id": "886b4728",
   "metadata": {},
   "outputs": [
    {
     "name": "stdout",
     "output_type": "stream",
     "text": [
      "\n",
      "Average Response Time by Priority Level:\n",
      " Priority_Level\n",
      "Priority 0    566.15\n",
      "Priority 1    756.15\n",
      "Priority 2   2050.02\n",
      "Priority 3   5502.47\n",
      "Name: Response_Time, dtype: float64\n"
     ]
    }
   ],
   "source": [
    "# Calculate average response time by Priority Level\n",
    "response_time_by_priority = df1.groupby('Priority_Level')['Response_Time'].mean()\n",
    "print(\"\\nAverage Response Time by Priority Level:\\n\", response_time_by_priority)"
   ]
  },
  {
   "cell_type": "code",
   "execution_count": 47,
   "id": "860efd0f",
   "metadata": {},
   "outputs": [
    {
     "data": {
      "image/png": "[encoded data removed]",
      "text/plain": [
       "<Figure size 1080x504 with 1 Axes>"
      ]
     },
     "metadata": {
      "needs_background": "light"
     },
     "output_type": "display_data"
    }
   ],
   "source": [
    "# create a plot to visualize the analysis\n",
    "plt.figure(figsize=(15,7))\n",
    "plt.title('Average Response Time by Priority')\n",
    "sns.barplot(data= df1,x='Priority_Level',y='Response_Time')\n",
    "plt.xlabel('Priority_Level')\n",
    "plt.ylabel('Response_Time')\n",
    "plt.show()"
   ]
  },
  {
   "cell_type": "markdown",
   "id": "3e509c5e",
   "metadata": {},
   "source": [
    "- The priority levels with the lowest average response time are Priority level 0 and 1 \n",
    "- The priority levels with the highest average response time are Priority 2 and 3."
   ]
  },
  {
   "cell_type": "markdown",
   "id": "1423e073",
   "metadata": {},
   "source": [
    "### Average Response Time by Sector"
   ]
  },
  {
   "cell_type": "code",
   "execution_count": 48,
   "id": "79d308f3",
   "metadata": {},
   "outputs": [
    {
     "name": "stdout",
     "output_type": "stream",
     "text": [
      "\n",
      "Average Response Time by Sector:\n",
      " Sector\n",
      "Adam      2392.37\n",
      "Airport    406.32\n",
      "Baker     1779.93\n",
      "Charlie   2243.05\n",
      "David     1991.94\n",
      "Edward    2908.24\n",
      "Frank     2593.06\n",
      "George    1471.25\n",
      "Henry     2569.86\n",
      "Ida       2045.22\n",
      "Other      710.00\n",
      "Name: Response_Time, dtype: float64\n"
     ]
    }
   ],
   "source": [
    "#  Calculate average response time by sector\n",
    "response_time_by_sector = df1.groupby('Sector')['Response_Time'].mean()\n",
    "print(\"\\nAverage Response Time by Sector:\\n\", response_time_by_sector)"
   ]
  },
  {
   "cell_type": "code",
   "execution_count": 49,
   "id": "5a1cf58c",
   "metadata": {},
   "outputs": [
    {
     "data": {
      "image/png": "[encoded data removed]",
      "text/plain": [
       "<Figure size 1080x504 with 1 Axes>"
      ]
     },
     "metadata": {
      "needs_background": "light"
     },
     "output_type": "display_data"
    }
   ],
   "source": [
    "# create a plot to visualize the analysis\n",
    "plt.figure(figsize=(15,7))\n",
    "plt.title('Average Response Time by Sector')\n",
    "sns.barplot(data= df1,x='Sector',y='Response_Time')\n",
    "plt.xlabel('Sector')\n",
    "plt.ylabel('Response_Time')\n",
    "plt.show()"
   ]
  },
  {
   "cell_type": "markdown",
   "id": "bdd06a44",
   "metadata": {},
   "source": [
    "- The sectors with the highest average response time are Edward(2908.24),Frank(2593.06) and Henry(2569.86)\n",
    "- Airport sector has the least average response time"
   ]
  },
  {
   "cell_type": "markdown",
   "id": "96de6b16",
   "metadata": {},
   "source": [
    "### Average Response Time by Mental Health Flag"
   ]
  },
  {
   "cell_type": "code",
   "execution_count": 50,
   "id": "be942d2b",
   "metadata": {},
   "outputs": [
    {
     "name": "stdout",
     "output_type": "stream",
     "text": [
      "\n",
      "Average Response Time by Mental Health Flag:\n",
      " Mental_Health_Flag\n",
      "Mental Health Incident       2378.16\n",
      "Not Mental Health Incident   2235.72\n",
      "Name: Response_Time, dtype: float64\n"
     ]
    }
   ],
   "source": [
    "#  Calculate average response time by mental health flag\n",
    "response_time_by_mentalhealth_flag = df1.groupby('Mental_Health_Flag')['Response_Time'].mean()\n",
    "print(\"\\nAverage Response Time by Mental Health Flag:\\n\", response_time_by_mentalhealth_flag)"
   ]
  },
  {
   "cell_type": "code",
   "execution_count": 51,
   "id": "7cbf84e3",
   "metadata": {},
   "outputs": [
    {
     "data": {
      "image/png": "[encoded data removed]",
      "text/plain": [
       "<Figure size 1080x504 with 1 Axes>"
      ]
     },
     "metadata": {
      "needs_background": "light"
     },
     "output_type": "display_data"
    }
   ],
   "source": [
    "# create a plot to visualize the analysis\n",
    "plt.figure(figsize=(15,7))\n",
    "plt.title('Average Response Time by Mental Health Flag')\n",
    "sns.barplot(data= df1,x='Mental_Health_Flag',y='Response_Time')\n",
    "plt.xlabel('Mental_Health_Flag')\n",
    "plt.ylabel('Response_Time')\n",
    "plt.show()"
   ]
  },
  {
   "cell_type": "markdown",
   "id": "b6a7fe6d",
   "metadata": {},
   "source": [
    "- The average response time for Mental Health Incidents is 2378.16 seconds\n",
    "- The average response time for Non-Mental Health Incidents is 2235.72 seconds"
   ]
  },
  {
   "cell_type": "markdown",
   "id": "e4978451",
   "metadata": {},
   "source": [
    "### Average Response Time by Day of the week"
   ]
  },
  {
   "cell_type": "code",
   "execution_count": 52,
   "id": "a80c975d",
   "metadata": {},
   "outputs": [
    {
     "name": "stdout",
     "output_type": "stream",
     "text": [
      "\n",
      "Average Response Time by Response Day of the Week:\n",
      " Response_Day_of_Week\n",
      "Fri   1882.62\n",
      "Mon   2308.79\n",
      "Sat   2520.14\n",
      "Sun   2347.73\n",
      "Thu   2204.63\n",
      "Tue   2251.49\n",
      "Wed   2277.87\n",
      "Name: Response_Time, dtype: float64\n"
     ]
    }
   ],
   "source": [
    "#  Calculate average response time by day of the week\n",
    "response_time_by_resp_day_ofweek = df1.groupby('Response_Day_of_Week')['Response_Time'].mean()\n",
    "print(\"\\nAverage Response Time by Response Day of the Week:\\n\", response_time_by_resp_day_ofweek)"
   ]
  },
  {
   "cell_type": "code",
   "execution_count": 53,
   "id": "a321a225",
   "metadata": {},
   "outputs": [
    {
     "data": {
      "image/png": "[encoded data removed]",
      "text/plain": [
       "<Figure size 1080x504 with 1 Axes>"
      ]
     },
     "metadata": {
      "needs_background": "light"
     },
     "output_type": "display_data"
    }
   ],
   "source": [
    "# create a plot to visualize the analysis\n",
    "plt.figure(figsize=(15,7))\n",
    "plt.title('Average Response Time by Days of the Week')\n",
    "sns.barplot(data= df1,x='Response_Day_of_Week',y='Response_Time')\n",
    "plt.xlabel('Days of the Week')\n",
    "plt.ylabel('Response_Time')\n",
    "plt.show()"
   ]
  },
  {
   "cell_type": "markdown",
   "id": "a9ea932b",
   "metadata": {},
   "source": [
    "- Friday has the fastest average response times (1882.62seconds)\n",
    "- Saturday has the slowest average response time(2520.14 seconds)"
   ]
  },
  {
   "cell_type": "markdown",
   "id": "dd5d292c",
   "metadata": {},
   "source": [
    "### Average Response Time by Council District"
   ]
  },
  {
   "cell_type": "code",
   "execution_count": 54,
   "id": "b17e1b6a",
   "metadata": {},
   "outputs": [
    {
     "name": "stdout",
     "output_type": "stream",
     "text": [
      "\n",
      "Average Response Time by Council District:\n",
      " Council_District\n",
      "0.0    1703.55\n",
      "1.0    2609.95\n",
      "10.0   1903.00\n",
      "2.0    2426.08\n",
      "3.0    2256.25\n",
      "4.0    2595.32\n",
      "5.0    2101.05\n",
      "6.0    2354.72\n",
      "7.0    2345.27\n",
      "8.0    1970.30\n",
      "9.0    1739.37\n",
      "Name: Response_Time, dtype: float64\n"
     ]
    }
   ],
   "source": [
    "#  Calculate average response time by council district\n",
    "response_time_by_council_dist = df1.groupby('Council_District')['Response_Time'].mean()\n",
    "print(\"\\nAverage Response Time by Council District:\\n\", response_time_by_council_dist)"
   ]
  },
  {
   "cell_type": "code",
   "execution_count": 55,
   "id": "ca8b3656",
   "metadata": {},
   "outputs": [
    {
     "data": {
      "image/png": "[encoded data removed]",
      "text/plain": [
       "<Figure size 1080x504 with 1 Axes>"
      ]
     },
     "metadata": {
      "needs_background": "light"
     },
     "output_type": "display_data"
    }
   ],
   "source": [
    "# create a plot to visualize the analysis\n",
    "plt.figure(figsize=(15,7))\n",
    "plt.title('Average Response Time by Council District')\n",
    "sns.barplot(data= df1,x='Council_District',y='Response_Time')\n",
    "plt.xlabel('Council District')\n",
    "plt.ylabel('Response_Time')\n",
    "plt.show()"
   ]
  },
  {
   "cell_type": "markdown",
   "id": "ce42a2e9",
   "metadata": {},
   "source": [
    "- District 0.0 has the fastest average response time.\n",
    "- District 1.0 has the slowest average response time."
   ]
  },
  {
   "cell_type": "markdown",
   "id": "af2bb161",
   "metadata": {},
   "source": [
    "### Average Response Time by Hour of the Day"
   ]
  },
  {
   "cell_type": "code",
   "execution_count": 56,
   "id": "66180dd8",
   "metadata": {},
   "outputs": [
    {
     "name": "stdout",
     "output_type": "stream",
     "text": [
      "\n",
      "Average Response Time by Hour:\n",
      " Response_Hour\n",
      "0.00    1919.05\n",
      "1.00    2007.27\n",
      "2.00    2131.92\n",
      "3.00    2444.18\n",
      "4.00    2705.49\n",
      "5.00    2832.01\n",
      "6.00    1828.53\n",
      "7.00    1887.49\n",
      "8.00    2158.98\n",
      "9.00    2404.38\n",
      "10.00   2649.38\n",
      "11.00   2877.56\n",
      "12.00   2865.10\n",
      "13.00   2925.54\n",
      "14.00   2915.23\n",
      "15.00   2410.20\n",
      "16.00   2171.05\n",
      "17.00   1998.29\n",
      "18.00   2013.16\n",
      "19.00   2082.57\n",
      "20.00   2095.84\n",
      "21.00   1699.30\n",
      "22.00   1621.33\n",
      "23.00   1852.57\n",
      "Name: Response_Time, dtype: float64\n"
     ]
    }
   ],
   "source": [
    "# Response time by hour of the day\n",
    "response_time_by_hour = df1.groupby('Response_Hour')['Response_Time'].mean()\n",
    "print(\"\\nAverage Response Time by Hour:\\n\", response_time_by_hour)\n"
   ]
  },
  {
   "cell_type": "code",
   "execution_count": 57,
   "id": "602eb9a7",
   "metadata": {},
   "outputs": [
    {
     "data": {
      "image/png": "[encoded data removed]",
      "text/plain": [
       "<Figure size 1080x504 with 1 Axes>"
      ]
     },
     "metadata": {
      "needs_background": "light"
     },
     "output_type": "display_data"
    }
   ],
   "source": [
    "# Plot response time by hour\n",
    "plt.figure(figsize=(15, 7))\n",
    "sns.lineplot(x=response_time_by_hour.index, y=response_time_by_hour.values)\n",
    "plt.title(\"Average Response Time by Hour\")\n",
    "plt.xlabel(\"Hour of the Day\")\n",
    "plt.ylabel(\"Average Response Time (seconds)\")\n",
    "plt.show()"
   ]
  },
  {
   "cell_type": "markdown",
   "id": "692e27ae",
   "metadata": {},
   "source": [
    "- 22:00(10pm) has the fastest average response time, followed by 21:00(9pm)"
   ]
  },
  {
   "cell_type": "markdown",
   "id": "c2e32fbb",
   "metadata": {},
   "source": [
    "### Average Number of units dispatched by Incident Type"
   ]
  },
  {
   "cell_type": "code",
   "execution_count": 58,
   "id": "457c1217",
   "metadata": {},
   "outputs": [
    {
     "name": "stdout",
     "output_type": "stream",
     "text": [
      "\n",
      "Average Number of Units Dispatched by Incident Type:\n",
      " Incident_Type\n",
      "Dispatched Incident   1.93\n",
      "Name: Number_of_Units_Arrived, dtype: float64\n"
     ]
    }
   ],
   "source": [
    "# Average number of units dispatched per incident type\n",
    "units_by_incident_type = df1.groupby('Incident_Type')['Number_of_Units_Arrived'].mean()\n",
    "print(\"\\nAverage Number of Units Dispatched by Incident Type:\\n\", units_by_incident_type)"
   ]
  },
  {
   "cell_type": "markdown",
   "id": "816103e7",
   "metadata": {},
   "source": [
    "- The average number of units dispatched to scene is approximately 2 units"
   ]
  },
  {
   "cell_type": "markdown",
   "id": "cef9a46d",
   "metadata": {},
   "source": [
    "### Average Number of units by Council District"
   ]
  },
  {
   "cell_type": "code",
   "execution_count": 59,
   "id": "f07f468e",
   "metadata": {},
   "outputs": [
    {
     "data": {
      "image/png": "[encoded data removed]",
      "text/plain": [
       "<Figure size 1080x504 with 1 Axes>"
      ]
     },
     "metadata": {
      "needs_background": "light"
     },
     "output_type": "display_data"
    }
   ],
   "source": [
    "# Average number of units dispatched by council district\n",
    "units_by_district = df1.groupby('Council_District')['Number_of_Units_Arrived'].mean()\n",
    "\n",
    "plt.figure(figsize=(15, 7))\n",
    "sns.barplot(x=units_by_district.index, y=units_by_district.values)\n",
    "plt.title(\"Average Number of Units Dispatched by Council District\")\n",
    "plt.xlabel(\"Council District\")\n",
    "plt.ylabel(\"Average Number of Units Arrived\")\n",
    "plt.show()"
   ]
  },
  {
   "cell_type": "markdown",
   "id": "6b492bf6",
   "metadata": {},
   "source": [
    "### Key Questions"
   ]
  },
  {
   "cell_type": "markdown",
   "id": "8ff8a275",
   "metadata": {},
   "source": [
    "#### •\tWhat is the total number of incidents that occurred in each sector?"
   ]
  },
  {
   "cell_type": "code",
   "execution_count": 60,
   "id": "fddf5428",
   "metadata": {},
   "outputs": [
    {
     "name": "stdout",
     "output_type": "stream",
     "text": [
      "\n",
      "Total Number of Incidents in each sector:\n",
      " Edward     137979\n",
      "David      125807\n",
      "Frank      113262\n",
      "Adam       110003\n",
      "Charlie    105073\n",
      "Baker      101158\n",
      "Ida         95481\n",
      "Henry       94855\n",
      "George      52699\n",
      "Airport     16510\n",
      "Other           1\n",
      "Name: Sector, dtype: int64\n"
     ]
    }
   ],
   "source": [
    "total_incidents_bysector = df1['Sector'].value_counts()\n",
    "print(\"\\nTotal Number of Incidents in each sector:\\n\", total_incidents_bysector)"
   ]
  },
  {
   "cell_type": "code",
   "execution_count": 61,
   "id": "86da2044",
   "metadata": {},
   "outputs": [
    {
     "data": {
      "image/png": "[encoded data removed]",
      "text/plain": [
       "<Figure size 1080x504 with 1 Axes>"
      ]
     },
     "metadata": {
      "needs_background": "light"
     },
     "output_type": "display_data"
    }
   ],
   "source": [
    "plt.figure(figsize=(15,7))\n",
    "sns.countplot(data=df1, x='Sector', order=df1['Sector'].value_counts().index)\n",
    "plt.title('Number of Incidents by Sector')\n",
    "plt.xlabel('Sectors')\n",
    "plt.ylabel('Number of Incidents')\n",
    "plt.show()"
   ]
  },
  {
   "cell_type": "markdown",
   "id": "fa221ba0",
   "metadata": {},
   "source": [
    "- The total number of incidents in Edward sector is 137979, followed by David 125807 and Frank 113262."
   ]
  },
  {
   "cell_type": "markdown",
   "id": "14dc6e87",
   "metadata": {},
   "source": [
    "#### •\tWhat are the top 5 busiest geographic areas in terms of 911 calls"
   ]
  },
  {
   "cell_type": "code",
   "execution_count": 62,
   "id": "4a68930b",
   "metadata": {},
   "outputs": [
    {
     "name": "stdout",
     "output_type": "stream",
     "text": [
      "\n",
      "Top 5 busiest geographic areas:\n",
      " 484530000000.00    897162\n",
      "484910000000.00     36929\n",
      "484540000000.00     18641\n",
      "482090000000.00        92\n",
      "Name: Geo_ID, dtype: int64\n"
     ]
    }
   ],
   "source": [
    "# count of geographic areas/Council District\n",
    "busiest_geo_areas = df1['Geo_ID'].value_counts().head()\n",
    "print(\"\\nTop 5 busiest geographic areas:\\n\", busiest_geo_areas)"
   ]
  },
  {
   "cell_type": "code",
   "execution_count": 63,
   "id": "33900862",
   "metadata": {},
   "outputs": [
    {
     "data": {
      "image/png": "[encoded data removed]",
      "text/plain": [
       "<Figure size 1080x504 with 1 Axes>"
      ]
     },
     "metadata": {
      "needs_background": "light"
     },
     "output_type": "display_data"
    }
   ],
   "source": [
    "# visualize the top5 busiest areas\n",
    "plt.figure(figsize=(15,7))\n",
    "busiest_geo_areas.plot(kind='bar', color='skyblue')\n",
    "plt.title(' Top 5 Busiest Geographic Areas')\n",
    "plt.xlabel('Geographic Areas')\n",
    "plt.ylabel('Count of 911 calls')\n",
    "plt.show()"
   ]
  },
  {
   "cell_type": "markdown",
   "id": "c6c32e51",
   "metadata": {},
   "source": [
    "- The top 5 busiest geographic areas in terms of 911 calls are  48453, 48491,48454 and 48209"
   ]
  },
  {
   "cell_type": "code",
   "execution_count": 64,
   "id": "f83c93bd",
   "metadata": {},
   "outputs": [
    {
     "name": "stdout",
     "output_type": "stream",
     "text": [
      "\n",
      "Top 5 busiest Council District:\n",
      " 3.0    144812\n",
      "9.0    135055\n",
      "4.0    127457\n",
      "1.0    110152\n",
      "7.0    104882\n",
      "Name: Council_District, dtype: int64\n"
     ]
    }
   ],
   "source": [
    "# count of geographic areas/Council District\n",
    "busiest_district = df1['Council_District'].value_counts().head()\n",
    "print(\"\\nTop 5 busiest Council District:\\n\", busiest_district)"
   ]
  },
  {
   "cell_type": "code",
   "execution_count": 65,
   "id": "942dca74",
   "metadata": {},
   "outputs": [
    {
     "data": {
      "image/png": "[encoded data removed]",
      "text/plain": [
       "<Figure size 1080x504 with 1 Axes>"
      ]
     },
     "metadata": {
      "needs_background": "light"
     },
     "output_type": "display_data"
    }
   ],
   "source": [
    "# visualize the top5 busiest areas\n",
    "plt.figure(figsize=(15,7))\n",
    "busiest_district.plot(kind='bar', color='skyblue')\n",
    "plt.title(' Top 5 Busiest Council District')\n",
    "plt.xlabel('Council Districts')\n",
    "plt.ylabel('Count of 911 calls')\n",
    "plt.show()"
   ]
  },
  {
   "cell_type": "markdown",
   "id": "e63b1e1e",
   "metadata": {},
   "source": [
    "#### •\tIdentify sectors where mental health-related incidents make up more than 30% of the total incidents"
   ]
  },
  {
   "cell_type": "code",
   "execution_count": 66,
   "id": "a9329e02",
   "metadata": {},
   "outputs": [
    {
     "data": {
      "text/plain": [
       "Sector\n",
       "Adam      12.70\n",
       "Airport    2.13\n",
       "Baker     15.57\n",
       "Charlie   12.18\n",
       "David     15.16\n",
       "Edward    11.00\n",
       "Frank     13.29\n",
       "George    15.23\n",
       "Henry     11.30\n",
       "Ida       12.58\n",
       "Other       NaN\n",
       "dtype: float64"
      ]
     },
     "execution_count": 66,
     "metadata": {},
     "output_type": "execute_result"
    }
   ],
   "source": [
    "#  calculate total incident per sector\n",
    "\n",
    "total_incidents =df1.groupby('Sector').size()\n",
    "# identify mental health incidents by sector\n",
    "MH_incid = df1[df1['Mental_Health_Flag']=='Mental Health Incident'].groupby('Sector').size()\n",
    "\n",
    "# Calculate the percentage of mental health-related incidents in each sector\n",
    "(MH_incid / total_incidents) * 100"
   ]
  },
  {
   "cell_type": "markdown",
   "id": "16ed4511",
   "metadata": {},
   "source": [
    "- There are no sectors where mental health-related incidents make up more than 30% of the total incidents."
   ]
  },
  {
   "cell_type": "markdown",
   "id": "1a33577e",
   "metadata": {},
   "source": [
    "### •\tWhat are the busiest days of the week, and how do the types of incidents differ across those days?"
   ]
  },
  {
   "cell_type": "code",
   "execution_count": 67,
   "id": "4e67fe0e",
   "metadata": {},
   "outputs": [
    {
     "name": "stdout",
     "output_type": "stream",
     "text": [
      "Incidents per Day of the Week:\n",
      " Fri    144065\n",
      "Sat    140209\n",
      "Mon    135379\n",
      "Sun    134736\n",
      "Thu    134146\n",
      "Wed    133303\n",
      "Tue    130990\n",
      "Name: Response_Day_of_Week, dtype: int64\n"
     ]
    }
   ],
   "source": [
    "# Count the number of incidents by day of the week\n",
    "busiest_days = df1['Response_Day_of_Week'].value_counts()\n",
    "print(\"Incidents per Day of the Week:\\n\", busiest_days)"
   ]
  },
  {
   "cell_type": "markdown",
   "id": "4383174c",
   "metadata": {},
   "source": [
    "- The busiest days of the week are Friday(144065) and Saturday(140209)"
   ]
  },
  {
   "cell_type": "code",
   "execution_count": 68,
   "id": "4002d9b4",
   "metadata": {},
   "outputs": [
    {
     "name": "stdout",
     "output_type": "stream",
     "text": [
      "Incident Types on Busiest Days:\n",
      " Incident_Type         Dispatched Incident\n",
      "Response_Day_of_Week                     \n",
      "Fri                                144065\n",
      "Mon                                135379\n",
      "Sat                                140209\n",
      "Sun                                134736\n",
      "Thu                                134146\n",
      "Tue                                130990\n",
      "Wed                                133303\n"
     ]
    }
   ],
   "source": [
    "# Count incident types for each of the busiest days\n",
    "incident_types_by_day = pd.crosstab(index=df1['Response_Day_of_Week'],columns=df1['Incident_Type'])\n",
    "print(\"Incident Types on Busiest Days:\\n\", incident_types_by_day)"
   ]
  },
  {
   "cell_type": "code",
   "execution_count": 69,
   "id": "385509a0",
   "metadata": {},
   "outputs": [
    {
     "data": {
      "image/png": "[encoded data removed]",
      "text/plain": [
       "<Figure size 1080x504 with 1 Axes>"
      ]
     },
     "metadata": {
      "needs_background": "light"
     },
     "output_type": "display_data"
    }
   ],
   "source": [
    "# create a visualization\n",
    "plt.figure(figsize=(15, 7))\n",
    "sns.barplot(x=busiest_days.index, y=busiest_days.values)\n",
    "plt.title(\"A Countplot of Busiest Days of the week\")\n",
    "plt.xlabel(\"Day of the week\")\n",
    "plt.ylabel(\"Count of Incidents\")\n",
    "plt.show()"
   ]
  },
  {
   "cell_type": "markdown",
   "id": "b1926098",
   "metadata": {},
   "source": [
    "### •\tWhat is the average response time for all incidents involving mental health issues?"
   ]
  },
  {
   "cell_type": "code",
   "execution_count": 70,
   "id": "e122066d",
   "metadata": {},
   "outputs": [
    {
     "name": "stdout",
     "output_type": "stream",
     "text": [
      "The average response time for all incidents involving mental health issues:\n",
      " Mental_Health_Flag\n",
      "Mental Health Incident   2378.16\n",
      "Name: Response_Time, dtype: float64\n"
     ]
    }
   ],
   "source": [
    "# filter the data involving mental health issues\n",
    "mental_health = df1[df1['Mental_Health_Flag']=='Mental Health Incident']\n",
    "\n",
    "avg_response_time = mental_health.groupby(['Mental_Health_Flag'])['Response_Time'].mean()\n",
    "print(\"The average response time for all incidents involving mental health issues:\\n\", avg_response_time)"
   ]
  },
  {
   "cell_type": "markdown",
   "id": "425b61fb",
   "metadata": {},
   "source": [
    "### •\tFind the geographic areas where the average number of units dispatched is greater than the average number of units dispatched across all areas."
   ]
  },
  {
   "cell_type": "code",
   "execution_count": 71,
   "id": "8afef56a",
   "metadata": {},
   "outputs": [
    {
     "name": "stdout",
     "output_type": "stream",
     "text": [
      "Overall Average Number of Units Dispatched: 1.9278022896052593\n",
      "\n",
      "Average Units Dispatched by Council District:\n",
      " Council_District\n",
      "0.0    1.96\n",
      "1.0    1.97\n",
      "10.0   1.84\n",
      "2.0    2.02\n",
      "3.0    1.99\n",
      "4.0    1.98\n",
      "5.0    1.90\n",
      "6.0    1.82\n",
      "7.0    1.84\n",
      "8.0    1.84\n",
      "9.0    1.89\n",
      "nan     NaN\n",
      "Name: Number_of_Units_Arrived, dtype: float64\n"
     ]
    }
   ],
   "source": [
    "# Calculate the overall average number of units dispatched\n",
    "overall_avg_units_dispatched = df1['Number_of_Units_Arrived'].mean()\n",
    "print(f\"Overall Average Number of Units Dispatched: {overall_avg_units_dispatched}\")\n",
    "\n",
    "# Calculate average number of units dispatched by Council District\n",
    "avg_units_by_councildist = df.groupby('Council_District')['Number_of_Units_Arrived'].mean()\n",
    "print(\"\\nAverage Units Dispatched by Council District:\\n\", avg_units_by_councildist)"
   ]
  },
  {
   "cell_type": "code",
   "execution_count": 72,
   "id": "68b559d9",
   "metadata": {},
   "outputs": [
    {
     "name": "stdout",
     "output_type": "stream",
     "text": [
      "\n",
      "Council Districts with Above-Average Units Dispatched:\n",
      " Council_District\n",
      "0.0   1.96\n",
      "1.0   1.97\n",
      "2.0   2.02\n",
      "3.0   1.99\n",
      "4.0   1.98\n",
      "Name: Number_of_Units_Arrived, dtype: float64\n"
     ]
    }
   ],
   "source": [
    "# Filter to find council districts where the average units dispatched is greater than the overall average\n",
    "above_avg_units_council_district = avg_units_by_councildist[avg_units_by_councildist > overall_avg_units_dispatched]\n",
    "print(\"\\nCouncil Districts with Above-Average Units Dispatched:\\n\", above_avg_units_council_district)"
   ]
  },
  {
   "cell_type": "markdown",
   "id": "298314b4",
   "metadata": {},
   "source": [
    "- Council District 0.0,1.0,2.0,3.0 and 4.0 have average units dispatched greater than the overall average."
   ]
  },
  {
   "cell_type": "markdown",
   "id": "dea4fed7",
   "metadata": {},
   "source": [
    "#### •\tWhich sectors have the highest percentage of reclassified calls (where the final problem description differs from the initial one)?"
   ]
  },
  {
   "cell_type": "code",
   "execution_count": 73,
   "id": "8c2a5a01",
   "metadata": {},
   "outputs": [
    {
     "name": "stdout",
     "output_type": "stream",
     "text": [
      "Sector\n",
      "Edward    14.73\n",
      "David     13.14\n",
      "Frank     12.40\n",
      "Charlie   11.62\n",
      "Adam      11.56\n",
      "Baker     10.47\n",
      "Henry     10.07\n",
      "Ida        9.59\n",
      "George     5.50\n",
      "Airport    0.92\n",
      "Other      0.00\n",
      "dtype: float64\n"
     ]
    }
   ],
   "source": [
    "# total number of reclassified calls (where the final problem description differs from the initial one)?\n",
    "reclassified_calls = df1[(df1['Final_Problem_Descrip'])!=(df1['Initial_Problem_Descrip'])].shape[0]\n",
    "\n",
    "# reclassified calls grouped by sector\n",
    "reclassified_sector = df1[(df1['Final_Problem_Descrip'])!=(df1['Initial_Problem_Descrip'])].groupby('Sector').size()\n",
    "\n",
    "# percentage of reclassified calls\n",
    "percentage_reclassified = (reclassified_sector/reclassified_calls) * 100\n",
    "\n",
    "print(percentage_reclassified.sort_values(ascending=False))"
   ]
  },
  {
   "cell_type": "code",
   "execution_count": 74,
   "id": "7acf94e4",
   "metadata": {},
   "outputs": [
    {
     "data": {
      "image/png": "[encoded data removed]",
      "text/plain": [
       "<Figure size 1080x504 with 1 Axes>"
      ]
     },
     "metadata": {
      "needs_background": "light"
     },
     "output_type": "display_data"
    }
   ],
   "source": [
    "# create a visualization\n",
    "plt.figure(figsize=(15, 7))\n",
    "sns.barplot(x=percentage_reclassified.index, y=percentage_reclassified.values)\n",
    "plt.title(\"Percentage of Reclassified calls by Sectors \")\n",
    "plt.xlabel(\"Sectors\")\n",
    "plt.ylabel(\"Percentage of Reclassified Calls\")\n",
    "plt.show()"
   ]
  },
  {
   "cell_type": "markdown",
   "id": "7f0c5fc1",
   "metadata": {},
   "source": [
    "- Sectors Edward, David, Frank and Charlie have the highest percentage of reclassified calls."
   ]
  },
  {
   "cell_type": "markdown",
   "id": "e220ff6d",
   "metadata": {},
   "source": [
    "#### •\tWhat is the cumulative number of calls throughout each day, and how does this cumulative total change by sector?"
   ]
  },
  {
   "cell_type": "code",
   "execution_count": 75,
   "id": "4b484689",
   "metadata": {},
   "outputs": [
    {
     "data": {
      "text/plain": [
       "Response_Day_of_Week\n",
       "Fri    144065\n",
       "Mon    135379\n",
       "Sat    140209\n",
       "Sun    134736\n",
       "Thu    134146\n",
       "Tue    130990\n",
       "Wed    133303\n",
       "Name: Incident_Number, dtype: int64"
      ]
     },
     "execution_count": 75,
     "metadata": {},
     "output_type": "execute_result"
    }
   ],
   "source": [
    "# calculate the count of incidents per day\n",
    "df1.groupby(['Response_Day_of_Week'])['Incident_Number'].count()"
   ]
  },
  {
   "cell_type": "code",
   "execution_count": 76,
   "id": "cd778bb5",
   "metadata": {},
   "outputs": [],
   "source": [
    "# Create a new column 'Date' to hold just the date part\n",
    "df1['Date'] = df1['Response_Datetime'].dt.date\n",
    "\n",
    "# Sort the data by date and time to calculate cumulative totals\n",
    "df1.sort_values(by=['Date', 'Response_Datetime'])\n",
    "\n",
    "# Group by Date and Sector, then calculate the cumulative count of calls\n",
    "df1['Cumulative_Calls'] = df1.groupby(['Date', 'Sector']).cumcount() + 1"
   ]
  },
  {
   "cell_type": "code",
   "execution_count": 77,
   "id": "5e57cef2",
   "metadata": {},
   "outputs": [
    {
     "data": {
      "text/plain": [
       "Date        Sector \n",
       "2021-06-22  Adam        59\n",
       "            Airport      7\n",
       "            Baker       57\n",
       "            Charlie     52\n",
       "            David       61\n",
       "                      ... \n",
       "2024-09-30  Edward     119\n",
       "            Frank       92\n",
       "            George      50\n",
       "            Henry       92\n",
       "            Ida         82\n",
       "Name: Cumulative_Calls, Length: 11971, dtype: int64"
      ]
     },
     "execution_count": 77,
     "metadata": {},
     "output_type": "execute_result"
    }
   ],
   "source": [
    "df1.groupby(['Date','Sector'])['Cumulative_Calls'].count()"
   ]
  },
  {
   "cell_type": "markdown",
   "id": "0deb684c",
   "metadata": {},
   "source": [
    "#### •\tFor each sector, rank the geographic areas by total number of 911 calls and show the response time for each area"
   ]
  },
  {
   "cell_type": "code",
   "execution_count": 78,
   "id": "76438b67",
   "metadata": {},
   "outputs": [],
   "source": [
    "# Group by Sector and Geo ID to calculate total calls and average response time\n",
    "sector_geo_stats = df1.groupby(['Sector', 'Geo_ID']).agg(\n",
    "    Total_Calls=('Incident_Number', 'size'),          # Count of calls\n",
    "    Avg_Response_Time=('Response_Time', 'mean')       # Average response time\n",
    ").reset_index()"
   ]
  },
  {
   "cell_type": "code",
   "execution_count": 79,
   "id": "1cd86e6f",
   "metadata": {},
   "outputs": [
    {
     "name": "stdout",
     "output_type": "stream",
     "text": [
      "     Sector          Geo_ID  Total_Calls  Avg_Response_Time  Rank\n",
      "0      Adam 484530000000.00        73075            2480.08  1.00\n",
      "1      Adam 484910000000.00        36928            2218.81  2.00\n",
      "2   Airport 484540000000.00        16510             406.32  1.00\n",
      "3     Baker 484530000000.00       101155            1779.95  1.00\n",
      "4     Baker 484910000000.00            1            1175.00  2.00\n",
      "5   Charlie 484530000000.00       105072            2243.07  1.00\n",
      "7     David 484530000000.00       125714            1991.52  1.00\n",
      "6     David 482090000000.00           92            2576.74  2.00\n",
      "8    Edward 484530000000.00       137979            2908.24  1.00\n",
      "9     Frank 484530000000.00       113262            2593.06  1.00\n",
      "10   George 484530000000.00        52699            1471.25  1.00\n",
      "11    Henry 484530000000.00        92724            2597.73  1.00\n",
      "12    Henry 484540000000.00         2131            1357.19  2.00\n",
      "13      Ida 484530000000.00        95481            2045.22  1.00\n",
      "14    Other 484530000000.00            1             710.00  1.00\n"
     ]
    }
   ],
   "source": [
    "# Rank the geographic areas by total calls within each sector\n",
    "sector_geo_stats['Rank'] = sector_geo_stats.groupby('Sector')['Total_Calls'].rank(method='dense', ascending=False)\n",
    "\n",
    "# Sort the data by Sector and Rank\n",
    "sector_geo_stats = sector_geo_stats.sort_values(by=['Sector', 'Rank'])\n",
    "print(sector_geo_stats)"
   ]
  },
  {
   "cell_type": "markdown",
   "id": "fd79466f",
   "metadata": {},
   "source": [
    "#### •\tWhat are the most common types of incidents that occur between 10 PM and 6 AM?"
   ]
  },
  {
   "cell_type": "code",
   "execution_count": 80,
   "id": "50c51659",
   "metadata": {},
   "outputs": [
    {
     "name": "stdout",
     "output_type": "stream",
     "text": [
      "Most Common Types of Incidents Between 10 PM and 6 AM:\n",
      " Dispatched Incident    252444\n",
      "Name: Incident_Type, dtype: int64\n"
     ]
    }
   ],
   "source": [
    "# Filter data for incidents between 10 PM and 6 AM\n",
    "night_incidents = df[(df['Response_Hour'] >= 22) | (df['Response_Hour'] < 6)]\n",
    "\n",
    "\n",
    "# Count the most common incident types during the specified time range\n",
    "common_night_incidents = night_incidents['Incident_Type'].value_counts()\n",
    "print(\"Most Common Types of Incidents Between 10 PM and 6 AM:\\n\", common_night_incidents)"
   ]
  },
  {
   "cell_type": "markdown",
   "id": "73b3cdf0",
   "metadata": {},
   "source": [
    "- Since there is just 1 incident type which is Dispatched Incident,all incident types between 10pm and 6am will be dispatched incidents only."
   ]
  },
  {
   "cell_type": "markdown",
   "id": "878cc33f",
   "metadata": {},
   "source": [
    "#### •\tWhat percentage of incidents required more than 3 units to be dispatched?\n"
   ]
  },
  {
   "cell_type": "code",
   "execution_count": 81,
   "id": "c1899e36",
   "metadata": {},
   "outputs": [
    {
     "name": "stdout",
     "output_type": "stream",
     "text": [
      "Percentage of incidents with more than 3 units dispatched: 7.62%\n"
     ]
    }
   ],
   "source": [
    "# total number of incidents\n",
    "total_incidents = len(df1)\n",
    "\n",
    "\n",
    "# filter the data to more than 3 units\n",
    "over_3units = df1[df1['Number_of_Units_Arrived']> 3].shape[0]\n",
    "\n",
    "# percentage of incidents of more than 3 units\n",
    "percent_incidents = (over_3units/total_incidents) * 100\n",
    "\n",
    "print(f\"Percentage of incidents with more than 3 units dispatched: {percent_incidents:.2f}%\")"
   ]
  },
  {
   "cell_type": "markdown",
   "id": "10545036",
   "metadata": {},
   "source": [
    "#### •\tHow do response times compare across different priorities for each type of incident?"
   ]
  },
  {
   "cell_type": "code",
   "execution_count": 82,
   "id": "fe4abb5f",
   "metadata": {},
   "outputs": [
    {
     "data": {
      "text/html": [
       "<div>\n",
       "<style scoped>\n",
       "    .dataframe tbody tr th:only-of-type {\n",
       "        vertical-align: middle;\n",
       "    }\n",
       "\n",
       "    .dataframe tbody tr th {\n",
       "        vertical-align: top;\n",
       "    }\n",
       "\n",
       "    .dataframe thead th {\n",
       "        text-align: right;\n",
       "    }\n",
       "</style>\n",
       "<table border=\"1\" class=\"dataframe\">\n",
       "  <thead>\n",
       "    <tr style=\"text-align: right;\">\n",
       "      <th></th>\n",
       "      <th></th>\n",
       "      <th>mean</th>\n",
       "      <th>median</th>\n",
       "      <th>min</th>\n",
       "      <th>max</th>\n",
       "    </tr>\n",
       "    <tr>\n",
       "      <th>Incident_Type</th>\n",
       "      <th>Priority_Level</th>\n",
       "      <th></th>\n",
       "      <th></th>\n",
       "      <th></th>\n",
       "      <th></th>\n",
       "    </tr>\n",
       "  </thead>\n",
       "  <tbody>\n",
       "    <tr>\n",
       "      <th rowspan=\"4\" valign=\"top\">Dispatched Incident</th>\n",
       "      <th>Priority 0</th>\n",
       "      <td>566.15</td>\n",
       "      <td>445.00</td>\n",
       "      <td>9.00</td>\n",
       "      <td>44708.00</td>\n",
       "    </tr>\n",
       "    <tr>\n",
       "      <th>Priority 1</th>\n",
       "      <td>756.15</td>\n",
       "      <td>533.00</td>\n",
       "      <td>6.00</td>\n",
       "      <td>56294.00</td>\n",
       "    </tr>\n",
       "    <tr>\n",
       "      <th>Priority 2</th>\n",
       "      <td>2050.02</td>\n",
       "      <td>1032.00</td>\n",
       "      <td>8.00</td>\n",
       "      <td>106104.00</td>\n",
       "    </tr>\n",
       "    <tr>\n",
       "      <th>Priority 3</th>\n",
       "      <td>5502.47</td>\n",
       "      <td>2521.00</td>\n",
       "      <td>0.00</td>\n",
       "      <td>182878.00</td>\n",
       "    </tr>\n",
       "  </tbody>\n",
       "</table>\n",
       "</div>"
      ],
      "text/plain": [
       "                                      mean  median  min       max\n",
       "Incident_Type       Priority_Level                               \n",
       "Dispatched Incident Priority 0      566.15  445.00 9.00  44708.00\n",
       "                    Priority 1      756.15  533.00 6.00  56294.00\n",
       "                    Priority 2     2050.02 1032.00 8.00 106104.00\n",
       "                    Priority 3     5502.47 2521.00 0.00 182878.00"
      ]
     },
     "execution_count": 82,
     "metadata": {},
     "output_type": "execute_result"
    }
   ],
   "source": [
    "df1.groupby(['Incident_Type','Priority_Level'])['Response_Time'].agg(['mean', 'median', 'min', 'max'])"
   ]
  },
  {
   "cell_type": "markdown",
   "id": "9236b14d",
   "metadata": {},
   "source": [
    "- The average response time for priority 0 (the highest priority) is 566 seconds, followed by priority 1(756 seconds).\n",
    "- The last 2 priorities have the slowest average response times."
   ]
  },
  {
   "cell_type": "markdown",
   "id": "40a0604b",
   "metadata": {},
   "source": [
    "#### Which geographic areas have the highest number of incidents involving officer injuries or fatalities?"
   ]
  },
  {
   "cell_type": "code",
   "execution_count": 127,
   "id": "aa247c02",
   "metadata": {},
   "outputs": [
    {
     "data": {
      "text/html": [
       "<div>\n",
       "<style scoped>\n",
       "    .dataframe tbody tr th:only-of-type {\n",
       "        vertical-align: middle;\n",
       "    }\n",
       "\n",
       "    .dataframe tbody tr th {\n",
       "        vertical-align: top;\n",
       "    }\n",
       "\n",
       "    .dataframe thead th {\n",
       "        text-align: right;\n",
       "    }\n",
       "</style>\n",
       "<table border=\"1\" class=\"dataframe\">\n",
       "  <thead>\n",
       "    <tr style=\"text-align: right;\">\n",
       "      <th></th>\n",
       "      <th>Incident_Number</th>\n",
       "      <th>Incident_Type</th>\n",
       "      <th>Mental_Health_Flag</th>\n",
       "      <th>Priority_Level</th>\n",
       "      <th>Response_Datetime</th>\n",
       "      <th>Response_Day_of_Week</th>\n",
       "      <th>Response_Hour</th>\n",
       "      <th>First_Unit_Arrived_Datetime</th>\n",
       "      <th>Call_Closed_Datetime</th>\n",
       "      <th>Sector</th>\n",
       "      <th>...</th>\n",
       "      <th>Response_Time</th>\n",
       "      <th>Officer_Injured/Killed_Cnt</th>\n",
       "      <th>Subject_Injured/Killed_Cnt</th>\n",
       "      <th>Other_Injured/Killed_Cnt</th>\n",
       "      <th>Geo_ID</th>\n",
       "      <th>Census_Block_Grp</th>\n",
       "      <th>Council_District</th>\n",
       "      <th>Date</th>\n",
       "      <th>Cumulative Calls</th>\n",
       "      <th>Cumulative_Calls</th>\n",
       "    </tr>\n",
       "  </thead>\n",
       "  <tbody>\n",
       "    <tr>\n",
       "      <th>247015</th>\n",
       "      <td>233230425</td>\n",
       "      <td>Dispatched Incident</td>\n",
       "      <td>Mental Health Incident</td>\n",
       "      <td>Priority 1</td>\n",
       "      <td>2023-11-19 05:26:00</td>\n",
       "      <td>Sun</td>\n",
       "      <td>5.00</td>\n",
       "      <td>2023-11-19 06:28:00</td>\n",
       "      <td>2023-11-19 14:34:00</td>\n",
       "      <td>Baker</td>\n",
       "      <td>...</td>\n",
       "      <td>3834.00</td>\n",
       "      <td>1.00</td>\n",
       "      <td>0.00</td>\n",
       "      <td>0.00</td>\n",
       "      <td>484530000000.00</td>\n",
       "      <td>4530302002.00</td>\n",
       "      <td>10.0</td>\n",
       "      <td>2023-11-19</td>\n",
       "      <td>67</td>\n",
       "      <td>67</td>\n",
       "    </tr>\n",
       "  </tbody>\n",
       "</table>\n",
       "<p>1 rows × 28 columns</p>\n",
       "</div>"
      ],
      "text/plain": [
       "       Incident_Number        Incident_Type      Mental_Health_Flag  \\\n",
       "247015       233230425  Dispatched Incident  Mental Health Incident   \n",
       "\n",
       "       Priority_Level   Response_Datetime Response_Day_of_Week  Response_Hour  \\\n",
       "247015     Priority 1 2023-11-19 05:26:00                  Sun           5.00   \n",
       "\n",
       "       First_Unit_Arrived_Datetime Call_Closed_Datetime Sector  ...  \\\n",
       "247015         2023-11-19 06:28:00  2023-11-19 14:34:00  Baker  ...   \n",
       "\n",
       "       Response_Time Officer_Injured/Killed_Cnt Subject_Injured/Killed_Cnt  \\\n",
       "247015       3834.00                       1.00                       0.00   \n",
       "\n",
       "       Other_Injured/Killed_Cnt          Geo_ID  Census_Block_Grp  \\\n",
       "247015                     0.00 484530000000.00     4530302002.00   \n",
       "\n",
       "       Council_District        Date  Cumulative Calls  Cumulative_Calls  \n",
       "247015             10.0  2023-11-19                67                67  \n",
       "\n",
       "[1 rows x 28 columns]"
      ]
     },
     "execution_count": 127,
     "metadata": {},
     "output_type": "execute_result"
    }
   ],
   "source": [
    "df1[df1['Officer_Injured/Killed_Cnt']>0]"
   ]
  },
  {
   "cell_type": "markdown",
   "id": "ccc372c1",
   "metadata": {},
   "source": [
    "- Geo id 48453 has only 1 incident with officer injured or killed."
   ]
  },
  {
   "cell_type": "markdown",
   "id": "392c614b",
   "metadata": {},
   "source": [
    "#### •\tWhich council districts have the highest average response times?"
   ]
  },
  {
   "cell_type": "code",
   "execution_count": 83,
   "id": "5d8c95b6",
   "metadata": {},
   "outputs": [
    {
     "data": {
      "text/plain": [
       "Council_District\n",
       "1.0    2609.95\n",
       "4.0    2595.32\n",
       "2.0    2426.08\n",
       "6.0    2354.72\n",
       "7.0    2345.27\n",
       "3.0    2256.25\n",
       "5.0    2101.05\n",
       "8.0    1970.30\n",
       "10.0   1903.00\n",
       "9.0    1739.37\n",
       "0.0    1703.55\n",
       "Name: Response_Time, dtype: float64"
      ]
     },
     "execution_count": 83,
     "metadata": {},
     "output_type": "execute_result"
    }
   ],
   "source": [
    "# group the council district by response time and sort the values in descending order\n",
    "df1.groupby(['Council_District'])['Response_Time'].mean().sort_values(ascending=False)\n"
   ]
  },
  {
   "cell_type": "markdown",
   "id": "b67c204e",
   "metadata": {},
   "source": [
    "- District 1.0 has  the slowest average response time of approximately 2610 seconds, followed by District 4.0 with a mean response time of 2595 seconds.\n",
    "- District 0.0 has the fastest average response time of approximately 1704 seconds, followed by District 9.0 with an average response time of 1739 seconds."
   ]
  },
  {
   "cell_type": "markdown",
   "id": "420df7f4",
   "metadata": {},
   "source": [
    "#### •\tHow many incidents involve serious injury or death (either officers or subjects) related to mental health?"
   ]
  },
  {
   "cell_type": "code",
   "execution_count": 84,
   "id": "62e518c2",
   "metadata": {},
   "outputs": [
    {
     "name": "stdout",
     "output_type": "stream",
     "text": [
      "Number of mental health-related incidents involving serious injury or death: 0\n"
     ]
    }
   ],
   "source": [
    "# Filter for incidents with serious injury or death for either officers or subjects\n",
    "serious_injury_or_death = df1[(df1['Other_Injured/Killed_Cnt'] > 0)]\n",
    "\n",
    "# Filter for mental health-related incidents among serious injury or death cases\n",
    "mental_health_serious_incidents = serious_injury_or_death[serious_injury_or_death['Mental_Health_Flag'] == True]\n",
    "\n",
    "# Get the count of incidents involving serious injury or death related to mental health\n",
    "num_mental_health_serious_incidents = mental_health_serious_incidents.shape[0]\n",
    "print(\"Number of mental health-related incidents involving serious injury or death:\", num_mental_health_serious_incidents)"
   ]
  },
  {
   "cell_type": "markdown",
   "id": "29c36059",
   "metadata": {},
   "source": [
    "#### •\tFind the average response time for each incident type and compare it with the overall average response time"
   ]
  },
  {
   "cell_type": "code",
   "execution_count": 85,
   "id": "f3e32f2b",
   "metadata": {},
   "outputs": [
    {
     "name": "stdout",
     "output_type": "stream",
     "text": [
      "The overall average response time:2254.09\n",
      "\n",
      "Average Response Time for each incident type:\n",
      " Incident_Type\n",
      "Dispatched Incident   2254.09\n",
      "Name: Response_Time, dtype: float64\n"
     ]
    }
   ],
   "source": [
    "# overall average response time\n",
    "overall_avg_response_time = df1['Response_Time'].mean()\n",
    "\n",
    "print(f\"The overall average response time:{overall_avg_response_time:.2f}\")\n",
    "\n",
    "# average response time for dispatched incidents\n",
    "avg_response_incidenttype = df1.groupby(['Incident_Type'])['Response_Time'].mean()\n",
    "\n",
    "print(\"\\nAverage Response Time for each incident type:\\n\", avg_response_incidenttype)"
   ]
  },
  {
   "cell_type": "markdown",
   "id": "78b733bf",
   "metadata": {},
   "source": [
    "- Since there is only 1 incident type in the dataset, the overall average response time will be the same as the average response time per Incident type."
   ]
  },
  {
   "cell_type": "markdown",
   "id": "23d6bc76",
   "metadata": {},
   "source": [
    "#### •For each day of the week, calculate the difference between the average response time for that day and the average response time for all days combined."
   ]
  },
  {
   "cell_type": "code",
   "execution_count": 86,
   "id": "15d680b2",
   "metadata": {},
   "outputs": [
    {
     "name": "stdout",
     "output_type": "stream",
     "text": [
      "The difference between the average response time for Monday and the average response time for all days:54.70\n",
      "The difference between the average response time for Tuesday and the average response time for all days:-2.61\n",
      "The difference between the average response time for Wednesday and the average response time for all days:23.78\n",
      "The difference between the average response time for Thursday and the average response time for all days:-49.47\n",
      "The difference between the average response time for Friday and the average response time for all days:-371.47\n",
      "The difference between the average response time for Saturday and the average response time for all days:266.05\n",
      "The difference between the average response time for Sunday and the average response time for all days:93.64\n"
     ]
    }
   ],
   "source": [
    "# filter the dataset to Response Day of the week = Monday\n",
    "Mon_day_of_wk = df1[df1['Response_Day_of_Week']=='Mon']\n",
    "\n",
    "# calculate the average response time for Monday\n",
    "Mon_average_response_time = Mon_day_of_wk['Response_Time'].mean()\n",
    "\n",
    "# calculate the overall average response time \n",
    "overall_responsetim = df1['Response_Time'].mean()\n",
    "\n",
    "# difference between the average response time for Monday and the overall average response time\n",
    "Mon_diff = Mon_average_response_time - overall_responsetim\n",
    "print(f\"The difference between the average response time for Monday and the average response time for all days:{Mon_diff:.2f}\")\n",
    "\n",
    "\n",
    "# filter the dataset to Response Day of the week = Tuesday\n",
    "Tue_day_of_wk = df1[df1['Response_Day_of_Week']=='Tue']\n",
    "\n",
    "# calculate the average response time for Tuesday\n",
    "Tue_average_response_time = Tue_day_of_wk['Response_Time'].mean()\n",
    "\n",
    "# difference between the average response time forTueday and the overall average response time\n",
    "Tue_diff = Tue_average_response_time - overall_responsetim\n",
    "print(f\"The difference between the average response time for Tuesday and the average response time for all days:{Tue_diff:.2f}\")\n",
    "\n",
    "# filter the dataset to Response Day of the week = Wednesday\n",
    "Wed_day_of_wk = df1[df1['Response_Day_of_Week']=='Wed']\n",
    "\n",
    "# calculate the average response time for Wednesday\n",
    "Wed_average_response_time = Wed_day_of_wk['Response_Time'].mean()\n",
    "\n",
    "# difference between the average response time fo Wednesay and the overall average response time\n",
    "Wed_diff = Wed_average_response_time - overall_responsetim\n",
    "print(f\"The difference between the average response time for Wednesday and the average response time for all days:{Wed_diff:.2f}\")\n",
    "\n",
    "\n",
    "# filter the dataset to Response Day of the week = Thursday\n",
    "Thu_day_of_wk = df1[df1['Response_Day_of_Week']=='Thu']\n",
    "\n",
    "# calculate the average response time for Thursday\n",
    "Thu_average_response_time = Thu_day_of_wk['Response_Time'].mean()\n",
    "\n",
    "# difference between the average response time for Thursday and the overall average response time\n",
    "Thu_diff = Thu_average_response_time - overall_responsetim\n",
    "print(f\"The difference between the average response time for Thursday and the average response time for all days:{Thu_diff:.2f}\")\n",
    "\n",
    "\n",
    "# filter the dataset to Response Day of the week = Friday\n",
    "Fri_day_of_wk = df1[df1['Response_Day_of_Week']=='Fri']\n",
    "\n",
    "# calculate the average response time for Friday\n",
    "Fri_average_response_time = Fri_day_of_wk['Response_Time'].mean()\n",
    "\n",
    "# difference between the average response time for Friday and the overall average response time\n",
    "Fri_diff = Fri_average_response_time - overall_responsetim\n",
    "print(f\"The difference between the average response time for Friday and the average response time for all days:{Fri_diff:.2f}\")\n",
    "\n",
    "\n",
    "# filter the dataset to Response Day of the week = Saturday\n",
    "Sat_day_of_wk = df1[df1['Response_Day_of_Week']=='Sat']\n",
    "\n",
    "# calculate the average response time for Saturday\n",
    "Sat_average_response_time = Sat_day_of_wk['Response_Time'].mean()\n",
    "\n",
    "# difference between the average response time for Saturday and the overall average response time\n",
    "Sat_diff =Sat_average_response_time - overall_responsetim\n",
    "\n",
    "print(f\"The difference between the average response time for Saturday and the average response time for all days:{Sat_diff:.2f}\")\n",
    "\n",
    "# filter the dataset to Response Day of the week = Sunday\n",
    "Sun_day_of_wk = df1[df1['Response_Day_of_Week']=='Sun']\n",
    "\n",
    "# calculate the average response time for Sunday\n",
    "Sun_average_response_time = Sun_day_of_wk['Response_Time'].mean()\n",
    "\n",
    "# difference between the average response time for Sunday and the overall average response time\n",
    "Sun_diff = Sun_average_response_time - overall_responsetim\n",
    "print(f\"The difference between the average response time for Sunday and the average response time for all days:{Sun_diff:.2f}\")"
   ]
  },
  {
   "cell_type": "markdown",
   "id": "adc136a6",
   "metadata": {},
   "source": [
    "#### •\tWhat are the top 3 most frequent final problem descriptions?"
   ]
  },
  {
   "cell_type": "code",
   "execution_count": 87,
   "id": "56388829",
   "metadata": {},
   "outputs": [
    {
     "name": "stdout",
     "output_type": "stream",
     "text": [
      "The top 3 most frequent final problem descriptions:\n",
      " Trespass Urgent      73749\n",
      "Disturbance Other    55748\n",
      "Suspicious Person    55344\n",
      "Name: Final_Problem_Descrip, dtype: int64\n"
     ]
    }
   ],
   "source": [
    "top3_final_problem_descrp = df1['Final_Problem_Descrip'].value_counts(ascending=False).head(3)\n",
    "print(\"The top 3 most frequent final problem descriptions:\\n\",top3_final_problem_descrp)"
   ]
  },
  {
   "cell_type": "markdown",
   "id": "15b4894c",
   "metadata": {},
   "source": [
    "#### • What are the busiest times of the day, and how do incident types vary by time?"
   ]
  },
  {
   "cell_type": "code",
   "execution_count": 88,
   "id": "a91510ad",
   "metadata": {},
   "outputs": [
    {
     "name": "stdout",
     "output_type": "stream",
     "text": [
      "Incident Counts by Hour:\n",
      " 0.00     38068\n",
      "1.00     32031\n",
      "2.00     29590\n",
      "3.00     24421\n",
      "4.00     20509\n",
      "5.00     19731\n",
      "6.00     24906\n",
      "7.00     32810\n",
      "8.00     38251\n",
      "9.00     39780\n",
      "10.00    41603\n",
      "11.00    42630\n",
      "12.00    44409\n",
      "13.00    44804\n",
      "14.00    45175\n",
      "15.00    48034\n",
      "16.00    50068\n",
      "17.00    51921\n",
      "18.00    51234\n",
      "19.00    48791\n",
      "20.00    48063\n",
      "21.00    47905\n",
      "22.00    46002\n",
      "23.00    42092\n",
      "Name: Response_Hour, dtype: int64\n"
     ]
    }
   ],
   "source": [
    "# Count the number of incidents per hour\n",
    "incident_counts_by_hour = df1['Response_Hour'].value_counts().sort_index()\n",
    "\n",
    "# Display busiest times\n",
    "print(\"Incident Counts by Hour:\\n\", incident_counts_by_hour)"
   ]
  },
  {
   "cell_type": "code",
   "execution_count": 89,
   "id": "cf177043",
   "metadata": {},
   "outputs": [
    {
     "name": "stdout",
     "output_type": "stream",
     "text": [
      "Incident Types by Hour:\n",
      " Incident_Type  Dispatched Incident\n",
      "Response_Hour                     \n",
      "0.00                         38068\n",
      "1.00                         32031\n",
      "2.00                         29590\n",
      "3.00                         24421\n",
      "4.00                         20509\n",
      "5.00                         19731\n",
      "6.00                         24906\n",
      "7.00                         32810\n",
      "8.00                         38251\n",
      "9.00                         39780\n",
      "10.00                        41603\n",
      "11.00                        42630\n",
      "12.00                        44409\n",
      "13.00                        44804\n",
      "14.00                        45175\n",
      "15.00                        48034\n",
      "16.00                        50068\n",
      "17.00                        51921\n",
      "18.00                        51234\n",
      "19.00                        48791\n",
      "20.00                        48063\n",
      "21.00                        47905\n",
      "22.00                        46002\n",
      "23.00                        42092\n"
     ]
    }
   ],
   "source": [
    "# Group by hour and incident type, then count the occurrences\n",
    "incident_type_by_hour = df1.groupby(['Response_Hour', 'Incident_Type']).size().unstack(fill_value=0)\n",
    "\n",
    "# Display incident types by hour (showing a subset for easier viewing if large)\n",
    "print(\"Incident Types by Hour:\\n\", incident_type_by_hour)"
   ]
  },
  {
   "cell_type": "code",
   "execution_count": 90,
   "id": "962a91da",
   "metadata": {},
   "outputs": [
    {
     "data": {
      "image/png": "[encoded data removed]",
      "text/plain": [
       "<Figure size 1080x576 with 1 Axes>"
      ]
     },
     "metadata": {
      "needs_background": "light"
     },
     "output_type": "display_data"
    }
   ],
   "source": [
    "#visualization\n",
    "plt.figure(figsize=(15,8))\n",
    "sns.lineplot(data=incident_counts_by_hour,x=incident_counts_by_hour.index,y=incident_counts_by_hour.values)\n",
    "plt.title(\"A Lineplot of Busiest Hours of the Day\")\n",
    "plt.xlabel(\"Hours of the Day\")\n",
    "plt.ylabel(\"Count of Incidents\")\n",
    "plt.show()"
   ]
  },
  {
   "cell_type": "markdown",
   "id": "1fedeb7a",
   "metadata": {},
   "source": [
    "- The peak hours of the day are 17:00(5pm) and 18:00(6pm).\n",
    "- The least busiest time of the day is 5am. "
   ]
  },
  {
   "cell_type": "markdown",
   "id": "7306fded",
   "metadata": {},
   "source": [
    "#### •\tWhat is the total number of mental health-related incidents, and how has this changed over time?"
   ]
  },
  {
   "cell_type": "code",
   "execution_count": 91,
   "id": "91dd710e",
   "metadata": {},
   "outputs": [
    {
     "name": "stdout",
     "output_type": "stream",
     "text": [
      "The total number of mental health-related incidents is 122917\n"
     ]
    }
   ],
   "source": [
    "# filter the dataset to mental health-related incidents\n",
    "no_mental_health_incidents = df1[df1['Mental_Health_Flag']=='Mental Health Incident'].shape[0]\n",
    "\n",
    "print('The total number of mental health-related incidents is',no_mental_health_incidents)"
   ]
  },
  {
   "cell_type": "code",
   "execution_count": 92,
   "id": "49ba2aee",
   "metadata": {},
   "outputs": [],
   "source": [
    "# filter the data to Mental Health incident\n",
    "mental_health_incidents = df1[df1['Mental_Health_Flag']=='Mental Health Incident']\n",
    "# extract the month and year from Response Datetime and create a new column \n",
    "mental_health_incidents['Response_Month'] = mental_health_incidents['Response_Datetime'].dt.to_period('M')\n",
    "# groupby month and year to observe trend over time\n",
    "mental_health_trend =mental_health_incidents.groupby('Response_Month').size()"
   ]
  },
  {
   "cell_type": "code",
   "execution_count": 93,
   "id": "6b3e985f",
   "metadata": {},
   "outputs": [
    {
     "data": {
      "image/png": "[encoded data removed]",
      "text/plain": [
       "<Figure size 1440x504 with 1 Axes>"
      ]
     },
     "metadata": {
      "needs_background": "light"
     },
     "output_type": "display_data"
    }
   ],
   "source": [
    "# plot mental health-related incident over time\n",
    "plt.figure(figsize=(20,7))\n",
    "mental_health_trend.plot(kind='line',marker='o',title='Mental Health-Related Incidents Over Time')\n",
    "plt.xlabel(\"Time (Months and Years)\")\n",
    "plt.ylabel(\"Number of Incidents\")\n",
    "plt.show()"
   ]
  },
  {
   "cell_type": "markdown",
   "id": "23e9029c",
   "metadata": {},
   "source": [
    "- There is a downward progression in the chart above from 2019 to 2024.\n",
    "- The total number of mental health incidents has decreased over the years."
   ]
  },
  {
   "cell_type": "markdown",
   "id": "bfa3d583",
   "metadata": {},
   "source": [
    "#### •\tWhich sectors have above-average mental health-related incidents compared to the overall average for all sectors?"
   ]
  },
  {
   "cell_type": "code",
   "execution_count": 94,
   "id": "9efafc92",
   "metadata": {},
   "outputs": [
    {
     "name": "stdout",
     "output_type": "stream",
     "text": [
      "Overall Average Mental Health-Related Incidents: 12291.7\n"
     ]
    }
   ],
   "source": [
    "# Filter for mental health-related incidents\n",
    "mental_health_incidents = df1[df1['Mental_Health_Flag'] == 'Mental Health Incident']\n",
    "\n",
    "# Calculate the count of mental health-related incidents in each sector\n",
    "sector_mental_health_counts = mental_health_incidents.groupby('Sector').size()\n",
    "\n",
    "# Calculate the overall average of mental health-related incidents\n",
    "overall_avg_mental_health_incidents = sector_mental_health_counts.mean()\n",
    "print(f\"Overall Average Mental Health-Related Incidents: {overall_avg_mental_health_incidents}\")"
   ]
  },
  {
   "cell_type": "code",
   "execution_count": 95,
   "id": "23d3bcf3",
   "metadata": {},
   "outputs": [
    {
     "name": "stdout",
     "output_type": "stream",
     "text": [
      "Sectors with Above-Average Mental Health-Related Incidents:\n",
      " Sector\n",
      "Adam       13975\n",
      "Baker      15753\n",
      "Charlie    12794\n",
      "David      19068\n",
      "Edward     15174\n",
      "Frank      15054\n",
      "dtype: int64\n"
     ]
    }
   ],
   "source": [
    "# Filter sectors with above-average mental health-related incidents\n",
    "above_avg_sectors = sector_mental_health_counts[sector_mental_health_counts > overall_avg_mental_health_incidents]\n",
    "print(\"Sectors with Above-Average Mental Health-Related Incidents:\\n\", above_avg_sectors)"
   ]
  },
  {
   "cell_type": "markdown",
   "id": "b4f374b2",
   "metadata": {},
   "source": [
    "#### •\tWhat is the average time spent on scene by units across different types of incidents?"
   ]
  },
  {
   "cell_type": "code",
   "execution_count": 96,
   "id": "e2903788",
   "metadata": {},
   "outputs": [
    {
     "name": "stdout",
     "output_type": "stream",
     "text": [
      "\n",
      "The average time spent on scene by all APD units across incident types\n",
      " Incident_Type\n",
      "Dispatched Incident   6090.61\n",
      "Name: Unit_Time_on_Scene, dtype: float64\n"
     ]
    }
   ],
   "source": [
    "# calculate the average time spent on scene by units\n",
    "avgtime_incidentstypes= df1.groupby(['Incident_Type'])['Unit_Time_on_Scene'].mean()\n",
    "print(\"\\nThe average time spent on scene by all APD units across incident types\\n\",avgtime_incidentstypes)"
   ]
  },
  {
   "cell_type": "markdown",
   "id": "8d924f04",
   "metadata": {},
   "source": [
    "#### •\tWhat is the distribution of response times across the sectors, and which sectors have the fastest and slowest response times?"
   ]
  },
  {
   "cell_type": "code",
   "execution_count": 97,
   "id": "cb28408c",
   "metadata": {},
   "outputs": [
    {
     "name": "stdout",
     "output_type": "stream",
     "text": [
      "Response Time Statistics by Sector:\n",
      "          Average Response Time  Fastest Response Time  Slowest Response Time\n",
      "Sector                                                                      \n",
      "Adam                   2392.37                   0.00               95812.00\n",
      "Airport                 406.32                   6.00               22856.00\n",
      "Baker                  1779.93                   0.00               89374.00\n",
      "Charlie                2243.05                  12.00               90629.00\n",
      "David                  1991.94                   0.00               88340.00\n",
      "Edward                 2908.24                   9.00              160425.00\n",
      "Frank                  2593.06                  10.00              182878.00\n",
      "George                 1471.25                  10.00               48165.00\n",
      "Henry                  2569.86                   9.00              159892.00\n",
      "Ida                    2045.22                  10.00              135889.00\n",
      "Other                   710.00                 710.00                 710.00\n"
     ]
    }
   ],
   "source": [
    "# Calculate the average, minimum, and maximum response times per sector\n",
    "sector_response_stats = df1.groupby('Sector')['Response_Time'].agg(['mean', 'min', 'max']).rename(columns={'mean': 'Average Response Time', 'min': 'Fastest Response Time', 'max': 'Slowest Response Time'})\n",
    "print(\"Response Time Statistics by Sector:\\n\", sector_response_stats)"
   ]
  },
  {
   "cell_type": "code",
   "execution_count": 98,
   "id": "26f4110a",
   "metadata": {},
   "outputs": [
    {
     "name": "stdout",
     "output_type": "stream",
     "text": [
      "Sector with Fastest Average Response Time: Airport (406.32 seconds)\n",
      "Sector with Slowest Average Response Time: Edward (2908.24 seconds)\n"
     ]
    }
   ],
   "source": [
    "# Find the sector with the fastest average response time\n",
    "fastest_sector = sector_response_stats['Average Response Time'].idxmin()\n",
    "fastest_response_time = sector_response_stats['Average Response Time'].min()\n",
    "\n",
    "# Find the sector with the slowest average response time\n",
    "slowest_sector = sector_response_stats['Average Response Time'].idxmax()\n",
    "slowest_response_time = sector_response_stats['Average Response Time'].max()\n",
    "\n",
    "print(f\"Sector with Fastest Average Response Time: {fastest_sector} ({fastest_response_time:.2f} seconds)\")\n",
    "print(f\"Sector with Slowest Average Response Time: {slowest_sector} ({slowest_response_time:.2f} seconds)\")"
   ]
  },
  {
   "cell_type": "markdown",
   "id": "bc8eeb85",
   "metadata": {},
   "source": [
    "#### •\tWhich incidents have the longest on-scene time, and how does this correlate with the incident type or priority level?"
   ]
  },
  {
   "cell_type": "code",
   "execution_count": 99,
   "id": "8b12b075",
   "metadata": {},
   "outputs": [
    {
     "name": "stdout",
     "output_type": "stream",
     "text": [
      "Top 10 Incidents with Longest On-Scene Time:\n",
      "        Incident_Number        Incident_Type Priority_Level  Unit_Time_on_Scene\n",
      "253020       233150232  Dispatched Incident     Priority 0          2460453.00\n",
      "580399       222660503  Dispatched Incident     Priority 0          1469292.00\n",
      "652224       221781597  Dispatched Incident     Priority 1          1348648.00\n",
      "105988       241420647  Dispatched Incident     Priority 3          1242710.00\n",
      "329010       232181241  Dispatched Incident     Priority 3          1231068.00\n",
      "15814        242541371  Dispatched Incident     Priority 0          1212460.00\n",
      "235644       233390551  Dispatched Incident     Priority 0          1155427.00\n",
      "238014       233360503  Dispatched Incident     Priority 0          1099735.00\n",
      "64618        241930606  Dispatched Incident     Priority 0          1083230.00\n",
      "235373       233391146  Dispatched Incident     Priority 0          1059150.00\n"
     ]
    }
   ],
   "source": [
    "# Sort incidents by 'Unit Time on Scene' in descending order\n",
    "longest_on_scene = df1.sort_values(by='Unit_Time_on_Scene', ascending=False)\n",
    "\n",
    "# Display the top 10 incidents with the longest on-scene time\n",
    "print(\"Top 10 Incidents with Longest On-Scene Time:\\n\", longest_on_scene[['Incident_Number', 'Incident_Type', 'Priority_Level', 'Unit_Time_on_Scene']].head(10))"
   ]
  },
  {
   "cell_type": "code",
   "execution_count": 100,
   "id": "b54dd0cc",
   "metadata": {},
   "outputs": [
    {
     "name": "stdout",
     "output_type": "stream",
     "text": [
      "Average On-Scene Time by Incident Type and Priority Level:\n",
      " Incident_Type        Priority_Level\n",
      "Dispatched Incident  Priority 0       12493.74\n",
      "                     Priority 1        8508.56\n",
      "                     Priority 2        4323.99\n",
      "                     Priority 3        4055.74\n",
      "Name: Unit_Time_on_Scene, dtype: float64\n"
     ]
    }
   ],
   "source": [
    "# Calculate the average on-scene time for each incident type and priority level\n",
    "avg_on_scene_by_type_priority = df1.groupby(['Incident_Type', 'Priority_Level'])['Unit_Time_on_Scene'].mean().sort_values(ascending=False)\n",
    "\n",
    "# Display the results\n",
    "print(\"Average On-Scene Time by Incident Type and Priority Level:\\n\", avg_on_scene_by_type_priority)"
   ]
  },
  {
   "cell_type": "markdown",
   "id": "d8d61bb4",
   "metadata": {},
   "source": [
    "#### •\tWhich types of incidents typically require reports to be written, and how frequently do these occur?"
   ]
  },
  {
   "cell_type": "code",
   "execution_count": 101,
   "id": "a04d53ed",
   "metadata": {},
   "outputs": [
    {
     "name": "stdout",
     "output_type": "stream",
     "text": [
      "Frequency of Incident Types Requiring Reports:\n",
      " Dispatched Incident    244315\n",
      "Name: Incident_Type, dtype: int64\n"
     ]
    }
   ],
   "source": [
    "# filter the dataframe that require written reports\n",
    "data_written_reports = df1[df['Report_Written_Flag']=='Yes']\n",
    "\n",
    "# calculate the frequency of each type of incident\n",
    "report_freq_by_type= data_written_reports['Incident_Type'].value_counts()\n",
    "\n",
    "print(\"Frequency of Incident Types Requiring Reports:\\n\", report_freq_by_type)"
   ]
  },
  {
   "cell_type": "markdown",
   "id": "815df1a1",
   "metadata": {},
   "source": [
    "#### •\tWhat is the average number of units dispatched to incidents based on the incident type?"
   ]
  },
  {
   "cell_type": "code",
   "execution_count": 102,
   "id": "64dfc996",
   "metadata": {},
   "outputs": [
    {
     "name": "stdout",
     "output_type": "stream",
     "text": [
      "The average number of units that arrived on scene:\n",
      " Incident_Type\n",
      "Dispatched Incident   1.93\n",
      "Name: Number_of_Units_Arrived, dtype: float64\n"
     ]
    }
   ],
   "source": [
    "# calculate the average number of units dispatched to incident by incident type\n",
    "avg_noof_units_by_incidenttype = df1.groupby(['Incident_Type'])['Number_of_Units_Arrived'].mean()\n",
    "\n",
    "print(\"The average number of units that arrived on scene:\\n\",avg_noof_units_by_incidenttype)"
   ]
  },
  {
   "cell_type": "markdown",
   "id": "faf05bd0",
   "metadata": {},
   "source": [
    "#### •\tHow do incidents involving officer injuries correlate with mental health-related flags, and which sectors have the highest occurrence of these incidents?"
   ]
  },
  {
   "cell_type": "code",
   "execution_count": 103,
   "id": "27f135ff",
   "metadata": {},
   "outputs": [],
   "source": [
    "# Filter for incidents involving officer injuries and mental health-related flag\n",
    "injury_and_mental_health_incidents = df1[(df1['Officer_Injured/Killed_Cnt'] > 0) & (df['Mental_Health_Flag'] == 'Mental Health Incident')]"
   ]
  },
  {
   "cell_type": "code",
   "execution_count": 104,
   "id": "837872f4",
   "metadata": {},
   "outputs": [
    {
     "name": "stdout",
     "output_type": "stream",
     "text": [
      "Sectors with Highest Occurrences of Officer Injuries in Mental Health-Related Incidents:\n",
      " Baker    1\n",
      "Name: Sector, dtype: int64\n"
     ]
    }
   ],
   "source": [
    "# Count occurrences by sector for incidents involving officer injuries and mental health flags\n",
    "sector_injury_mental_health_counts= injury_and_mental_health_incidents['Sector'].value_counts()\n",
    "\n",
    "print(\"Sectors with Highest Occurrences of Officer Injuries in Mental Health-Related Incidents:\\n\", sector_injury_mental_health_counts.head())"
   ]
  },
  {
   "cell_type": "code",
   "execution_count": 105,
   "id": "e34fcb78",
   "metadata": {},
   "outputs": [
    {
     "name": "stdout",
     "output_type": "stream",
     "text": [
      "Fri    144065\n",
      "Sat    140209\n",
      "Mon    135379\n",
      "Sun    134736\n",
      "Thu    134146\n",
      "Wed    133303\n",
      "Tue    130990\n",
      "Name: Response_Day_of_Week, dtype: int64\n"
     ]
    }
   ],
   "source": [
    "print(df['Response_Day_of_Week'].value_counts())"
   ]
  },
  {
   "cell_type": "markdown",
   "id": "5c10dfe6",
   "metadata": {},
   "source": [
    "### Conclusions and Recommendations\n",
    "\n",
    "#### Conclusions\n",
    "\n",
    "- 22:00(10pm) has the fastest average response time while 13:00(1pm) has the slowest average response time.\n",
    "- Edward Sector has the highest number of incidents while Airport Sector has the least number of incidents.\n",
    "- The top 5 busiest council districts are Districts 3.0, 9.0,4.0,1.0 and 7.0.\n",
    "- There are no sectors where mental health-related incidents make up more than 30% of the total incidents.\n",
    "- Fridays and Saturdays are the busiest days of the week.\n",
    "- Approximately 8% of incidents require more than 3 units to be dispatched.\n",
    "- Districts 0.0,9.0 have the fastest average response times.\n",
    "- There are no incidents related to mental health involving officers or subjects injuries.\n",
    "- The top 3 most frequent final problem descriptions are Tresspass,Disturbance and Suspicious.\n",
    "- The busiest hour of the day is 17:00(5pm) followed by 18:00(6pm).\n",
    "- The least busiest hoour of the day is 5am.\n",
    "- The average number of units dispatched is approximately 2 units.\n",
    "- Airport Sector has the fastest average response time(406 seconds) while Edward Sector has the slowest average response time(2908 seconds).\n",
    "- Mental health- related incidents have a mean response time of 2378 seconds compared to Not-mental health incidents(2235 seconds).\n",
    "- The total number of mental health-related incidents has decreased over the years.\n",
    "\n",
    "#### Recommendations\n",
    "\n",
    "- Since 13:00(1pm) has the slowest average response time while 22:00(10pm) has the fastest average response time, Adjustments can be made to align officers with the demand patterns. Increasing availability around 13:00(1pm) may help reduce delays.\n",
    "- For Edward sector having the slowest average response time, we can prioritize more units to speed up the response times.\n",
    "- The Sectors and Council Districts with high incident counts indicate that those districts and sectors require more units to handle demands.\n",
    "- Reallocating units from lower incident areas and increasing officers during peak hours(4pm to 6pm) could improve response times.\n",
    "- With Fridays and Saturdays as the busiest days, ensure that Officers and units are allocated during these days and especially around the busiest times to meet demands.\n",
    "- Since the response time for mental health-related incidents is longer than not mental health incidents,mental health response trainings should be implemented for sectors with high incident rates. Trainings could help officers manage mental health incidents and reduce response times significantly.\n",
    "- Since the busiest times commences at 16:00(4pM), 17:00(5pm) and 18:00(6pm), officers should be prepared for those hours.Schedules can be adjusted so that more units are available during the busiest times and less officers for off-peak hours.\n"
   ]
  }
 ],
 "metadata": {
  "kernelspec": {
   "display_name": "Python 3 (ipykernel)",
   "language": "python",
   "name": "python3"
  },
  "language_info": {
   "codemirror_mode": {
    "name": "ipython",
    "version": 3
   },
   "file_extension": ".py",
   "mimetype": "text/x-python",
   "name": "python",
   "nbconvert_exporter": "python",
   "pygments_lexer": "ipython3",
   "version": "3.9.12"
  }
 },
 "nbformat": 4,
 "nbformat_minor": 5
}
