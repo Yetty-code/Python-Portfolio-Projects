{
 "cells": [
  {
   "cell_type": "markdown",
   "id": "ca1c3d37",
   "metadata": {},
   "source": [
    "# Project Python Foundations: FoodHub Data Analysis"
   ]
  },
  {
   "cell_type": "markdown",
   "id": "41ed2ab1",
   "metadata": {},
   "source": [
    "### Context\n",
    "\n",
    "The number of restaurants in New York is increasing day by day. Lots of students and busy professionals rely on those restaurants due to their hectic lifestyles. Online food delivery service is a great option for them. It provides them with good food from their favorite restaurants. A food aggregator company FoodHub offers access to multiple restaurants through a single smartphone app.\n",
    "\n",
    "The app allows the restaurants to receive a direct online order from a customer. The app assigns a delivery person from the company to pick up the order after it is confirmed by the restaurant. The delivery person then uses the map to reach the restaurant and waits for the food package. Once the food package is handed over to the delivery person, he/she confirms the pick-up in the app and travels to the customer's location to deliver the food. The delivery person confirms the drop-off in the app after delivering the food package to the customer. The customer can rate the order in the app. The food aggregator earns money by collecting a fixed margin of the delivery order from the restaurants.\n",
    "\n",
    "### Objective\n",
    "\n",
    "The food aggregator company has stored the data of the different orders made by the registered customers in their online portal. They want to analyze the data to get a fair idea about the demand of different restaurants which will help them in enhancing their customer experience. Suppose you are hired as a Data Scientist in this company and the Data Science team has shared some of the key questions that need to be answered. Perform the data analysis to find answers to these questions that will help the company to improve the business. \n",
    "\n",
    "### Data Description\n",
    "\n",
    "The data contains the different data related to a food order. The detailed data dictionary is given below.\n",
    "\n",
    "### Data Dictionary\n",
    "\n",
    "* order_id: Unique ID of the order\n",
    "* customer_id: ID of the customer who ordered the food\n",
    "* restaurant_name: Name of the restaurant\n",
    "* cuisine_type: Cuisine ordered by the customer\n",
    "* cost: Cost of the order\n",
    "* day_of_the_week: Indicates whether the order is placed on a weekday or weekend (The weekday is from Monday to Friday and the weekend is Saturday and Sunday)\n",
    "* rating: Rating given by the customer out of 5\n",
    "* food_preparation_time: Time (in minutes) taken by the restaurant to prepare the food. This is calculated by taking the difference between the timestamps of the restaurant's order confirmation and the delivery person's pick-up confirmation.\n",
    "* delivery_time: Time (in minutes) taken by the delivery person to deliver the food package. This is calculated by taking the difference between the timestamps of the delivery person's pick-up confirmation and drop-off information"
   ]
  },
  {
   "cell_type": "markdown",
   "id": "6b88f5c4",
   "metadata": {},
   "source": [
    "### **Let us start by importing the required libraries**"
   ]
  },
  {
   "cell_type": "code",
   "execution_count": 1,
   "id": "3af8405a",
   "metadata": {},
   "outputs": [],
   "source": [
    "# import libraries for data manipulation\n",
    "import numpy as np\n",
    "import pandas as pd\n",
    "\n",
    "# import libraries for data visualization\n",
    "import matplotlib.pyplot as plt\n",
    "import seaborn as sns\n",
    "\n",
    "# to display charts in the notebook\n",
    "%matplotlib inline"
   ]
  },
  {
   "cell_type": "code",
   "execution_count": 1,
   "id": "0d65d44a",
   "metadata": {},
   "outputs": [
    {
     "name": "stdout",
     "output_type": "stream",
     "text": [
      "Collecting altair\n",
      "  Downloading altair-5.3.0-py3-none-any.whl (857 kB)\n",
      "Requirement already satisfied: packaging in c:\\users\\owner\\anaconda3\\lib\\site-packages (from altair) (21.3)\n",
      "Requirement already satisfied: jsonschema>=3.0 in c:\\users\\owner\\anaconda3\\lib\\site-packages (from altair) (4.4.0)\n",
      "Requirement already satisfied: pandas>=0.25 in c:\\users\\owner\\anaconda3\\lib\\site-packages (from altair) (1.4.2)\n",
      "Requirement already satisfied: toolz in c:\\users\\owner\\anaconda3\\lib\\site-packages (from altair) (0.11.2)\n",
      "Requirement already satisfied: jinja2 in c:\\users\\owner\\anaconda3\\lib\\site-packages (from altair) (2.11.3)\n",
      "Requirement already satisfied: typing-extensions>=4.0.1 in c:\\users\\owner\\anaconda3\\lib\\site-packages (from altair) (4.5.0)\n",
      "Requirement already satisfied: numpy in c:\\users\\owner\\anaconda3\\lib\\site-packages (from altair) (1.21.5)\n",
      "Requirement already satisfied: pyrsistent!=0.17.0,!=0.17.1,!=0.17.2,>=0.14.0 in c:\\users\\owner\\anaconda3\\lib\\site-packages (from jsonschema>=3.0->altair) (0.18.0)\n",
      "Requirement already satisfied: attrs>=17.4.0 in c:\\users\\owner\\anaconda3\\lib\\site-packages (from jsonschema>=3.0->altair) (21.4.0)\n",
      "Requirement already satisfied: pytz>=2020.1 in c:\\users\\owner\\anaconda3\\lib\\site-packages (from pandas>=0.25->altair) (2021.3)\n",
      "Requirement already satisfied: python-dateutil>=2.8.1 in c:\\users\\owner\\anaconda3\\lib\\site-packages (from pandas>=0.25->altair) (2.8.2)\n",
      "Requirement already satisfied: six>=1.5 in c:\\users\\owner\\anaconda3\\lib\\site-packages (from python-dateutil>=2.8.1->pandas>=0.25->altair) (1.16.0)\n",
      "Requirement already satisfied: MarkupSafe>=0.23 in c:\\users\\owner\\anaconda3\\lib\\site-packages (from jinja2->altair) (2.0.1)\n",
      "Requirement already satisfied: pyparsing!=3.0.5,>=2.0.2 in c:\\users\\owner\\anaconda3\\lib\\site-packages (from packaging->altair) (3.0.4)\n",
      "Installing collected packages: altair\n",
      "Successfully installed altair-5.3.0\n",
      "Note: you may need to restart the kernel to use updated packages.\n"
     ]
    }
   ],
   "source": [
    "pip install altair"
   ]
  },
  {
   "cell_type": "markdown",
   "id": "beda00c7",
   "metadata": {},
   "source": [
    "### **Load the data**"
   ]
  },
  {
   "cell_type": "code",
   "execution_count": 4,
   "id": "8d481d32",
   "metadata": {},
   "outputs": [],
   "source": [
    "data = pd.read_csv('C:\\\\Users\\\\Owner\\\\Desktop\\\\GL Courses\\\\GL Projects\\\\foodhub_order.csv')\n",
    "\n",
    "# make a copy of the data\n",
    "df=data.copy()"
   ]
  },
  {
   "cell_type": "markdown",
   "id": "11d67b97",
   "metadata": {},
   "source": [
    "**Understanding the structure of the data**"
   ]
  },
  {
   "cell_type": "code",
   "execution_count": 5,
   "id": "2349a356",
   "metadata": {},
   "outputs": [
    {
     "data": {
      "text/html": [
       "<div>\n",
       "<style scoped>\n",
       "    .dataframe tbody tr th:only-of-type {\n",
       "        vertical-align: middle;\n",
       "    }\n",
       "\n",
       "    .dataframe tbody tr th {\n",
       "        vertical-align: top;\n",
       "    }\n",
       "\n",
       "    .dataframe thead th {\n",
       "        text-align: right;\n",
       "    }\n",
       "</style>\n",
       "<table border=\"1\" class=\"dataframe\">\n",
       "  <thead>\n",
       "    <tr style=\"text-align: right;\">\n",
       "      <th></th>\n",
       "      <th>order_id</th>\n",
       "      <th>customer_id</th>\n",
       "      <th>restaurant_name</th>\n",
       "      <th>cuisine_type</th>\n",
       "      <th>cost_of_the_order</th>\n",
       "      <th>day_of_the_week</th>\n",
       "      <th>rating</th>\n",
       "      <th>food_preparation_time</th>\n",
       "      <th>delivery_time</th>\n",
       "    </tr>\n",
       "  </thead>\n",
       "  <tbody>\n",
       "    <tr>\n",
       "      <th>0</th>\n",
       "      <td>1477147</td>\n",
       "      <td>337525</td>\n",
       "      <td>Hangawi</td>\n",
       "      <td>Korean</td>\n",
       "      <td>30.75</td>\n",
       "      <td>Weekend</td>\n",
       "      <td>Not given</td>\n",
       "      <td>25</td>\n",
       "      <td>20</td>\n",
       "    </tr>\n",
       "    <tr>\n",
       "      <th>1</th>\n",
       "      <td>1477685</td>\n",
       "      <td>358141</td>\n",
       "      <td>Blue Ribbon Sushi Izakaya</td>\n",
       "      <td>Japanese</td>\n",
       "      <td>12.08</td>\n",
       "      <td>Weekend</td>\n",
       "      <td>Not given</td>\n",
       "      <td>25</td>\n",
       "      <td>23</td>\n",
       "    </tr>\n",
       "    <tr>\n",
       "      <th>2</th>\n",
       "      <td>1477070</td>\n",
       "      <td>66393</td>\n",
       "      <td>Cafe Habana</td>\n",
       "      <td>Mexican</td>\n",
       "      <td>12.23</td>\n",
       "      <td>Weekday</td>\n",
       "      <td>5</td>\n",
       "      <td>23</td>\n",
       "      <td>28</td>\n",
       "    </tr>\n",
       "    <tr>\n",
       "      <th>3</th>\n",
       "      <td>1477334</td>\n",
       "      <td>106968</td>\n",
       "      <td>Blue Ribbon Fried Chicken</td>\n",
       "      <td>American</td>\n",
       "      <td>29.20</td>\n",
       "      <td>Weekend</td>\n",
       "      <td>3</td>\n",
       "      <td>25</td>\n",
       "      <td>15</td>\n",
       "    </tr>\n",
       "    <tr>\n",
       "      <th>4</th>\n",
       "      <td>1478249</td>\n",
       "      <td>76942</td>\n",
       "      <td>Dirty Bird to Go</td>\n",
       "      <td>American</td>\n",
       "      <td>11.59</td>\n",
       "      <td>Weekday</td>\n",
       "      <td>4</td>\n",
       "      <td>25</td>\n",
       "      <td>24</td>\n",
       "    </tr>\n",
       "  </tbody>\n",
       "</table>\n",
       "</div>"
      ],
      "text/plain": [
       "   order_id  customer_id            restaurant_name cuisine_type  \\\n",
       "0   1477147       337525                    Hangawi       Korean   \n",
       "1   1477685       358141  Blue Ribbon Sushi Izakaya     Japanese   \n",
       "2   1477070        66393                Cafe Habana      Mexican   \n",
       "3   1477334       106968  Blue Ribbon Fried Chicken     American   \n",
       "4   1478249        76942           Dirty Bird to Go     American   \n",
       "\n",
       "   cost_of_the_order day_of_the_week     rating  food_preparation_time  \\\n",
       "0              30.75         Weekend  Not given                     25   \n",
       "1              12.08         Weekend  Not given                     25   \n",
       "2              12.23         Weekday          5                     23   \n",
       "3              29.20         Weekend          3                     25   \n",
       "4              11.59         Weekday          4                     25   \n",
       "\n",
       "   delivery_time  \n",
       "0             20  \n",
       "1             23  \n",
       "2             28  \n",
       "3             15  \n",
       "4             24  "
      ]
     },
     "execution_count": 5,
     "metadata": {},
     "output_type": "execute_result"
    }
   ],
   "source": [
    "# the first 5 rows of the data\n",
    "df.head()"
   ]
  },
  {
   "cell_type": "markdown",
   "id": "49abde2b",
   "metadata": {},
   "source": [
    "#### Observations:\n",
    "​\n",
    "The DataFrame has 9 columns as mentioned in the Data Dictionary. Data in each row corresponds to the order placed by a customer."
   ]
  },
  {
   "cell_type": "markdown",
   "id": "4c0510e7",
   "metadata": {},
   "source": [
    "### **Question 1:** How many rows and columns are present in the data? [0.5 mark]"
   ]
  },
  {
   "cell_type": "code",
   "execution_count": 6,
   "id": "d1d69f3e",
   "metadata": {},
   "outputs": [
    {
     "data": {
      "text/plain": [
       "(1898, 9)"
      ]
     },
     "execution_count": 6,
     "metadata": {},
     "output_type": "execute_result"
    }
   ],
   "source": [
    "df.shape"
   ]
  },
  {
   "cell_type": "markdown",
   "id": "01af27e8",
   "metadata": {},
   "source": [
    "There are 1898 rows and 9 columns in the data"
   ]
  },
  {
   "cell_type": "markdown",
   "id": "2b228cd5",
   "metadata": {},
   "source": [
    "### **Question 2:** What are the datatypes of the different columns in the dataset? (The info() function can be used) [0.5 mark]"
   ]
  },
  {
   "cell_type": "code",
   "execution_count": 7,
   "id": "d4030fe7",
   "metadata": {},
   "outputs": [
    {
     "name": "stdout",
     "output_type": "stream",
     "text": [
      "<class 'pandas.core.frame.DataFrame'>\n",
      "RangeIndex: 1898 entries, 0 to 1897\n",
      "Data columns (total 9 columns):\n",
      " #   Column                 Non-Null Count  Dtype  \n",
      "---  ------                 --------------  -----  \n",
      " 0   order_id               1898 non-null   int64  \n",
      " 1   customer_id            1898 non-null   int64  \n",
      " 2   restaurant_name        1898 non-null   object \n",
      " 3   cuisine_type           1898 non-null   object \n",
      " 4   cost_of_the_order      1898 non-null   float64\n",
      " 5   day_of_the_week        1898 non-null   object \n",
      " 6   rating                 1898 non-null   object \n",
      " 7   food_preparation_time  1898 non-null   int64  \n",
      " 8   delivery_time          1898 non-null   int64  \n",
      "dtypes: float64(1), int64(4), object(4)\n",
      "memory usage: 133.6+ KB\n"
     ]
    }
   ],
   "source": [
    "df.info()"
   ]
  },
  {
   "cell_type": "markdown",
   "id": "12a25735",
   "metadata": {},
   "source": [
    "- There are 5 numerical data types and 4 object data types in the data."
   ]
  },
  {
   "cell_type": "markdown",
   "id": "3e920bfe",
   "metadata": {},
   "source": [
    "### **Question 3:** Are there any missing values in the data? If yes, treat them using an appropriate method. [1 mark]"
   ]
  },
  {
   "cell_type": "code",
   "execution_count": 8,
   "id": "771dc32f",
   "metadata": {},
   "outputs": [
    {
     "data": {
      "text/plain": [
       "order_id                 0\n",
       "customer_id              0\n",
       "restaurant_name          0\n",
       "cuisine_type             0\n",
       "cost_of_the_order        0\n",
       "day_of_the_week          0\n",
       "rating                   0\n",
       "food_preparation_time    0\n",
       "delivery_time            0\n",
       "dtype: int64"
      ]
     },
     "execution_count": 8,
     "metadata": {},
     "output_type": "execute_result"
    }
   ],
   "source": [
    "df.isnull().sum()"
   ]
  },
  {
   "cell_type": "markdown",
   "id": "3cbc6d88",
   "metadata": {},
   "source": [
    "- There are no missing values in the data"
   ]
  },
  {
   "cell_type": "markdown",
   "id": "83d2aa8d",
   "metadata": {},
   "source": [
    "### **Question 4:** Check the statistical summary of the data. What is the minimum, average, and maximum time it takes for food to be prepared once an order is placed? [2 marks]"
   ]
  },
  {
   "cell_type": "code",
   "execution_count": 10,
   "id": "7d7f717d",
   "metadata": {},
   "outputs": [
    {
     "data": {
      "text/html": [
       "<div>\n",
       "<style scoped>\n",
       "    .dataframe tbody tr th:only-of-type {\n",
       "        vertical-align: middle;\n",
       "    }\n",
       "\n",
       "    .dataframe tbody tr th {\n",
       "        vertical-align: top;\n",
       "    }\n",
       "\n",
       "    .dataframe thead th {\n",
       "        text-align: right;\n",
       "    }\n",
       "</style>\n",
       "<table border=\"1\" class=\"dataframe\">\n",
       "  <thead>\n",
       "    <tr style=\"text-align: right;\">\n",
       "      <th></th>\n",
       "      <th>count</th>\n",
       "      <th>mean</th>\n",
       "      <th>std</th>\n",
       "      <th>min</th>\n",
       "      <th>25%</th>\n",
       "      <th>50%</th>\n",
       "      <th>75%</th>\n",
       "      <th>max</th>\n",
       "    </tr>\n",
       "  </thead>\n",
       "  <tbody>\n",
       "    <tr>\n",
       "      <th>order_id</th>\n",
       "      <td>1898.0</td>\n",
       "      <td>1.477496e+06</td>\n",
       "      <td>548.049724</td>\n",
       "      <td>1476547.00</td>\n",
       "      <td>1477021.25</td>\n",
       "      <td>1477495.50</td>\n",
       "      <td>1.477970e+06</td>\n",
       "      <td>1478444.00</td>\n",
       "    </tr>\n",
       "    <tr>\n",
       "      <th>customer_id</th>\n",
       "      <td>1898.0</td>\n",
       "      <td>1.711685e+05</td>\n",
       "      <td>113698.139743</td>\n",
       "      <td>1311.00</td>\n",
       "      <td>77787.75</td>\n",
       "      <td>128600.00</td>\n",
       "      <td>2.705250e+05</td>\n",
       "      <td>405334.00</td>\n",
       "    </tr>\n",
       "    <tr>\n",
       "      <th>cost_of_the_order</th>\n",
       "      <td>1898.0</td>\n",
       "      <td>1.649885e+01</td>\n",
       "      <td>7.483812</td>\n",
       "      <td>4.47</td>\n",
       "      <td>12.08</td>\n",
       "      <td>14.14</td>\n",
       "      <td>2.229750e+01</td>\n",
       "      <td>35.41</td>\n",
       "    </tr>\n",
       "    <tr>\n",
       "      <th>food_preparation_time</th>\n",
       "      <td>1898.0</td>\n",
       "      <td>2.737197e+01</td>\n",
       "      <td>4.632481</td>\n",
       "      <td>20.00</td>\n",
       "      <td>23.00</td>\n",
       "      <td>27.00</td>\n",
       "      <td>3.100000e+01</td>\n",
       "      <td>35.00</td>\n",
       "    </tr>\n",
       "    <tr>\n",
       "      <th>delivery_time</th>\n",
       "      <td>1898.0</td>\n",
       "      <td>2.416175e+01</td>\n",
       "      <td>4.972637</td>\n",
       "      <td>15.00</td>\n",
       "      <td>20.00</td>\n",
       "      <td>25.00</td>\n",
       "      <td>2.800000e+01</td>\n",
       "      <td>33.00</td>\n",
       "    </tr>\n",
       "  </tbody>\n",
       "</table>\n",
       "</div>"
      ],
      "text/plain": [
       "                        count          mean            std         min  \\\n",
       "order_id               1898.0  1.477496e+06     548.049724  1476547.00   \n",
       "customer_id            1898.0  1.711685e+05  113698.139743     1311.00   \n",
       "cost_of_the_order      1898.0  1.649885e+01       7.483812        4.47   \n",
       "food_preparation_time  1898.0  2.737197e+01       4.632481       20.00   \n",
       "delivery_time          1898.0  2.416175e+01       4.972637       15.00   \n",
       "\n",
       "                              25%         50%           75%         max  \n",
       "order_id               1477021.25  1477495.50  1.477970e+06  1478444.00  \n",
       "customer_id              77787.75   128600.00  2.705250e+05   405334.00  \n",
       "cost_of_the_order           12.08       14.14  2.229750e+01       35.41  \n",
       "food_preparation_time       23.00       27.00  3.100000e+01       35.00  \n",
       "delivery_time               20.00       25.00  2.800000e+01       33.00  "
      ]
     },
     "execution_count": 10,
     "metadata": {},
     "output_type": "execute_result"
    }
   ],
   "source": [
    "df.describe().T"
   ]
  },
  {
   "cell_type": "markdown",
   "id": "351e1c63",
   "metadata": {},
   "source": [
    "* The cost of an order ranges from 4.47 to 35.41 dollars, with an average order costing around 16 dollars and a standard deviation of 7.5 dollars. The cost of 75% of the orders are below 23 dollars. This indicates that most of the customers prefer low-cost food compared to the expensive ones.\n",
    "\n",
    "* Food preparation time ranges from 20 to 35 minutes, with an average of around 27 minutes and a standard deviation of 4.6 minutes. The spread is not very high for the food preparation time.\n",
    "\n",
    "* Delivery time ranges from 15 to 33 minutes, with an average of around 24 minutes and a standard deviation of 5 minutes. The spread is not too high for delivery time either. \n"
   ]
  },
  {
   "cell_type": "markdown",
   "id": "a54ed0ad",
   "metadata": {},
   "source": [
    "### **Question 5:** How many orders are not rated? [1 mark]"
   ]
  },
  {
   "cell_type": "code",
   "execution_count": 11,
   "id": "d006aaa3",
   "metadata": {},
   "outputs": [
    {
     "data": {
      "text/plain": [
       "Not given    736\n",
       "5            588\n",
       "4            386\n",
       "3            188\n",
       "Name: rating, dtype: int64"
      ]
     },
     "execution_count": 11,
     "metadata": {},
     "output_type": "execute_result"
    }
   ],
   "source": [
    "df['rating'].value_counts()"
   ]
  },
  {
   "cell_type": "markdown",
   "id": "2327fe44",
   "metadata": {},
   "source": [
    "There are 736 orders that are not rated"
   ]
  },
  {
   "cell_type": "markdown",
   "id": "7a0aaa9f",
   "metadata": {},
   "source": [
    "### Exploratory Data Analysis (EDA)"
   ]
  },
  {
   "cell_type": "markdown",
   "id": "dd43a1d2",
   "metadata": {},
   "source": [
    "### Univariate Analysis"
   ]
  },
  {
   "cell_type": "markdown",
   "id": "ff2002d5",
   "metadata": {},
   "source": [
    "### **Question 6:** Explore all the variables and provide observations on their distributions. (Generally, histograms, boxplots, countplots, etc. are used for univariate exploration.) [9 marks]"
   ]
  },
  {
   "cell_type": "markdown",
   "id": "761d1271",
   "metadata": {},
   "source": [
    "**Order ID**"
   ]
  },
  {
   "cell_type": "code",
   "execution_count": 12,
   "id": "54a540da",
   "metadata": {},
   "outputs": [
    {
     "data": {
      "text/plain": [
       "1898"
      ]
     },
     "execution_count": 12,
     "metadata": {},
     "output_type": "execute_result"
    }
   ],
   "source": [
    "df['order_id'].nunique()"
   ]
  },
  {
   "cell_type": "markdown",
   "id": "40964668",
   "metadata": {},
   "source": [
    "#### Observations:\n",
    "​\n",
    "* There are 1898 unique orders. As mentioned earlier, 'order_id' is just an identifier for the orders."
   ]
  },
  {
   "cell_type": "markdown",
   "id": "74e45d26",
   "metadata": {},
   "source": [
    "**Customer ID**"
   ]
  },
  {
   "cell_type": "code",
   "execution_count": 13,
   "id": "e0f49406",
   "metadata": {},
   "outputs": [
    {
     "data": {
      "text/plain": [
       "1200"
      ]
     },
     "execution_count": 13,
     "metadata": {},
     "output_type": "execute_result"
    }
   ],
   "source": [
    "df['customer_id'].nunique()"
   ]
  },
  {
   "cell_type": "markdown",
   "id": "b41dc74f",
   "metadata": {},
   "source": [
    "#### Observations:\n",
    "\n",
    "* There are 1200 unique customers. As 'customer_id' is a variable to identify customers, and the number of unique customer IDs is less than the number of unique order IDs, we can see that there are some customers who have placed more than one order.\n"
   ]
  },
  {
   "cell_type": "markdown",
   "id": "38ff2419",
   "metadata": {},
   "source": [
    "**Restaurant Name**"
   ]
  },
  {
   "cell_type": "code",
   "execution_count": 15,
   "id": "ae44a901",
   "metadata": {},
   "outputs": [
    {
     "data": {
      "text/plain": [
       "178"
      ]
     },
     "execution_count": 15,
     "metadata": {},
     "output_type": "execute_result"
    }
   ],
   "source": [
    "df['restaurant_name'].nunique()"
   ]
  },
  {
   "cell_type": "markdown",
   "id": "7f2f1c3f",
   "metadata": {},
   "source": [
    "- There are 178 unique restaurants in the data."
   ]
  },
  {
   "cell_type": "code",
   "execution_count": 16,
   "id": "7d5a5ef5",
   "metadata": {},
   "outputs": [
    {
     "data": {
      "text/plain": [
       "Shake Shack                  219\n",
       "The Meatball Shop            132\n",
       "Blue Ribbon Sushi            119\n",
       "Blue Ribbon Fried Chicken     96\n",
       "Parm                          68\n",
       "                            ... \n",
       "Sushi Choshi                   1\n",
       "Dos Caminos Soho               1\n",
       "La Follia                      1\n",
       "Philippe Chow                  1\n",
       "'wichcraft                     1\n",
       "Name: restaurant_name, Length: 178, dtype: int64"
      ]
     },
     "execution_count": 16,
     "metadata": {},
     "output_type": "execute_result"
    }
   ],
   "source": [
    "df['restaurant_name'].value_counts()"
   ]
  },
  {
   "cell_type": "markdown",
   "id": "725178b6",
   "metadata": {},
   "source": [
    "#### Observations:\n",
    "\n",
    "* The restaurant that has received maximum number of orders is Shake Shack "
   ]
  },
  {
   "cell_type": "code",
   "execution_count": 17,
   "id": "df0650a3",
   "metadata": {},
   "outputs": [
    {
     "data": {
      "text/plain": [
       "14"
      ]
     },
     "execution_count": 17,
     "metadata": {},
     "output_type": "execute_result"
    }
   ],
   "source": [
    "df['cuisine_type'].nunique()"
   ]
  },
  {
   "cell_type": "code",
   "execution_count": 18,
   "id": "de490cf8",
   "metadata": {},
   "outputs": [
    {
     "data": {
      "text/plain": [
       "American          584\n",
       "Japanese          470\n",
       "Italian           298\n",
       "Chinese           215\n",
       "Mexican            77\n",
       "Indian             73\n",
       "Middle Eastern     49\n",
       "Mediterranean      46\n",
       "Thai               19\n",
       "French             18\n",
       "Southern           17\n",
       "Korean             13\n",
       "Spanish            12\n",
       "Vietnamese          7\n",
       "Name: cuisine_type, dtype: int64"
      ]
     },
     "execution_count": 18,
     "metadata": {},
     "output_type": "execute_result"
    }
   ],
   "source": [
    "df['cuisine_type'].value_counts()"
   ]
  },
  {
   "cell_type": "code",
   "execution_count": 19,
   "id": "95afa927",
   "metadata": {},
   "outputs": [
    {
     "data": {
      "image/png": "[encoded data removed]",
      "text/plain": [
       "<Figure size 1080x576 with 1 Axes>"
      ]
     },
     "metadata": {
      "needs_background": "light"
     },
     "output_type": "display_data"
    }
   ],
   "source": [
    "plt.figure(figsize=(15,8))\n",
    "sns.countplot(data=df,x='cuisine_type')\n",
    "plt.xticks(rotation=90);"
   ]
  },
  {
   "cell_type": "markdown",
   "id": "cf05a22b",
   "metadata": {},
   "source": [
    "#### Observations:\n",
    "\n",
    "* There are 14 unique cuisines in the dataset.\n",
    "\n",
    "* The distribution of cuisine types show that cuisine types are not equally distributed. \n",
    "\n",
    "* The most frequent cuisine type is American followed by Japanese and Italian.\n",
    "\n",
    "* Vietnamese appears to be the least popular of all the cuisines."
   ]
  },
  {
   "cell_type": "code",
   "execution_count": 20,
   "id": "0f56ad27",
   "metadata": {},
   "outputs": [
    {
     "data": {
      "image/png": "[encoded data removed]",
      "text/plain": [
       "<Figure size 1080x504 with 1 Axes>"
      ]
     },
     "metadata": {
      "needs_background": "light"
     },
     "output_type": "display_data"
    },
    {
     "data": {
      "image/png": "[encoded data removed]",
      "text/plain": [
       "<Figure size 1080x504 with 1 Axes>"
      ]
     },
     "metadata": {
      "needs_background": "light"
     },
     "output_type": "display_data"
    }
   ],
   "source": [
    "plt.figure(figsize=(15,7))\n",
    "plt.title('Histogram:Cost of Order')\n",
    "sns.histplot(data=df,x='cost_of_the_order');\n",
    "\n",
    "\n",
    "plt.figure(figsize=(15,7))\n",
    "plt.title('Boxplot: Cost of Order')\n",
    "sns.boxplot(data=df,x='cost_of_the_order');\n"
   ]
  },
  {
   "cell_type": "markdown",
   "id": "3093969a",
   "metadata": {},
   "source": [
    "#### Observations:\n",
    "\n",
    "* The average cost of the order is greater than the median cost indicating that the distribution for the cost of the order is right-skewed.\n",
    "\n",
    "* The mode of the distribution indicates that a large chunk of people prefer to order food that costs around 10-12 dollars.\n",
    "\n",
    "* There are few orders that cost greater than 30 dollars. These orders might be for some expensive meals."
   ]
  },
  {
   "cell_type": "code",
   "execution_count": 21,
   "id": "052fd0a0",
   "metadata": {},
   "outputs": [
    {
     "data": {
      "image/png": "[encoded data removed]",
      "text/plain": [
       "<Figure size 1080x504 with 1 Axes>"
      ]
     },
     "metadata": {
      "needs_background": "light"
     },
     "output_type": "display_data"
    }
   ],
   "source": [
    "plt.figure(figsize=(15,7))\n",
    "plt.title('Barchart:Day of the Week')\n",
    "sns.countplot(data=df,x='day_of_the_week');"
   ]
  },
  {
   "cell_type": "code",
   "execution_count": 22,
   "id": "c8ddb55b",
   "metadata": {},
   "outputs": [
    {
     "data": {
      "text/plain": [
       "Weekend    1351\n",
       "Weekday     547\n",
       "Name: day_of_the_week, dtype: int64"
      ]
     },
     "execution_count": 22,
     "metadata": {},
     "output_type": "execute_result"
    }
   ],
   "source": [
    "df['day_of_the_week'].value_counts()"
   ]
  },
  {
   "cell_type": "markdown",
   "id": "e9b49a91",
   "metadata": {},
   "source": [
    "#### Observations:\n",
    "\n",
    "* The 'day_of_the_week' columns consists of 2 unique values - Weekday and Weekend\n",
    "* The distribution shows that number of order placed on weekends is approximately double the number of orders placed on weekdays."
   ]
  },
  {
   "cell_type": "code",
   "execution_count": 23,
   "id": "8443a280",
   "metadata": {},
   "outputs": [
    {
     "data": {
      "text/plain": [
       "Not given    736\n",
       "5            588\n",
       "4            386\n",
       "3            188\n",
       "Name: rating, dtype: int64"
      ]
     },
     "execution_count": 23,
     "metadata": {},
     "output_type": "execute_result"
    }
   ],
   "source": [
    "df['rating'].value_counts()"
   ]
  },
  {
   "cell_type": "code",
   "execution_count": 24,
   "id": "bb43b617",
   "metadata": {},
   "outputs": [
    {
     "data": {
      "image/png": "[encoded data removed]",
      "text/plain": [
       "<Figure size 432x288 with 1 Axes>"
      ]
     },
     "metadata": {
      "needs_background": "light"
     },
     "output_type": "display_data"
    }
   ],
   "source": [
    "sns.countplot(data=df,x='rating');"
   ]
  },
  {
   "cell_type": "markdown",
   "id": "5fce7d5d",
   "metadata": {},
   "source": [
    "#### Observations:\n",
    "\n",
    "* The distribution of 'rating' shows that the most frequent rating category is 'not given', followed by a rating of 5.\n",
    "\n",
    "* Only around 200 orders have been rated 3."
   ]
  },
  {
   "cell_type": "code",
   "execution_count": 26,
   "id": "6fd57cd9",
   "metadata": {},
   "outputs": [
    {
     "data": {
      "image/png": "[encoded data removed]",
      "text/plain": [
       "<Figure size 432x288 with 1 Axes>"
      ]
     },
     "metadata": {
      "needs_background": "light"
     },
     "output_type": "display_data"
    },
    {
     "data": {
      "image/png": "[encoded data removed]",
      "text/plain": [
       "<Figure size 1080x504 with 1 Axes>"
      ]
     },
     "metadata": {
      "needs_background": "light"
     },
     "output_type": "display_data"
    }
   ],
   "source": [
    "sns.histplot(data=df,x='food_preparation_time')\n",
    "plt.show()\n",
    "\n",
    "plt.figure(figsize=(15,7))\n",
    "sns.boxplot(data=df,x='food_preparation_time');"
   ]
  },
  {
   "cell_type": "markdown",
   "id": "965baf98",
   "metadata": {},
   "source": [
    "#### Observations:\n",
    "\n",
    "* The average food preparation time is almost equal to the median food preparation time indicating that the distribution is nearly symmetrical.\n",
    "\n",
    "* The food preparation time is pretty evenly distributed between 20 and 35 minutes.\n",
    "\n",
    "* There are no outliers in this column."
   ]
  },
  {
   "cell_type": "code",
   "execution_count": 27,
   "id": "ea228353",
   "metadata": {},
   "outputs": [
    {
     "data": {
      "image/png": "[encoded data removed]",
      "text/plain": [
       "<Figure size 432x288 with 1 Axes>"
      ]
     },
     "metadata": {
      "needs_background": "light"
     },
     "output_type": "display_data"
    },
    {
     "data": {
      "image/png": "[encoded data removed]",
      "text/plain": [
       "<Figure size 1080x504 with 1 Axes>"
      ]
     },
     "metadata": {
      "needs_background": "light"
     },
     "output_type": "display_data"
    }
   ],
   "source": [
    "sns.histplot(data=df,x='delivery_time');\n",
    "\n",
    "plt.figure(figsize=(15,7))\n",
    "sns.boxplot(data=df,x='delivery_time')\n",
    "plt.show()"
   ]
  },
  {
   "cell_type": "markdown",
   "id": "4d65e66c",
   "metadata": {},
   "source": [
    "#### Observations:\n",
    "\n",
    "* The average delivery time is a bit smaller than the median delivery time indicating that the distribution is a bit left-skewed.\n",
    "\n",
    "* Comparatively more number of orders have delivery time between 24 and 30 minutes.\n",
    "\n",
    "* There are no outliers in this column."
   ]
  },
  {
   "cell_type": "markdown",
   "id": "9c8287c9",
   "metadata": {},
   "source": [
    "### Question 7: Which are the top 5 restaurants in terms of the number of orders received? [1 mark]"
   ]
  },
  {
   "cell_type": "code",
   "execution_count": 29,
   "id": "d085f5c3",
   "metadata": {},
   "outputs": [
    {
     "data": {
      "text/plain": [
       "Shake Shack                  219\n",
       "The Meatball Shop            132\n",
       "Blue Ribbon Sushi            119\n",
       "Blue Ribbon Fried Chicken     96\n",
       "Parm                          68\n",
       "Name: restaurant_name, dtype: int64"
      ]
     },
     "execution_count": 29,
     "metadata": {},
     "output_type": "execute_result"
    }
   ],
   "source": [
    "df['restaurant_name'].value_counts().head()"
   ]
  },
  {
   "cell_type": "markdown",
   "id": "7caecf77",
   "metadata": {},
   "source": [
    "#### Observations:\n",
    "\n",
    "* Top 5 popular restaurants that have received the highest number of orders **'Shake Shack', 'The Meatball Shop', 'Blue Ribbon Sushi', 'Blue Ribbon Fried Chicken' and 'Parm'**. \n",
    "\n",
    "* Almost 33% of the orders in the dataset are from these restaurants.\n"
   ]
  },
  {
   "cell_type": "markdown",
   "id": "c37ee03f",
   "metadata": {},
   "source": [
    "### Question 8: Which is the most popular cuisine on weekends? [1 mark]"
   ]
  },
  {
   "cell_type": "code",
   "execution_count": 31,
   "id": "fde6625c",
   "metadata": {},
   "outputs": [
    {
     "data": {
      "text/plain": [
       "American          415\n",
       "Japanese          335\n",
       "Italian           207\n",
       "Chinese           163\n",
       "Mexican            53\n",
       "Indian             49\n",
       "Mediterranean      32\n",
       "Middle Eastern     32\n",
       "Thai               15\n",
       "French             13\n",
       "Korean             11\n",
       "Southern           11\n",
       "Spanish            11\n",
       "Vietnamese          4\n",
       "Name: cuisine_type, dtype: int64"
      ]
     },
     "execution_count": 31,
     "metadata": {},
     "output_type": "execute_result"
    }
   ],
   "source": [
    "df_weekend = df[df['day_of_the_week']=='Weekend']\n",
    "df_weekend['cuisine_type'].value_counts()"
   ]
  },
  {
   "cell_type": "markdown",
   "id": "16b79815",
   "metadata": {},
   "source": [
    "The most popular cuisine on weekends is American"
   ]
  },
  {
   "cell_type": "markdown",
   "id": "821ca451",
   "metadata": {},
   "source": [
    "### Question 9: What percentage of the orders cost more than 20 dollars? [2 Marks]"
   ]
  },
  {
   "cell_type": "code",
   "execution_count": 39,
   "id": "2e6065a2",
   "metadata": {},
   "outputs": [
    {
     "name": "stdout",
     "output_type": "stream",
     "text": [
      "The total number of orders that costs more than 20 dollars is 555\n",
      "Percentage of orders above 20 dollars 29.24 %\n"
     ]
    }
   ],
   "source": [
    "# Get orders that are greater than 20\n",
    "df_greater_than_20 = df[df['cost_of_the_order'] > 20]\n",
    "\n",
    "# calculate the number of the total orders where the cost is above 20 dollars\n",
    "print('The total number of orders that costs more than 20 dollars is', df_greater_than_20.shape[0])\n",
    "\n",
    "#calculate the percentage of such orders in the dataset\n",
    "percentage = (df_greater_than_20.shape[0]/df.shape[0]) * 100\n",
    "\n",
    "print('Percentage of orders above 20 dollars',round(percentage,2), '%')"
   ]
  },
  {
   "cell_type": "markdown",
   "id": "928bad1e",
   "metadata": {},
   "source": [
    "#### Observations:\n",
    "\n",
    "* There are a total of 555 orders that cost above 20 dollars.\n",
    "\n",
    "* The percentage of such orders in the dataset is around 29.24%.\n"
   ]
  },
  {
   "cell_type": "markdown",
   "id": "d8186bf1",
   "metadata": {},
   "source": [
    "### Question 10: What is the mean order delivery time? [1 mark]"
   ]
  },
  {
   "cell_type": "code",
   "execution_count": 41,
   "id": "7de2f000",
   "metadata": {},
   "outputs": [
    {
     "name": "stdout",
     "output_type": "stream",
     "text": [
      "The average delivery time is 24.16 minutes\n"
     ]
    }
   ],
   "source": [
    "print('The average delivery time is', round(df['delivery_time'].mean(),2),'minutes')"
   ]
  },
  {
   "cell_type": "markdown",
   "id": "51f59579",
   "metadata": {},
   "source": [
    "### **Question 11:** The company has decided to give 20% discount vouchers to the top 5 most frequent customers. Find the IDs of these customers and the number of orders they placed. [1 mark]"
   ]
  },
  {
   "cell_type": "code",
   "execution_count": 43,
   "id": "5a6c61c4",
   "metadata": {},
   "outputs": [
    {
     "data": {
      "text/plain": [
       "52832     13\n",
       "47440     10\n",
       "83287      9\n",
       "250494     8\n",
       "259341     7\n",
       "Name: customer_id, dtype: int64"
      ]
     },
     "execution_count": 43,
     "metadata": {},
     "output_type": "execute_result"
    }
   ],
   "source": [
    "df['customer_id'].value_counts().head()"
   ]
  },
  {
   "cell_type": "markdown",
   "id": "b3c80e93",
   "metadata": {},
   "source": [
    "#### Observations:\n",
    "- Customer with ID 52832 has ordered 13 times.\n"
   ]
  },
  {
   "cell_type": "markdown",
   "id": "93648ca8",
   "metadata": {},
   "source": [
    "### **Multivariate Analysis**"
   ]
  },
  {
   "cell_type": "markdown",
   "id": "5d7987f0",
   "metadata": {},
   "source": [
    "### **Question 12:** Perform a multivariate analysis to explore relationships between the important variables in the dataset. (It is a good idea to explore relations between numerical variables as well as relations between numerical and categorical variables) [10 marks]"
   ]
  },
  {
   "cell_type": "markdown",
   "id": "ff7bf6e2",
   "metadata": {},
   "source": [
    "**Cuisine Type vs Cost**"
   ]
  },
  {
   "cell_type": "code",
   "execution_count": 50,
   "id": "8c28887f",
   "metadata": {},
   "outputs": [
    {
     "data": {
      "image/png": "[encoded data removed]",
      "text/plain": [
       "<Figure size 1440x504 with 1 Axes>"
      ]
     },
     "metadata": {
      "needs_background": "light"
     },
     "output_type": "display_data"
    }
   ],
   "source": [
    "plt.figure(figsize=(20,7))\n",
    "sns.boxplot(data=df,x='cuisine_type',y='cost_of_the_order',palette='PuBu')\n",
    "plt.xticks(rotation=60);\n",
    "\n"
   ]
  },
  {
   "cell_type": "markdown",
   "id": "ca6045de",
   "metadata": {},
   "source": [
    "**Cuisine Type vs Food Preparation Time**"
   ]
  },
  {
   "cell_type": "code",
   "execution_count": 52,
   "id": "40fe6750",
   "metadata": {},
   "outputs": [
    {
     "data": {
      "image/png": "[encoded data removed]",
      "text/plain": [
       "<Figure size 1080x504 with 1 Axes>"
      ]
     },
     "metadata": {
      "needs_background": "light"
     },
     "output_type": "display_data"
    }
   ],
   "source": [
    "plt.figure(figsize=(15,7))\n",
    "sns.boxplot(data=df,x='cuisine_type',y='food_preparation_time')\n",
    "plt.xticks(rotation=60)\n",
    "plt.show()"
   ]
  },
  {
   "cell_type": "markdown",
   "id": "9ca0fc5b",
   "metadata": {},
   "source": [
    "#### Observations:\n",
    "\n",
    "* Food preparation time is very consistent for most of the cuisines. \n",
    "* The median food preparation time lies between 24 and 30 minutes for all the cuisines.\n",
    "* Outliers are present for the food preparation time of Korean cuisine.\n",
    "* Korean cuisine takes less time compared to the other cuisines."
   ]
  },
  {
   "cell_type": "markdown",
   "id": "fec6d6d1",
   "metadata": {},
   "source": [
    "### Rating vs Cost"
   ]
  },
  {
   "cell_type": "code",
   "execution_count": 55,
   "id": "4cf9880c",
   "metadata": {},
   "outputs": [
    {
     "data": {
      "image/png": "[encoded data removed]",
      "text/plain": [
       "<Figure size 1080x504 with 1 Axes>"
      ]
     },
     "metadata": {
      "needs_background": "light"
     },
     "output_type": "display_data"
    }
   ],
   "source": [
    "plt.figure(figsize=(15,7))\n",
    "sns.pointplot(data=df,x='rating',y='cost_of_the_order')\n",
    "plt.show()"
   ]
  },
  {
   "cell_type": "markdown",
   "id": "dab9ff5d",
   "metadata": {},
   "source": [
    "#### Observations\n",
    "\n",
    "* It seems that high-cost orders have been rated well and low-cost orders have not been rated."
   ]
  },
  {
   "cell_type": "code",
   "execution_count": 56,
   "id": "5a363945",
   "metadata": {},
   "outputs": [
    {
     "data": {
      "image/png": "[encoded data removed]",
      "text/plain": [
       "<Figure size 1080x504 with 1 Axes>"
      ]
     },
     "metadata": {
      "needs_background": "light"
     },
     "output_type": "display_data"
    }
   ],
   "source": [
    "plt.figure(figsize=(15,7))\n",
    "sns.pointplot(data=df,x='rating',y='delivery_time')\n",
    "plt.show()"
   ]
  },
  {
   "cell_type": "markdown",
   "id": "7912fbf4",
   "metadata": {},
   "source": [
    "#### Observations:\n",
    "​\n",
    "* It is possible that delivery time plays a role in the low-rating of the orders.\n"
   ]
  },
  {
   "cell_type": "code",
   "execution_count": 57,
   "id": "008defa0",
   "metadata": {},
   "outputs": [
    {
     "data": {
      "image/png": "[encoded data removed]",
      "text/plain": [
       "<Figure size 1080x504 with 1 Axes>"
      ]
     },
     "metadata": {
      "needs_background": "light"
     },
     "output_type": "display_data"
    }
   ],
   "source": [
    "plt.figure(figsize=(15,7))\n",
    "sns.boxplot(data=df,x='cuisine_type',y='delivery_time')\n",
    "plt.xticks(rotation=60);"
   ]
  },
  {
   "cell_type": "code",
   "execution_count": 58,
   "id": "7c4e9807",
   "metadata": {},
   "outputs": [
    {
     "data": {
      "image/png": "[encoded data removed]",
      "text/plain": [
       "<Figure size 1080x504 with 1 Axes>"
      ]
     },
     "metadata": {
      "needs_background": "light"
     },
     "output_type": "display_data"
    }
   ],
   "source": [
    "plt.figure(figsize=(15,7))\n",
    "sns.pointplot(data=df,x='cuisine_type',y='delivery_time')\n",
    "plt.xticks(rotation=60);"
   ]
  },
  {
   "cell_type": "markdown",
   "id": "dbaaa453",
   "metadata": {},
   "source": [
    "#### Observations:\n",
    "\n",
    "* Generally, Korean meals are delivered earlier than other cuisine types.\n",
    "* Vietnamese cuisines take the longest to deliver."
   ]
  },
  {
   "cell_type": "code",
   "execution_count": 59,
   "id": "6b1c774b",
   "metadata": {},
   "outputs": [
    {
     "data": {
      "image/png": "[encoded data removed]",
      "text/plain": [
       "<Figure size 1080x504 with 1 Axes>"
      ]
     },
     "metadata": {
      "needs_background": "light"
     },
     "output_type": "display_data"
    }
   ],
   "source": [
    "plt.figure(figsize=(15,7))\n",
    "sns.boxplot(data=df,x='day_of_the_week',y='delivery_time')\n",
    "plt.show()"
   ]
  },
  {
   "cell_type": "code",
   "execution_count": 60,
   "id": "8e2c4676",
   "metadata": {},
   "outputs": [
    {
     "data": {
      "image/png": "[encoded data removed]",
      "text/plain": [
       "<Figure size 1080x504 with 1 Axes>"
      ]
     },
     "metadata": {
      "needs_background": "light"
     },
     "output_type": "display_data"
    }
   ],
   "source": [
    "plt.figure(figsize=(15,7))\n",
    "sns.pointplot(data=df,x='day_of_the_week',y='delivery_time')\n",
    "plt.show()"
   ]
  },
  {
   "cell_type": "markdown",
   "id": "dde6a64d",
   "metadata": {},
   "source": [
    "#### Observations:\n",
    "​\n",
    "* The delivery time for all the orders over the weekends is less compared to weekdays. This could be due to the dip in traffic over the weekends."
   ]
  },
  {
   "cell_type": "code",
   "execution_count": 61,
   "id": "01e8cc50",
   "metadata": {},
   "outputs": [
    {
     "data": {
      "image/png": "[encoded data removed]",
      "text/plain": [
       "<Figure size 1080x504 with 1 Axes>"
      ]
     },
     "metadata": {
      "needs_background": "light"
     },
     "output_type": "display_data"
    }
   ],
   "source": [
    "plt.figure(figsize=(15,7))\n",
    "sns.boxplot(data=df,x='day_of_the_week',y='cost_of_the_order')\n",
    "plt.show()"
   ]
  },
  {
   "cell_type": "markdown",
   "id": "28995dc9",
   "metadata": {},
   "source": [
    "The distribution for both weekend and weekday are similar"
   ]
  },
  {
   "cell_type": "markdown",
   "id": "2fbc8c12",
   "metadata": {},
   "source": [
    "### Revenue generated by the Restaurants"
   ]
  },
  {
   "cell_type": "code",
   "execution_count": 63,
   "id": "4185291b",
   "metadata": {},
   "outputs": [
    {
     "data": {
      "text/plain": [
       "restaurant_name\n",
       "Shake Shack                      3579.53\n",
       "The Meatball Shop                2145.21\n",
       "Blue Ribbon Sushi                1903.95\n",
       "Blue Ribbon Fried Chicken        1662.29\n",
       "Parm                             1112.76\n",
       "RedFarm Broadway                  965.13\n",
       "RedFarm Hudson                    921.21\n",
       "TAO                               834.50\n",
       "Han Dynasty                       755.29\n",
       "Blue Ribbon Sushi Bar & Grill     666.62\n",
       "Rubirosa                          660.45\n",
       "Sushi of Gari 46                  640.87\n",
       "Nobu Next Door                    623.67\n",
       "Five Guys Burgers and Fries       506.47\n",
       "Name: cost_of_the_order, dtype: float64"
      ]
     },
     "execution_count": 63,
     "metadata": {},
     "output_type": "execute_result"
    }
   ],
   "source": [
    "df.groupby(['restaurant_name'])['cost_of_the_order'].sum().sort_values(ascending=False).head(14)"
   ]
  },
  {
   "cell_type": "markdown",
   "id": "1e66b6fa",
   "metadata": {},
   "source": [
    "#### Observations:\n",
    "​\n",
    "* The above 14 restaurants are generating more than 500 dollars revenue."
   ]
  },
  {
   "cell_type": "markdown",
   "id": "b828874f",
   "metadata": {},
   "source": [
    "### **Correlation among variables**"
   ]
  },
  {
   "cell_type": "code",
   "execution_count": 64,
   "id": "4d99c2b5",
   "metadata": {},
   "outputs": [
    {
     "data": {
      "image/png": "[encoded data removed]",
      "text/plain": [
       "<Figure size 432x288 with 2 Axes>"
      ]
     },
     "metadata": {
      "needs_background": "light"
     },
     "output_type": "display_data"
    }
   ],
   "source": [
    "col_list = ['cost_of_the_order','delivery_time','food_preparation_time']\n",
    "\n",
    "plt.figure\n",
    "sns.heatmap(df[col_list].corr(),annot=True,fmt='.2f',vmin=-1,vmax=1,cmap='Spectral')\n",
    "plt.show()"
   ]
  },
  {
   "cell_type": "markdown",
   "id": "a3090aac",
   "metadata": {},
   "source": [
    "#### Observations:\n",
    "\n",
    "* There is no correlation between cost of the order, delivery time and food preparation time.\n"
   ]
  },
  {
   "cell_type": "markdown",
   "id": "ea8737e4",
   "metadata": {},
   "source": [
    "### **Question 13:** The company wants to provide a promotional offer in the advertisement of the restaurants. The condition to get the offer is that the restaurants must have a rating count of more than 50 and the average rating should be greater than 4. Find the restaurants fulfilling the criteria to get the promotional offer. [3 marks]"
   ]
  },
  {
   "cell_type": "code",
   "execution_count": 95,
   "id": "934e3fc0",
   "metadata": {},
   "outputs": [
    {
     "data": {
      "text/html": [
       "<div>\n",
       "<style scoped>\n",
       "    .dataframe tbody tr th:only-of-type {\n",
       "        vertical-align: middle;\n",
       "    }\n",
       "\n",
       "    .dataframe tbody tr th {\n",
       "        vertical-align: top;\n",
       "    }\n",
       "\n",
       "    .dataframe thead th {\n",
       "        text-align: right;\n",
       "    }\n",
       "</style>\n",
       "<table border=\"1\" class=\"dataframe\">\n",
       "  <thead>\n",
       "    <tr style=\"text-align: right;\">\n",
       "      <th></th>\n",
       "      <th>restaurant_name</th>\n",
       "      <th>rating</th>\n",
       "    </tr>\n",
       "  </thead>\n",
       "  <tbody>\n",
       "    <tr>\n",
       "      <th>0</th>\n",
       "      <td>Shake Shack</td>\n",
       "      <td>133</td>\n",
       "    </tr>\n",
       "    <tr>\n",
       "      <th>1</th>\n",
       "      <td>The Meatball Shop</td>\n",
       "      <td>84</td>\n",
       "    </tr>\n",
       "    <tr>\n",
       "      <th>2</th>\n",
       "      <td>Blue Ribbon Sushi</td>\n",
       "      <td>73</td>\n",
       "    </tr>\n",
       "    <tr>\n",
       "      <th>3</th>\n",
       "      <td>Blue Ribbon Fried Chicken</td>\n",
       "      <td>64</td>\n",
       "    </tr>\n",
       "    <tr>\n",
       "      <th>4</th>\n",
       "      <td>RedFarm Broadway</td>\n",
       "      <td>41</td>\n",
       "    </tr>\n",
       "  </tbody>\n",
       "</table>\n",
       "</div>"
      ],
      "text/plain": [
       "             restaurant_name  rating\n",
       "0                Shake Shack     133\n",
       "1          The Meatball Shop      84\n",
       "2          Blue Ribbon Sushi      73\n",
       "3  Blue Ribbon Fried Chicken      64\n",
       "4           RedFarm Broadway      41"
      ]
     },
     "execution_count": 95,
     "metadata": {},
     "output_type": "execute_result"
    }
   ],
   "source": [
    "# filter the rated restaurants\n",
    "df_rated = df[df['rating'] != 'Not given'].copy()\n",
    "# convert rating column from object to integer\n",
    "df_rated['rating'] = df_rated['rating'].astype('int')\n",
    "# create a dataframe that contains the restaurant names with their rating counts\n",
    "df_rating_count = df_rated.groupby(['restaurant_name'])['rating'].count().sort_values(ascending = False).reset_index()\n",
    "df_rating_count.head()"
   ]
  },
  {
   "cell_type": "code",
   "execution_count": 96,
   "id": "fd41663a",
   "metadata": {},
   "outputs": [
    {
     "data": {
      "text/html": [
       "<div>\n",
       "<style scoped>\n",
       "    .dataframe tbody tr th:only-of-type {\n",
       "        vertical-align: middle;\n",
       "    }\n",
       "\n",
       "    .dataframe tbody tr th {\n",
       "        vertical-align: top;\n",
       "    }\n",
       "\n",
       "    .dataframe thead th {\n",
       "        text-align: right;\n",
       "    }\n",
       "</style>\n",
       "<table border=\"1\" class=\"dataframe\">\n",
       "  <thead>\n",
       "    <tr style=\"text-align: right;\">\n",
       "      <th></th>\n",
       "      <th>restaurant_name</th>\n",
       "      <th>rating</th>\n",
       "    </tr>\n",
       "  </thead>\n",
       "  <tbody>\n",
       "    <tr>\n",
       "      <th>0</th>\n",
       "      <td>The Meatball Shop</td>\n",
       "      <td>4.511905</td>\n",
       "    </tr>\n",
       "    <tr>\n",
       "      <th>1</th>\n",
       "      <td>Blue Ribbon Fried Chicken</td>\n",
       "      <td>4.328125</td>\n",
       "    </tr>\n",
       "    <tr>\n",
       "      <th>2</th>\n",
       "      <td>Shake Shack</td>\n",
       "      <td>4.278195</td>\n",
       "    </tr>\n",
       "    <tr>\n",
       "      <th>3</th>\n",
       "      <td>Blue Ribbon Sushi</td>\n",
       "      <td>4.219178</td>\n",
       "    </tr>\n",
       "  </tbody>\n",
       "</table>\n",
       "</div>"
      ],
      "text/plain": [
       "             restaurant_name    rating\n",
       "0          The Meatball Shop  4.511905\n",
       "1  Blue Ribbon Fried Chicken  4.328125\n",
       "2                Shake Shack  4.278195\n",
       "3          Blue Ribbon Sushi  4.219178"
      ]
     },
     "execution_count": 96,
     "metadata": {},
     "output_type": "execute_result"
    }
   ],
   "source": [
    "# get the restaurant names that have rating count more than 50\n",
    "rest_names = df_rating_count[df_rating_count['rating'] > 50]['restaurant_name']\n",
    "# filter to get the data of restaurants that have rating count more than 50\n",
    "df_mean_4 = df_rated[df_rated['restaurant_name'].isin(rest_names)].copy()\n",
    "# find the mean rating of the restaurants\n",
    "df_mean_4.groupby(df_mean_4['restaurant_name'])['rating'].mean().sort_values(ascending = False).reset_index()"
   ]
  },
  {
   "cell_type": "markdown",
   "id": "0de975fb",
   "metadata": {},
   "source": [
    "#### Observations:\n",
    "\n",
    "* The restaurants fulfilling the criteria to get the promotional offer are: **'The Meatball Shop', 'Blue Ribbon Fried Chicken',  'Shake Shack' and 'Blue Ribbon Sushi'**.\n"
   ]
  },
  {
   "cell_type": "code",
   "execution_count": 97,
   "id": "7653ffc8",
   "metadata": {},
   "outputs": [
    {
     "data": {
      "text/plain": [
       "0                  Shake Shack\n",
       "1            The Meatball Shop\n",
       "2            Blue Ribbon Sushi\n",
       "3    Blue Ribbon Fried Chicken\n",
       "Name: restaurant_name, dtype: object"
      ]
     },
     "execution_count": 97,
     "metadata": {},
     "output_type": "execute_result"
    }
   ],
   "source": [
    "rest_names.head()"
   ]
  },
  {
   "cell_type": "markdown",
   "id": "21f4a1fd",
   "metadata": {},
   "source": [
    "### **Question 14:** The company charges the restaurant 25% on the orders having cost greater than 20 dollars and 15% on the orders having cost greater than 5 dollars. Find the net revenue generated by the company across all orders. [3 marks]"
   ]
  },
  {
   "cell_type": "code",
   "execution_count": 98,
   "id": "82ff7408",
   "metadata": {},
   "outputs": [
    {
     "data": {
      "text/html": [
       "<div>\n",
       "<style scoped>\n",
       "    .dataframe tbody tr th:only-of-type {\n",
       "        vertical-align: middle;\n",
       "    }\n",
       "\n",
       "    .dataframe tbody tr th {\n",
       "        vertical-align: top;\n",
       "    }\n",
       "\n",
       "    .dataframe thead th {\n",
       "        text-align: right;\n",
       "    }\n",
       "</style>\n",
       "<table border=\"1\" class=\"dataframe\">\n",
       "  <thead>\n",
       "    <tr style=\"text-align: right;\">\n",
       "      <th></th>\n",
       "      <th>order_id</th>\n",
       "      <th>customer_id</th>\n",
       "      <th>restaurant_name</th>\n",
       "      <th>cuisine_type</th>\n",
       "      <th>cost_of_the_order</th>\n",
       "      <th>day_of_the_week</th>\n",
       "      <th>rating</th>\n",
       "      <th>food_preparation_time</th>\n",
       "      <th>delivery_time</th>\n",
       "      <th>Revenue</th>\n",
       "    </tr>\n",
       "  </thead>\n",
       "  <tbody>\n",
       "    <tr>\n",
       "      <th>0</th>\n",
       "      <td>1477147</td>\n",
       "      <td>337525</td>\n",
       "      <td>Hangawi</td>\n",
       "      <td>Korean</td>\n",
       "      <td>30.75</td>\n",
       "      <td>Weekend</td>\n",
       "      <td>Not given</td>\n",
       "      <td>25</td>\n",
       "      <td>20</td>\n",
       "      <td>7.6875</td>\n",
       "    </tr>\n",
       "    <tr>\n",
       "      <th>1</th>\n",
       "      <td>1477685</td>\n",
       "      <td>358141</td>\n",
       "      <td>Blue Ribbon Sushi Izakaya</td>\n",
       "      <td>Japanese</td>\n",
       "      <td>12.08</td>\n",
       "      <td>Weekend</td>\n",
       "      <td>Not given</td>\n",
       "      <td>25</td>\n",
       "      <td>23</td>\n",
       "      <td>1.8120</td>\n",
       "    </tr>\n",
       "    <tr>\n",
       "      <th>2</th>\n",
       "      <td>1477070</td>\n",
       "      <td>66393</td>\n",
       "      <td>Cafe Habana</td>\n",
       "      <td>Mexican</td>\n",
       "      <td>12.23</td>\n",
       "      <td>Weekday</td>\n",
       "      <td>5</td>\n",
       "      <td>23</td>\n",
       "      <td>28</td>\n",
       "      <td>1.8345</td>\n",
       "    </tr>\n",
       "    <tr>\n",
       "      <th>3</th>\n",
       "      <td>1477334</td>\n",
       "      <td>106968</td>\n",
       "      <td>Blue Ribbon Fried Chicken</td>\n",
       "      <td>American</td>\n",
       "      <td>29.20</td>\n",
       "      <td>Weekend</td>\n",
       "      <td>3</td>\n",
       "      <td>25</td>\n",
       "      <td>15</td>\n",
       "      <td>7.3000</td>\n",
       "    </tr>\n",
       "    <tr>\n",
       "      <th>4</th>\n",
       "      <td>1478249</td>\n",
       "      <td>76942</td>\n",
       "      <td>Dirty Bird to Go</td>\n",
       "      <td>American</td>\n",
       "      <td>11.59</td>\n",
       "      <td>Weekday</td>\n",
       "      <td>4</td>\n",
       "      <td>25</td>\n",
       "      <td>24</td>\n",
       "      <td>1.7385</td>\n",
       "    </tr>\n",
       "  </tbody>\n",
       "</table>\n",
       "</div>"
      ],
      "text/plain": [
       "   order_id  customer_id            restaurant_name cuisine_type  \\\n",
       "0   1477147       337525                    Hangawi       Korean   \n",
       "1   1477685       358141  Blue Ribbon Sushi Izakaya     Japanese   \n",
       "2   1477070        66393                Cafe Habana      Mexican   \n",
       "3   1477334       106968  Blue Ribbon Fried Chicken     American   \n",
       "4   1478249        76942           Dirty Bird to Go     American   \n",
       "\n",
       "   cost_of_the_order day_of_the_week     rating  food_preparation_time  \\\n",
       "0              30.75         Weekend  Not given                     25   \n",
       "1              12.08         Weekend  Not given                     25   \n",
       "2              12.23         Weekday          5                     23   \n",
       "3              29.20         Weekend          3                     25   \n",
       "4              11.59         Weekday          4                     25   \n",
       "\n",
       "   delivery_time  Revenue  \n",
       "0             20   7.6875  \n",
       "1             23   1.8120  \n",
       "2             28   1.8345  \n",
       "3             15   7.3000  \n",
       "4             24   1.7385  "
      ]
     },
     "execution_count": 98,
     "metadata": {},
     "output_type": "execute_result"
    }
   ],
   "source": [
    "# function to determine net value\n",
    "def compute_rev(x):\n",
    "    if x>20:\n",
    "        return x*0.25\n",
    "    elif x>5:\n",
    "        return x*0.15\n",
    "    else:\n",
    "        return x*0\n",
    "    \n",
    "    \n",
    "df['Revenue'] = df['cost_of_the_order'].apply(compute_rev)\n",
    "df.head()"
   ]
  },
  {
   "cell_type": "code",
   "execution_count": 99,
   "id": "c06a8afc",
   "metadata": {},
   "outputs": [
    {
     "name": "stdout",
     "output_type": "stream",
     "text": [
      "The net revenue is around 6166.3 dollars\n"
     ]
    }
   ],
   "source": [
    "# to get the total revenue and print it\n",
    "total_rev = df['Revenue'].sum()\n",
    "\n",
    "print('The net revenue is around',round(total_rev,2), 'dollars')"
   ]
  },
  {
   "cell_type": "markdown",
   "id": "711975bb",
   "metadata": {},
   "source": [
    "#### Observations:\n",
    "\n",
    "* The net revenue generated on all the orders given in the dataset is around 6166.3 dollars.\n"
   ]
  },
  {
   "cell_type": "markdown",
   "id": "16a866ee",
   "metadata": {},
   "source": [
    "### Question 15: The company wants to analyze the total time required to deliver the food. What percentage of orders take more than 60 minutes to get delivered from the time the order is placed? (The food has to be prepared and then delivered.) [2 marks]"
   ]
  },
  {
   "cell_type": "code",
   "execution_count": 100,
   "id": "06889d8e",
   "metadata": {},
   "outputs": [
    {
     "name": "stdout",
     "output_type": "stream",
     "text": [
      "The percentage of orders that have more than 60 minutes of total food delivery time is 10.54 %\n"
     ]
    }
   ],
   "source": [
    "# create a new column and add both food preparation time and delivery time\n",
    "df['total_time'] = df['food_preparation_time'] + df['delivery_time']\n",
    "\n",
    "print('The percentage of orders that have more than 60 minutes of total food delivery time is',\n",
    "round(df[df['total_time']>60].shape[0]/df.shape[0] *100,2),'%')"
   ]
  },
  {
   "cell_type": "markdown",
   "id": "8241124c",
   "metadata": {},
   "source": [
    "### **Question 16:** The company wants to analyze the delivery time of the orders on weekdays and weekends. How does the mean delivery time vary during weekdays and weekends? [2 marks]"
   ]
  },
  {
   "cell_type": "code",
   "execution_count": 101,
   "id": "041793b6",
   "metadata": {},
   "outputs": [
    {
     "name": "stdout",
     "output_type": "stream",
     "text": [
      "The average delivery time for weekend is 30357 minutes\n"
     ]
    }
   ],
   "source": [
    "# get the delivery time on weekend and print \n",
    "print('The average delivery time for weekend is', round(df[df['day_of_the_week']=='Weekend'])['delivery_time'].sum(),'minutes')"
   ]
  },
  {
   "cell_type": "code",
   "execution_count": 103,
   "id": "fb85db33",
   "metadata": {},
   "outputs": [
    {
     "name": "stdout",
     "output_type": "stream",
     "text": [
      "The average delivery time for weekdays is 15502 minutes\n"
     ]
    }
   ],
   "source": [
    "# get the delivery time on weekday and print \n",
    "print('The average delivery time for weekdays is', round(df[df['day_of_the_week']=='Weekday'])['delivery_time'].sum(),'minutes')"
   ]
  },
  {
   "cell_type": "markdown",
   "id": "9c307dd8",
   "metadata": {},
   "source": [
    "#### Observations:\n",
    "\n",
    "* The mean delivery time on weekdays is around 28 minutes whereas the mean delivery time on weekends is around 22 minutes.\n",
    "\n",
    "* This could be due to the dip of traffic volume in the weekends."
   ]
  },
  {
   "cell_type": "markdown",
   "id": "bfd090a7",
   "metadata": {},
   "source": [
    "### Conclusions:\n",
    "\n",
    "* Around 80% of the orders are for American, Japanese, Italian and Chinese cuisines. Thus, it seems that these cuisines are quite popular among customers of FoodHub. \n",
    "* Shake Shack is the most popular restaurant that has received the highest number of orders.\n",
    "* Order volumes increase on the weekends compared to the weekdays.\n",
    "* Delivery time over the weekends is less compared to the weekdays. This could be due to the dip in traffic volume over the weekends.\n",
    "* Around 39% of the orders have not been rated."
   ]
  },
  {
   "cell_type": "markdown",
   "id": "1c2c3c49",
   "metadata": {},
   "source": [
    "### Business Recommendations:\n",
    "\n",
    "* FoodHub should integrate with restaurants serving American, Japanese, Italian and Chinese cuisines as these cuisines are very popular among FoodHub customers. \n",
    "\n",
    "* FoodHub should provide promotional offers to top-rated popular restaurants like Shake Shack that serve most of the orders. \n",
    "\n",
    "* As the order volume is high during the weekends, more delivery persons should be employed during the weekends to ensure timely delivery of the order. Weekend promotional offers should be given to the customers to increase the food orders during weekends.\n",
    "\n",
    "* Customer Rating is a very important factor to gauge customer satisfaction. The company should investigate the reason behind the low count of ratings. They can redesign the rating page in the app and make it more interactive to lure the customers to rate the order. \n",
    "\n",
    "* Around 11% of the total orders have more than 60 minutes of total delivery time. FoodHub should try to minimize such instances in order to avoid customer dissatisfaction. They can provide some reward to the punctual delivery persons."
   ]
  }
 ],
 "metadata": {
  "kernelspec": {
   "display_name": "Python 3 (ipykernel)",
   "language": "python",
   "name": "python3"
  },
  "language_info": {
   "codemirror_mode": {
    "name": "ipython",
    "version": 3
   },
   "file_extension": ".py",
   "mimetype": "text/x-python",
   "name": "python",
   "nbconvert_exporter": "python",
   "pygments_lexer": "ipython3",
   "version": "3.9.12"
  }
 },
 "nbformat": 4,
 "nbformat_minor": 5
}
